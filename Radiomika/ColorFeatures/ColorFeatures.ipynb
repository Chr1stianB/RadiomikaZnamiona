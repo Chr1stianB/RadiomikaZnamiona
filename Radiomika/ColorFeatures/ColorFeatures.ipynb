{
 "cells": [
  {
   "cell_type": "code",
   "execution_count": 1,
   "id": "1341f938",
   "metadata": {},
   "outputs": [],
   "source": [
    "import cv2\n",
    "import numpy as np\n",
    "import os\n",
    "import pandas as pd\n",
    "import random\n",
    "from imutils import paths\n",
    "\n",
    "\n",
    "from PIL import Image\n",
    "from sklearn.model_selection import train_test_split, GridSearchCV\n",
    "from collections import Counter\n"
   ]
  },
  {
   "cell_type": "code",
   "execution_count": 2,
   "id": "52f407b7",
   "metadata": {},
   "outputs": [],
   "source": [
    "def color_extraction(img):\n",
    "    b, g, r = cv2.split(img)\n",
    "    mean_b, std_b = cv2.meanStdDev(b)\n",
    "    mean_g, std_g = cv2.meanStdDev(g)\n",
    "    mean_r, std_r = cv2.meanStdDev(r)\n",
    "    return {\"mean_b\": mean_b, \"std_b\": std_b, \"mean_g\": mean_g, \"std_g\": std_g, \"mean_r\": mean_r, \"std_r\": std_r}\n",
    "    "
   ]
  },
  {
   "cell_type": "code",
   "execution_count": 3,
   "id": "e2ed8ba0",
   "metadata": {},
   "outputs": [],
   "source": [
    "DATASET_PATH = \"../Datasets/OrigDataset\"\n",
    "CSV_FILE_PATH = os.path.join(DATASET_PATH, \"GroundTruth.csv\")\n",
    "# define the path to the images and masks dataset\n",
    "SEG_PATH = \"../Datasets/new_data\"\n",
    "IMAGE_DATASET_PATH = os.path.join(SEG_PATH, \"originals\")\n",
    "MASK_DATASET_PATH = os.path.join(SEG_PATH, \"masks\")\n"
   ]
  },
  {
   "cell_type": "code",
   "execution_count": 15,
   "id": "c24b4a27",
   "metadata": {},
   "outputs": [],
   "source": [
    "# Type of tumor\n",
    "melanoma = []\n",
    "nevus = []\n",
    "basal_cell_carcinoma = []\n",
    "actinic_keratoses_and_intraepithelial_carcinoma = []\n",
    "benign_keratosis_like_lesions = []\n",
    "dermatofibroma  = []\n",
    "vascular_lesion = []\n",
    "\n",
    "lesion_dict = {\n",
    "    \"MEL\": 0, \n",
    "    \"NV\": 1,\n",
    "    \"BCC\": 2,\n",
    "    \"AKIEC\": 3,\n",
    "    \"BKL\": 4,\n",
    "    \"DF\": 5,\n",
    "    \"VASC\": 6\n",
    "}\n",
    "\n",
    "new_lesion_dict = {\n",
    "    0: [], \n",
    "    1: [],\n",
    "    2: [],\n",
    "    3: [],\n",
    "    4: [],\n",
    "    5: [],\n",
    "    6: []\n",
    "}\n",
    "\n"
   ]
  },
  {
   "cell_type": "code",
   "execution_count": 5,
   "id": "6a1f6fa4",
   "metadata": {},
   "outputs": [],
   "source": [
    "imagePaths = sorted(list(paths.list_images(IMAGE_DATASET_PATH)))\n",
    "maskPaths = sorted(list(paths.list_images(MASK_DATASET_PATH)))\n"
   ]
  },
  {
   "cell_type": "code",
   "execution_count": 6,
   "id": "6c9f7a31",
   "metadata": {},
   "outputs": [],
   "source": [
    "results = []\n",
    "\n",
    "for i in range(len(imagePaths)):\n",
    "    path_original = imagePaths[i]\n",
    "    path_label = maskPaths[i]\n",
    "    \n",
    "    original = cv2.imread(path_original)\n",
    "    label = cv2.imread(path_label, 0)\n",
    "    \n",
    "    # Expand dimensions of mask array\n",
    "    y = np.expand_dims(label, axis=2)\n",
    "    newmask = np.concatenate((y, y, y), axis=2)\n",
    "    \n",
    "    # Multiply new mask with image\n",
    "    cob = original * newmask\n",
    "    #original = original.squeeze()\n",
    "    #original.save(\"original.png\")\n",
    "\n",
    "    result = color_extraction(cob)\n",
    "    results.append(result)\n",
    "    \n",
    "feature_names = list(sorted(filter ( lambda k: k.startswith(\"\"), results[0] )))\n"
   ]
  },
  {
   "cell_type": "code",
   "execution_count": 7,
   "id": "ce76d723",
   "metadata": {},
   "outputs": [
    {
     "data": {
      "text/plain": [
       "['mean_b', 'mean_g', 'mean_r', 'std_b', 'std_g', 'std_r']"
      ]
     },
     "execution_count": 7,
     "metadata": {},
     "output_type": "execute_result"
    }
   ],
   "source": [
    "feature_names "
   ]
  },
  {
   "cell_type": "code",
   "execution_count": 8,
   "id": "9c5a229f",
   "metadata": {},
   "outputs": [],
   "source": [
    "df = pd.read_csv(CSV_FILE_PATH)\n",
    "categories = []\n",
    "for index, row in df.iterrows():\n",
    "    if row.eq(1).any():\n",
    "        categories.append(lesion_dict[row[row.eq(1)].index[0]])\n",
    "        "
   ]
  },
  {
   "cell_type": "code",
   "execution_count": 9,
   "id": "ef6dfc8f",
   "metadata": {},
   "outputs": [],
   "source": [
    "samples = np.zeros((len(imagePaths),len(feature_names)))\n",
    "for case_id in range(0 ,len(imagePaths)):\n",
    "    a = np.array([])\n",
    "    for feature_name in feature_names:\n",
    "        a = np.append(a, results[case_id][feature_name])\n",
    "    samples[case_id,:] = a\n",
    "    \n",
    "# May have NaNs\n",
    "samples = np.nan_to_num(samples)\n"
   ]
  },
  {
   "cell_type": "code",
   "execution_count": null,
   "id": "3e0a63b6",
   "metadata": {},
   "outputs": [],
   "source": [
    "samples"
   ]
  },
  {
   "cell_type": "code",
   "execution_count": null,
   "id": "b082986a",
   "metadata": {},
   "outputs": [],
   "source": []
  },
  {
   "cell_type": "code",
   "execution_count": null,
   "id": "31847353",
   "metadata": {},
   "outputs": [],
   "source": [
    "len(categories)\n"
   ]
  },
  {
   "cell_type": "code",
   "execution_count": null,
   "id": "779fc96b",
   "metadata": {},
   "outputs": [],
   "source": [
    "len(samples)\n"
   ]
  },
  {
   "cell_type": "code",
   "execution_count": 11,
   "id": "6c66111b",
   "metadata": {},
   "outputs": [
    {
     "data": {
      "text/plain": [
       "Counter({1: 6705, 0: 1113, 4: 1099, 2: 514, 3: 327, 6: 142, 5: 115})"
      ]
     },
     "execution_count": 11,
     "metadata": {},
     "output_type": "execute_result"
    }
   ],
   "source": [
    "Counter(categories)\n"
   ]
  },
  {
   "cell_type": "code",
   "execution_count": 16,
   "id": "187332c4",
   "metadata": {},
   "outputs": [],
   "source": [
    "for i in range(len(categories)):\n",
    "    new_lesion_dict[categories[i]].append(samples[i])\n",
    "        "
   ]
  },
  {
   "cell_type": "code",
   "execution_count": null,
   "id": "d837fb95",
   "metadata": {},
   "outputs": [],
   "source": [
    "X =[]\n",
    "y = []\n",
    "for category in new_lesion_dict:\n",
    "    for i in range(len(category)):\n",
    "        X.append(new_lesion_dict[category][i])\n",
    "        y.append(category)\n",
    "\n"
   ]
  },
  {
   "cell_type": "code",
   "execution_count": null,
   "id": "4161f4ad",
   "metadata": {},
   "outputs": [],
   "source": [
    "df = pd.DataFrame()\n"
   ]
  },
  {
   "cell_type": "code",
   "execution_count": null,
   "id": "754a1be9",
   "metadata": {},
   "outputs": [],
   "source": [
    "column_names = feature_names.copy()\n"
   ]
  },
  {
   "cell_type": "code",
   "execution_count": null,
   "id": "6af759a2",
   "metadata": {},
   "outputs": [],
   "source": [
    "column_names.append('categories')\n"
   ]
  },
  {
   "cell_type": "code",
   "execution_count": null,
   "id": "325e0559",
   "metadata": {},
   "outputs": [],
   "source": [
    "for col in column_names:\n",
    "    df[col] = []\n",
    "    "
   ]
  },
  {
   "cell_type": "code",
   "execution_count": null,
   "id": "d58f0740",
   "metadata": {},
   "outputs": [],
   "source": [
    "df\n"
   ]
  },
  {
   "cell_type": "code",
   "execution_count": null,
   "id": "d6bf36f5",
   "metadata": {},
   "outputs": [],
   "source": [
    "list_of_arrays = X.copy()\n",
    "single_list = y.copy()\n"
   ]
  },
  {
   "cell_type": "code",
   "execution_count": null,
   "id": "8fc81460",
   "metadata": {},
   "outputs": [],
   "source": [
    "len(list_of_arrays[0])\n"
   ]
  },
  {
   "cell_type": "code",
   "execution_count": null,
   "id": "080ebaec",
   "metadata": {},
   "outputs": [],
   "source": [
    "for i in range(len(list_of_arrays)):\n",
    "    if i < len(single_list):\n",
    "        list_of_arrays[i] = np.append(list_of_arrays[i], single_list[i])\n"
   ]
  },
  {
   "cell_type": "code",
   "execution_count": null,
   "id": "e409cd1f",
   "metadata": {},
   "outputs": [],
   "source": [
    "len(list_of_arrays[0])\n"
   ]
  },
  {
   "cell_type": "code",
   "execution_count": null,
   "id": "bb714ed7",
   "metadata": {},
   "outputs": [],
   "source": [
    "for array in list_of_arrays:\n",
    "    df = df.append(pd.DataFrame([array], columns=df.columns), ignore_index=True)\n",
    "    "
   ]
  },
  {
   "cell_type": "code",
   "execution_count": null,
   "id": "e9ea5f71",
   "metadata": {},
   "outputs": [],
   "source": [
    "df['categories'] = df['categories'].astype(int)\n"
   ]
  },
  {
   "cell_type": "code",
   "execution_count": null,
   "id": "d3be6bc4",
   "metadata": {},
   "outputs": [],
   "source": [
    "print(df.dtypes)"
   ]
  },
  {
   "cell_type": "code",
   "execution_count": null,
   "id": "bc5b232a",
   "metadata": {},
   "outputs": [],
   "source": [
    "df\n"
   ]
  },
  {
   "cell_type": "code",
   "execution_count": null,
   "id": "7c26f200",
   "metadata": {},
   "outputs": [],
   "source": [
    "df.to_csv('../Datasets/colors.csv')\n"
   ]
  }
 ],
 "metadata": {
  "kernelspec": {
   "display_name": "Python 3 (ipykernel)",
   "language": "python",
   "name": "python3"
  },
  "language_info": {
   "codemirror_mode": {
    "name": "ipython",
    "version": 3
   },
   "file_extension": ".py",
   "mimetype": "text/x-python",
   "name": "python",
   "nbconvert_exporter": "python",
   "pygments_lexer": "ipython3",
   "version": "3.9.18"
  }
 },
 "nbformat": 4,
 "nbformat_minor": 5
}

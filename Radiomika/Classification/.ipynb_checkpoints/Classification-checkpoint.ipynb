{
 "cells": [
  {
   "cell_type": "code",
   "execution_count": 1,
   "id": "4d8308a5-9e77-4cbd-8ff8-0b433a17acfe",
   "metadata": {
    "tags": []
   },
   "outputs": [
    {
     "name": "stdout",
     "output_type": "stream",
     "text": [
      "['.DS_Store', 'HAM10000_metadata', 'HAM10000_images_part_1', 'HAM10000_images_part_2']\n"
     ]
    }
   ],
   "source": [
    "%matplotlib inline\n",
    "# python libraties\n",
    "import os, cv2,itertools\n",
    "import matplotlib.pyplot as plt\n",
    "import numpy as np\n",
    "import pandas as pd\n",
    "from tqdm import tqdm\n",
    "from glob import glob\n",
    "from PIL import Image\n",
    "\n",
    "# pytorch libraries\n",
    "import torch\n",
    "from torch import optim,nn\n",
    "from torch.autograd import Variable\n",
    "from torch.utils.data import DataLoader,Dataset\n",
    "from torchvision import models,transforms\n",
    "\n",
    "# sklearn libraries\n",
    "from sklearn.metrics import confusion_matrix\n",
    "from sklearn.model_selection import train_test_split\n",
    "from sklearn.metrics import classification_report\n",
    "\n",
    "# my libraries\n",
    "import defs\n",
    "\n",
    "# to make the results are reproducible\n",
    "np.random.seed(10)\n",
    "torch.manual_seed(10)\n",
    "torch.mps.manual_seed(10)\n",
    "\n",
    "print(os.listdir(\"input\"))\n"
   ]
  },
  {
   "cell_type": "code",
   "execution_count": 2,
   "id": "1c2814fe-b763-4fb8-bbe5-9fc8f031d2dd",
   "metadata": {},
   "outputs": [],
   "source": [
    "data_dir = 'input'\n",
    "all_image_path = glob(os.path.join(data_dir, '*', '*.jpg'))\n",
    "imageid_path_dict = {os.path.splitext(os.path.basename(x))[0]: x for x in all_image_path}\n",
    "lesion_type_dict = {\n",
    "    'nv': 'Melanocytic nevi',\n",
    "    'mel': 'dermatofibroma',\n",
    "    'bkl': 'Benign keratosis-like lesions ',\n",
    "    'bcc': 'Basal cell carcinoma',\n",
    "    'akiec': 'Actinic keratoses',\n",
    "    'vasc': 'Vascular lesions',\n",
    "    'df': 'Dermatofibroma'\n",
    "}\n",
    "    "
   ]
  },
  {
   "cell_type": "code",
   "execution_count": 3,
   "id": "4dc2195c",
   "metadata": {},
   "outputs": [],
   "source": [
    "def compute_img_mean_std(image_paths):\n",
    "    \"\"\"\n",
    "        computing the mean and std of three channel on the whole dataset,\n",
    "        first we should normalize the image from 0-255 to 0-1\n",
    "    \"\"\"\n",
    "\n",
    "    img_h, img_w = 224, 224\n",
    "    imgs = []\n",
    "    means, stdevs = [], []\n",
    "\n",
    "    for i in tqdm(range(len(image_paths))):\n",
    "        img = cv2.imread(image_paths[i])\n",
    "        img = cv2.resize(img, (img_h, img_w))\n",
    "        imgs.append(img)\n",
    "\n",
    "    imgs = np.stack(imgs, axis=3)\n",
    "    print(imgs.shape)\n",
    "\n",
    "    imgs = imgs.astype(np.float32) / 255.\n",
    "\n",
    "    for i in range(3):\n",
    "        pixels = imgs[:, :, i, :].ravel()  # resize to one row\n",
    "        means.append(np.mean(pixels))\n",
    "        stdevs.append(np.std(pixels))\n",
    "\n",
    "    means.reverse()  # BGR --> RGB\n",
    "    stdevs.reverse()\n",
    "\n",
    "    print(\"normMean = {}\".format(means))\n",
    "    print(\"normStd = {}\".format(stdevs))\n",
    "    return means,stdevs\n"
   ]
  },
  {
   "cell_type": "code",
   "execution_count": 4,
   "id": "1f25f05d",
   "metadata": {},
   "outputs": [
    {
     "name": "stderr",
     "output_type": "stream",
     "text": [
      "100%|████████████████████████████████████| 10015/10015 [00:47<00:00, 212.85it/s]\n"
     ]
    },
    {
     "name": "stdout",
     "output_type": "stream",
     "text": [
      "(224, 224, 3, 10015)\n",
      "normMean = [0.76303995, 0.54564756, 0.57004756]\n",
      "normStd = [0.14092825, 0.15261412, 0.16997597]\n"
     ]
    }
   ],
   "source": [
    "norm_mean,norm_std = compute_img_mean_std(all_image_path)\n"
   ]
  },
  {
   "cell_type": "code",
   "execution_count": 5,
   "id": "f2925b00",
   "metadata": {},
   "outputs": [
    {
     "data": {
      "text/html": [
       "<div>\n",
       "<style scoped>\n",
       "    .dataframe tbody tr th:only-of-type {\n",
       "        vertical-align: middle;\n",
       "    }\n",
       "\n",
       "    .dataframe tbody tr th {\n",
       "        vertical-align: top;\n",
       "    }\n",
       "\n",
       "    .dataframe thead th {\n",
       "        text-align: right;\n",
       "    }\n",
       "</style>\n",
       "<table border=\"1\" class=\"dataframe\">\n",
       "  <thead>\n",
       "    <tr style=\"text-align: right;\">\n",
       "      <th></th>\n",
       "      <th>lesion_id</th>\n",
       "      <th>image_id</th>\n",
       "      <th>dx</th>\n",
       "      <th>dx_type</th>\n",
       "      <th>age</th>\n",
       "      <th>sex</th>\n",
       "      <th>localization</th>\n",
       "      <th>dataset</th>\n",
       "      <th>path</th>\n",
       "      <th>cell_type</th>\n",
       "      <th>cell_type_idx</th>\n",
       "    </tr>\n",
       "  </thead>\n",
       "  <tbody>\n",
       "    <tr>\n",
       "      <th>0</th>\n",
       "      <td>HAM_0000118</td>\n",
       "      <td>ISIC_0027419</td>\n",
       "      <td>bkl</td>\n",
       "      <td>histo</td>\n",
       "      <td>80.0</td>\n",
       "      <td>male</td>\n",
       "      <td>scalp</td>\n",
       "      <td>vidir_modern</td>\n",
       "      <td>input/HAM10000_images_part_1/ISIC_0027419.jpg</td>\n",
       "      <td>Benign keratosis-like lesions</td>\n",
       "      <td>2</td>\n",
       "    </tr>\n",
       "    <tr>\n",
       "      <th>1</th>\n",
       "      <td>HAM_0000118</td>\n",
       "      <td>ISIC_0025030</td>\n",
       "      <td>bkl</td>\n",
       "      <td>histo</td>\n",
       "      <td>80.0</td>\n",
       "      <td>male</td>\n",
       "      <td>scalp</td>\n",
       "      <td>vidir_modern</td>\n",
       "      <td>input/HAM10000_images_part_1/ISIC_0025030.jpg</td>\n",
       "      <td>Benign keratosis-like lesions</td>\n",
       "      <td>2</td>\n",
       "    </tr>\n",
       "    <tr>\n",
       "      <th>2</th>\n",
       "      <td>HAM_0002730</td>\n",
       "      <td>ISIC_0026769</td>\n",
       "      <td>bkl</td>\n",
       "      <td>histo</td>\n",
       "      <td>80.0</td>\n",
       "      <td>male</td>\n",
       "      <td>scalp</td>\n",
       "      <td>vidir_modern</td>\n",
       "      <td>input/HAM10000_images_part_1/ISIC_0026769.jpg</td>\n",
       "      <td>Benign keratosis-like lesions</td>\n",
       "      <td>2</td>\n",
       "    </tr>\n",
       "    <tr>\n",
       "      <th>3</th>\n",
       "      <td>HAM_0002730</td>\n",
       "      <td>ISIC_0025661</td>\n",
       "      <td>bkl</td>\n",
       "      <td>histo</td>\n",
       "      <td>80.0</td>\n",
       "      <td>male</td>\n",
       "      <td>scalp</td>\n",
       "      <td>vidir_modern</td>\n",
       "      <td>input/HAM10000_images_part_1/ISIC_0025661.jpg</td>\n",
       "      <td>Benign keratosis-like lesions</td>\n",
       "      <td>2</td>\n",
       "    </tr>\n",
       "    <tr>\n",
       "      <th>4</th>\n",
       "      <td>HAM_0001466</td>\n",
       "      <td>ISIC_0031633</td>\n",
       "      <td>bkl</td>\n",
       "      <td>histo</td>\n",
       "      <td>75.0</td>\n",
       "      <td>male</td>\n",
       "      <td>ear</td>\n",
       "      <td>vidir_modern</td>\n",
       "      <td>input/HAM10000_images_part_2/ISIC_0031633.jpg</td>\n",
       "      <td>Benign keratosis-like lesions</td>\n",
       "      <td>2</td>\n",
       "    </tr>\n",
       "  </tbody>\n",
       "</table>\n",
       "</div>"
      ],
      "text/plain": [
       "     lesion_id      image_id   dx dx_type   age   sex localization  \\\n",
       "0  HAM_0000118  ISIC_0027419  bkl   histo  80.0  male        scalp   \n",
       "1  HAM_0000118  ISIC_0025030  bkl   histo  80.0  male        scalp   \n",
       "2  HAM_0002730  ISIC_0026769  bkl   histo  80.0  male        scalp   \n",
       "3  HAM_0002730  ISIC_0025661  bkl   histo  80.0  male        scalp   \n",
       "4  HAM_0001466  ISIC_0031633  bkl   histo  75.0  male          ear   \n",
       "\n",
       "        dataset                                           path  \\\n",
       "0  vidir_modern  input/HAM10000_images_part_1/ISIC_0027419.jpg   \n",
       "1  vidir_modern  input/HAM10000_images_part_1/ISIC_0025030.jpg   \n",
       "2  vidir_modern  input/HAM10000_images_part_1/ISIC_0026769.jpg   \n",
       "3  vidir_modern  input/HAM10000_images_part_1/ISIC_0025661.jpg   \n",
       "4  vidir_modern  input/HAM10000_images_part_2/ISIC_0031633.jpg   \n",
       "\n",
       "                        cell_type  cell_type_idx  \n",
       "0  Benign keratosis-like lesions               2  \n",
       "1  Benign keratosis-like lesions               2  \n",
       "2  Benign keratosis-like lesions               2  \n",
       "3  Benign keratosis-like lesions               2  \n",
       "4  Benign keratosis-like lesions               2  "
      ]
     },
     "execution_count": 5,
     "metadata": {},
     "output_type": "execute_result"
    }
   ],
   "source": [
    "df_original = pd.read_csv(os.path.join(data_dir, 'HAM10000_metadata'))\n",
    "df_original['path'] = df_original['image_id'].map(imageid_path_dict.get)\n",
    "df_original['cell_type'] = df_original['dx'].map(lesion_type_dict.get)\n",
    "df_original['cell_type_idx'] = pd.Categorical(df_original['cell_type']).codes\n",
    "df_original.head()\n"
   ]
  },
  {
   "cell_type": "code",
   "execution_count": 6,
   "id": "903e55dd",
   "metadata": {},
   "outputs": [
    {
     "data": {
      "text/html": [
       "<div>\n",
       "<style scoped>\n",
       "    .dataframe tbody tr th:only-of-type {\n",
       "        vertical-align: middle;\n",
       "    }\n",
       "\n",
       "    .dataframe tbody tr th {\n",
       "        vertical-align: top;\n",
       "    }\n",
       "\n",
       "    .dataframe thead th {\n",
       "        text-align: right;\n",
       "    }\n",
       "</style>\n",
       "<table border=\"1\" class=\"dataframe\">\n",
       "  <thead>\n",
       "    <tr style=\"text-align: right;\">\n",
       "      <th></th>\n",
       "      <th>lesion_id</th>\n",
       "      <th>image_id</th>\n",
       "      <th>dx</th>\n",
       "      <th>dx_type</th>\n",
       "      <th>age</th>\n",
       "      <th>sex</th>\n",
       "      <th>localization</th>\n",
       "      <th>dataset</th>\n",
       "      <th>path</th>\n",
       "      <th>cell_type</th>\n",
       "      <th>cell_type_idx</th>\n",
       "    </tr>\n",
       "  </thead>\n",
       "  <tbody>\n",
       "    <tr>\n",
       "      <th>0</th>\n",
       "      <td>HAM_0000001</td>\n",
       "      <td>1</td>\n",
       "      <td>1</td>\n",
       "      <td>1</td>\n",
       "      <td>1</td>\n",
       "      <td>1</td>\n",
       "      <td>1</td>\n",
       "      <td>1</td>\n",
       "      <td>1</td>\n",
       "      <td>1</td>\n",
       "      <td>1</td>\n",
       "    </tr>\n",
       "    <tr>\n",
       "      <th>1</th>\n",
       "      <td>HAM_0000003</td>\n",
       "      <td>1</td>\n",
       "      <td>1</td>\n",
       "      <td>1</td>\n",
       "      <td>1</td>\n",
       "      <td>1</td>\n",
       "      <td>1</td>\n",
       "      <td>1</td>\n",
       "      <td>1</td>\n",
       "      <td>1</td>\n",
       "      <td>1</td>\n",
       "    </tr>\n",
       "    <tr>\n",
       "      <th>2</th>\n",
       "      <td>HAM_0000004</td>\n",
       "      <td>1</td>\n",
       "      <td>1</td>\n",
       "      <td>1</td>\n",
       "      <td>1</td>\n",
       "      <td>1</td>\n",
       "      <td>1</td>\n",
       "      <td>1</td>\n",
       "      <td>1</td>\n",
       "      <td>1</td>\n",
       "      <td>1</td>\n",
       "    </tr>\n",
       "    <tr>\n",
       "      <th>3</th>\n",
       "      <td>HAM_0000007</td>\n",
       "      <td>1</td>\n",
       "      <td>1</td>\n",
       "      <td>1</td>\n",
       "      <td>1</td>\n",
       "      <td>1</td>\n",
       "      <td>1</td>\n",
       "      <td>1</td>\n",
       "      <td>1</td>\n",
       "      <td>1</td>\n",
       "      <td>1</td>\n",
       "    </tr>\n",
       "    <tr>\n",
       "      <th>4</th>\n",
       "      <td>HAM_0000008</td>\n",
       "      <td>1</td>\n",
       "      <td>1</td>\n",
       "      <td>1</td>\n",
       "      <td>1</td>\n",
       "      <td>1</td>\n",
       "      <td>1</td>\n",
       "      <td>1</td>\n",
       "      <td>1</td>\n",
       "      <td>1</td>\n",
       "      <td>1</td>\n",
       "    </tr>\n",
       "  </tbody>\n",
       "</table>\n",
       "</div>"
      ],
      "text/plain": [
       "     lesion_id  image_id  dx  dx_type  age  sex  localization  dataset  path  \\\n",
       "0  HAM_0000001         1   1        1    1    1             1        1     1   \n",
       "1  HAM_0000003         1   1        1    1    1             1        1     1   \n",
       "2  HAM_0000004         1   1        1    1    1             1        1     1   \n",
       "3  HAM_0000007         1   1        1    1    1             1        1     1   \n",
       "4  HAM_0000008         1   1        1    1    1             1        1     1   \n",
       "\n",
       "   cell_type  cell_type_idx  \n",
       "0          1              1  \n",
       "1          1              1  \n",
       "2          1              1  \n",
       "3          1              1  \n",
       "4          1              1  "
      ]
     },
     "execution_count": 6,
     "metadata": {},
     "output_type": "execute_result"
    }
   ],
   "source": [
    "# this will tell us how many images are associated with each lesion_id\n",
    "df_undup = df_original.groupby('lesion_id').count()\n",
    "# now we filter out lesion_id's that have only one image associated with it\n",
    "df_undup = df_undup[df_undup['image_id'] == 1]\n",
    "df_undup.reset_index(inplace=True)\n",
    "df_undup.head()\n"
   ]
  },
  {
   "cell_type": "code",
   "execution_count": 7,
   "id": "374f4450",
   "metadata": {},
   "outputs": [
    {
     "data": {
      "text/html": [
       "<div>\n",
       "<style scoped>\n",
       "    .dataframe tbody tr th:only-of-type {\n",
       "        vertical-align: middle;\n",
       "    }\n",
       "\n",
       "    .dataframe tbody tr th {\n",
       "        vertical-align: top;\n",
       "    }\n",
       "\n",
       "    .dataframe thead th {\n",
       "        text-align: right;\n",
       "    }\n",
       "</style>\n",
       "<table border=\"1\" class=\"dataframe\">\n",
       "  <thead>\n",
       "    <tr style=\"text-align: right;\">\n",
       "      <th></th>\n",
       "      <th>lesion_id</th>\n",
       "      <th>image_id</th>\n",
       "      <th>dx</th>\n",
       "      <th>dx_type</th>\n",
       "      <th>age</th>\n",
       "      <th>sex</th>\n",
       "      <th>localization</th>\n",
       "      <th>dataset</th>\n",
       "      <th>path</th>\n",
       "      <th>cell_type</th>\n",
       "      <th>cell_type_idx</th>\n",
       "      <th>duplicates</th>\n",
       "    </tr>\n",
       "  </thead>\n",
       "  <tbody>\n",
       "    <tr>\n",
       "      <th>0</th>\n",
       "      <td>HAM_0000118</td>\n",
       "      <td>ISIC_0027419</td>\n",
       "      <td>bkl</td>\n",
       "      <td>histo</td>\n",
       "      <td>80.0</td>\n",
       "      <td>male</td>\n",
       "      <td>scalp</td>\n",
       "      <td>vidir_modern</td>\n",
       "      <td>input/HAM10000_images_part_1/ISIC_0027419.jpg</td>\n",
       "      <td>Benign keratosis-like lesions</td>\n",
       "      <td>2</td>\n",
       "      <td>duplicated</td>\n",
       "    </tr>\n",
       "    <tr>\n",
       "      <th>1</th>\n",
       "      <td>HAM_0000118</td>\n",
       "      <td>ISIC_0025030</td>\n",
       "      <td>bkl</td>\n",
       "      <td>histo</td>\n",
       "      <td>80.0</td>\n",
       "      <td>male</td>\n",
       "      <td>scalp</td>\n",
       "      <td>vidir_modern</td>\n",
       "      <td>input/HAM10000_images_part_1/ISIC_0025030.jpg</td>\n",
       "      <td>Benign keratosis-like lesions</td>\n",
       "      <td>2</td>\n",
       "      <td>duplicated</td>\n",
       "    </tr>\n",
       "    <tr>\n",
       "      <th>2</th>\n",
       "      <td>HAM_0002730</td>\n",
       "      <td>ISIC_0026769</td>\n",
       "      <td>bkl</td>\n",
       "      <td>histo</td>\n",
       "      <td>80.0</td>\n",
       "      <td>male</td>\n",
       "      <td>scalp</td>\n",
       "      <td>vidir_modern</td>\n",
       "      <td>input/HAM10000_images_part_1/ISIC_0026769.jpg</td>\n",
       "      <td>Benign keratosis-like lesions</td>\n",
       "      <td>2</td>\n",
       "      <td>duplicated</td>\n",
       "    </tr>\n",
       "    <tr>\n",
       "      <th>3</th>\n",
       "      <td>HAM_0002730</td>\n",
       "      <td>ISIC_0025661</td>\n",
       "      <td>bkl</td>\n",
       "      <td>histo</td>\n",
       "      <td>80.0</td>\n",
       "      <td>male</td>\n",
       "      <td>scalp</td>\n",
       "      <td>vidir_modern</td>\n",
       "      <td>input/HAM10000_images_part_1/ISIC_0025661.jpg</td>\n",
       "      <td>Benign keratosis-like lesions</td>\n",
       "      <td>2</td>\n",
       "      <td>duplicated</td>\n",
       "    </tr>\n",
       "    <tr>\n",
       "      <th>4</th>\n",
       "      <td>HAM_0001466</td>\n",
       "      <td>ISIC_0031633</td>\n",
       "      <td>bkl</td>\n",
       "      <td>histo</td>\n",
       "      <td>75.0</td>\n",
       "      <td>male</td>\n",
       "      <td>ear</td>\n",
       "      <td>vidir_modern</td>\n",
       "      <td>input/HAM10000_images_part_2/ISIC_0031633.jpg</td>\n",
       "      <td>Benign keratosis-like lesions</td>\n",
       "      <td>2</td>\n",
       "      <td>duplicated</td>\n",
       "    </tr>\n",
       "  </tbody>\n",
       "</table>\n",
       "</div>"
      ],
      "text/plain": [
       "     lesion_id      image_id   dx dx_type   age   sex localization  \\\n",
       "0  HAM_0000118  ISIC_0027419  bkl   histo  80.0  male        scalp   \n",
       "1  HAM_0000118  ISIC_0025030  bkl   histo  80.0  male        scalp   \n",
       "2  HAM_0002730  ISIC_0026769  bkl   histo  80.0  male        scalp   \n",
       "3  HAM_0002730  ISIC_0025661  bkl   histo  80.0  male        scalp   \n",
       "4  HAM_0001466  ISIC_0031633  bkl   histo  75.0  male          ear   \n",
       "\n",
       "        dataset                                           path  \\\n",
       "0  vidir_modern  input/HAM10000_images_part_1/ISIC_0027419.jpg   \n",
       "1  vidir_modern  input/HAM10000_images_part_1/ISIC_0025030.jpg   \n",
       "2  vidir_modern  input/HAM10000_images_part_1/ISIC_0026769.jpg   \n",
       "3  vidir_modern  input/HAM10000_images_part_1/ISIC_0025661.jpg   \n",
       "4  vidir_modern  input/HAM10000_images_part_2/ISIC_0031633.jpg   \n",
       "\n",
       "                        cell_type  cell_type_idx  duplicates  \n",
       "0  Benign keratosis-like lesions               2  duplicated  \n",
       "1  Benign keratosis-like lesions               2  duplicated  \n",
       "2  Benign keratosis-like lesions               2  duplicated  \n",
       "3  Benign keratosis-like lesions               2  duplicated  \n",
       "4  Benign keratosis-like lesions               2  duplicated  "
      ]
     },
     "execution_count": 7,
     "metadata": {},
     "output_type": "execute_result"
    }
   ],
   "source": [
    "# here we identify lesion_id's that have duplicate images and those that have only one image.\n",
    "def get_duplicates(x):\n",
    "    unique_list = list(df_undup['lesion_id'])\n",
    "    if x in unique_list:\n",
    "        return 'unduplicated'\n",
    "    else:\n",
    "        return 'duplicated'\n",
    "\n",
    "# create a new colum that is a copy of the lesion_id column\n",
    "df_original['duplicates'] = df_original['lesion_id']\n",
    "# apply the function to this new column\n",
    "df_original['duplicates'] = df_original['duplicates'].apply(get_duplicates)\n",
    "df_original.head()\n"
   ]
  },
  {
   "cell_type": "code",
   "execution_count": 8,
   "id": "47619a7c",
   "metadata": {},
   "outputs": [
    {
     "data": {
      "text/plain": [
       "unduplicated    5514\n",
       "duplicated      4501\n",
       "Name: duplicates, dtype: int64"
      ]
     },
     "execution_count": 8,
     "metadata": {},
     "output_type": "execute_result"
    }
   ],
   "source": [
    "df_original['duplicates'].value_counts()\n"
   ]
  },
  {
   "cell_type": "code",
   "execution_count": 9,
   "id": "6f5409d9",
   "metadata": {},
   "outputs": [
    {
     "data": {
      "text/plain": [
       "(5514, 12)"
      ]
     },
     "execution_count": 9,
     "metadata": {},
     "output_type": "execute_result"
    }
   ],
   "source": [
    "# now we filter out images that don't have duplicates\n",
    "df_undup = df_original[df_original['duplicates'] == 'unduplicated']\n",
    "df_undup.shape\n"
   ]
  },
  {
   "cell_type": "code",
   "execution_count": 10,
   "id": "52f0e488",
   "metadata": {},
   "outputs": [
    {
     "data": {
      "text/plain": [
       "(1103, 12)"
      ]
     },
     "execution_count": 10,
     "metadata": {},
     "output_type": "execute_result"
    }
   ],
   "source": [
    "# now we create a val set using df because we are sure that none of these images have augmented duplicates in the train set\n",
    "y = df_undup['cell_type_idx']\n",
    "_, df_val = train_test_split(df_undup, test_size=0.2, random_state=101, stratify=y)\n",
    "df_val.shape\n"
   ]
  },
  {
   "cell_type": "code",
   "execution_count": 11,
   "id": "5f1982a2",
   "metadata": {},
   "outputs": [
    {
     "data": {
      "text/plain": [
       "4    883\n",
       "2     88\n",
       "6     46\n",
       "1     35\n",
       "0     30\n",
       "5     13\n",
       "3      8\n",
       "Name: cell_type_idx, dtype: int64"
      ]
     },
     "execution_count": 11,
     "metadata": {},
     "output_type": "execute_result"
    }
   ],
   "source": [
    "df_val['cell_type_idx'].value_counts()\n"
   ]
  },
  {
   "cell_type": "code",
   "execution_count": 12,
   "id": "0c077a5d",
   "metadata": {},
   "outputs": [
    {
     "name": "stdout",
     "output_type": "stream",
     "text": [
      "8912\n",
      "1103\n"
     ]
    }
   ],
   "source": [
    "# This set will be df_original excluding all rows that are in the val set\n",
    "# This function identifies if an image is part of the train or val set.\n",
    "def get_val_rows(x):\n",
    "    # create a list of all the lesion_id's in the val set\n",
    "    val_list = list(df_val['image_id'])\n",
    "    if str(x) in val_list:\n",
    "        return 'val'\n",
    "    else:\n",
    "        return 'train'\n",
    "\n",
    "# identify train and val rows\n",
    "# create a new colum that is a copy of the image_id column\n",
    "df_original['train_or_val'] = df_original['image_id']\n",
    "# apply the function to this new column\n",
    "df_original['train_or_val'] = df_original['train_or_val'].apply(get_val_rows)\n",
    "# filter out train rows\n",
    "df_train = df_original[df_original['train_or_val'] == 'train']\n",
    "print(len(df_train))\n",
    "print(len(df_val))\n"
   ]
  },
  {
   "cell_type": "code",
   "execution_count": 13,
   "id": "fe62df2c",
   "metadata": {},
   "outputs": [
    {
     "data": {
      "text/plain": [
       "4    5822\n",
       "6    1067\n",
       "2    1011\n",
       "1     479\n",
       "0     297\n",
       "5     129\n",
       "3     107\n",
       "Name: cell_type_idx, dtype: int64"
      ]
     },
     "execution_count": 13,
     "metadata": {},
     "output_type": "execute_result"
    }
   ],
   "source": [
    "df_train['cell_type_idx'].value_counts()\n"
   ]
  },
  {
   "cell_type": "code",
   "execution_count": 14,
   "id": "42a0a4f4",
   "metadata": {},
   "outputs": [
    {
     "data": {
      "text/plain": [
       "Melanocytic nevi                  883\n",
       "Benign keratosis-like lesions      88\n",
       "dermatofibroma                     46\n",
       "Basal cell carcinoma               35\n",
       "Actinic keratoses                  30\n",
       "Vascular lesions                   13\n",
       "Dermatofibroma                      8\n",
       "Name: cell_type, dtype: int64"
      ]
     },
     "execution_count": 14,
     "metadata": {},
     "output_type": "execute_result"
    }
   ],
   "source": [
    "df_val['cell_type'].value_counts()\n"
   ]
  },
  {
   "cell_type": "code",
   "execution_count": 15,
   "id": "d9578a57",
   "metadata": {},
   "outputs": [
    {
     "name": "stderr",
     "output_type": "stream",
     "text": [
      "/var/folders/8m/1npctfws7dnc_lbx3mhg9kdc0000gn/T/ipykernel_1645/2059288830.py:5: FutureWarning: The frame.append method is deprecated and will be removed from pandas in a future version. Use pandas.concat instead.\n",
      "  df_train=df_train.append([df_train.loc[df_train['cell_type_idx'] == i,:]]*(data_aug_rate[i]-1), ignore_index=True)\n"
     ]
    },
    {
     "data": {
      "text/plain": [
       "Melanocytic nevi                  5822\n",
       "Dermatofibroma                    5350\n",
       "dermatofibroma                    5335\n",
       "Vascular lesions                  5160\n",
       "Benign keratosis-like lesions     5055\n",
       "Basal cell carcinoma              4790\n",
       "Actinic keratoses                 4455\n",
       "Name: cell_type, dtype: int64"
      ]
     },
     "execution_count": 15,
     "metadata": {},
     "output_type": "execute_result"
    }
   ],
   "source": [
    "# Copy fewer class to balance the number of 7 classes\n",
    "data_aug_rate = [15,10,5,50,0,40,5]\n",
    "for i in range(7):\n",
    "    if data_aug_rate[i]:\n",
    "        df_train=df_train.append([df_train.loc[df_train['cell_type_idx'] == i,:]]*(data_aug_rate[i]-1), ignore_index=True)\n",
    "df_train['cell_type'].value_counts()\n"
   ]
  },
  {
   "cell_type": "code",
   "execution_count": 16,
   "id": "605d083c",
   "metadata": {},
   "outputs": [],
   "source": [
    "# # We can split the test set again in a validation set and a true test set:\n",
    "# df_val, df_test = train_test_split(df_val, test_size=0.5)\n",
    "df_train = df_train.reset_index()\n",
    "df_val = df_val.reset_index()\n",
    "# df_test = df_test.reset_index()\n"
   ]
  },
  {
   "cell_type": "code",
   "execution_count": 17,
   "id": "c6e26eca",
   "metadata": {},
   "outputs": [],
   "source": [
    "# feature_extract is a boolean that defines if we are finetuning or feature extracting. \n",
    "# If feature_extract = False, the model is finetuned and all model parameters are updated. \n",
    "# If feature_extract = True, only the last layer parameters are updated, the others remain fixed.\n",
    "def set_parameter_requires_grad(model, feature_extracting):\n",
    "    if feature_extracting:\n",
    "        for param in model.parameters():\n",
    "            param.requires_grad = False\n",
    "            "
   ]
  },
  {
   "cell_type": "code",
   "execution_count": 18,
   "id": "ad4c0aed",
   "metadata": {},
   "outputs": [],
   "source": [
    "def initialize_model(model_name, num_classes, feature_extract, use_pretrained=True):\n",
    "    # Initialize these variables which will be set in this if statement. Each of these\n",
    "    #   variables is model specific.\n",
    "    model_ft = None\n",
    "    input_size = 0\n",
    "\n",
    "    if model_name == \"resnet\":\n",
    "        \"\"\" Resnet18, resnet34, resnet50, resnet101\n",
    "        \"\"\"\n",
    "        model_ft = models.resnet50(pretrained=use_pretrained)\n",
    "        set_parameter_requires_grad(model_ft, feature_extract)\n",
    "        num_ftrs = model_ft.fc.in_features\n",
    "        model_ft.fc = nn.Linear(num_ftrs, num_classes)\n",
    "        input_size = 224\n",
    "\n",
    "\n",
    "    elif model_name == \"vgg\":\n",
    "        \"\"\" VGG11_bn\n",
    "        \"\"\"\n",
    "        model_ft = models.vgg11_bn(pretrained=use_pretrained)\n",
    "        set_parameter_requires_grad(model_ft, feature_extract)\n",
    "        num_ftrs = model_ft.classifier[6].in_features\n",
    "        model_ft.classifier[6] = nn.Linear(num_ftrs,num_classes)\n",
    "        input_size = 224\n",
    "\n",
    "\n",
    "    elif model_name == \"densenet\":\n",
    "        \"\"\" Densenet121\n",
    "        \"\"\"\n",
    "        model_ft = models.densenet121(pretrained=use_pretrained)\n",
    "        set_parameter_requires_grad(model_ft, feature_extract)\n",
    "        num_ftrs = model_ft.classifier.in_features\n",
    "        model_ft.classifier = nn.Linear(num_ftrs, num_classes)\n",
    "        input_size = 224\n",
    "\n",
    "    elif model_name == \"inception\":\n",
    "        \"\"\" Inception v3\n",
    "        Be careful, expects (299,299) sized images and has auxiliary output\n",
    "        \"\"\"\n",
    "        model_ft = models.inception_v3(pretrained=use_pretrained)\n",
    "        set_parameter_requires_grad(model_ft, feature_extract)\n",
    "        # Handle the auxilary net\n",
    "        num_ftrs = model_ft.AuxLogits.fc.in_features\n",
    "        model_ft.AuxLogits.fc = nn.Linear(num_ftrs, num_classes)\n",
    "        # Handle the primary net\n",
    "        num_ftrs = model_ft.fc.in_features\n",
    "        model_ft.fc = nn.Linear(num_ftrs,num_classes)\n",
    "        input_size = 299\n",
    "\n",
    "    else:\n",
    "        print(\"Invalid model name, exiting...\")\n",
    "        exit()\n",
    "    return model_ft, input_size\n"
   ]
  },
  {
   "cell_type": "code",
   "execution_count": 19,
   "id": "e38b4f3f",
   "metadata": {},
   "outputs": [
    {
     "name": "stderr",
     "output_type": "stream",
     "text": [
      "/Users/krystian/anaconda3/envs/Main/lib/python3.11/site-packages/torchvision/models/_utils.py:208: UserWarning: The parameter 'pretrained' is deprecated since 0.13 and may be removed in the future, please use 'weights' instead.\n",
      "  warnings.warn(\n",
      "/Users/krystian/anaconda3/envs/Main/lib/python3.11/site-packages/torchvision/models/_utils.py:223: UserWarning: Arguments other than a weight enum or `None` for 'weights' are deprecated since 0.13 and may be removed in the future. The current behavior is equivalent to passing `weights=DenseNet121_Weights.IMAGENET1K_V1`. You can also use `weights=DenseNet121_Weights.DEFAULT` to get the most up-to-date weights.\n",
      "  warnings.warn(msg)\n"
     ]
    }
   ],
   "source": [
    "# resnet,vgg,densenet,inception\n",
    "model_name = 'densenet'\n",
    "num_classes = 7\n",
    "feature_extract = False\n",
    "# Initialize the model for this run\n",
    "model_ft, input_size = initialize_model(model_name, num_classes, feature_extract, use_pretrained=True)\n",
    "# Define the device:\n",
    "device = torch.device('mps:0')\n",
    "# Put the model on the device:\n",
    "\n",
    "model = model_ft.to(device)\n"
   ]
  },
  {
   "cell_type": "code",
   "execution_count": 20,
   "id": "9c6ca937",
   "metadata": {},
   "outputs": [],
   "source": [
    "# norm_mean = (0.49139968, 0.48215827, 0.44653124)\n",
    "# norm_std = (0.24703233, 0.24348505, 0.26158768)\n",
    "# define the transformation of the train images.\n",
    "train_transform = transforms.Compose([transforms.Resize((input_size,input_size)),transforms.RandomHorizontalFlip(),\n",
    "                                      transforms.RandomVerticalFlip(),transforms.RandomRotation(20),\n",
    "                                      transforms.ColorJitter(brightness=0.1, contrast=0.1, hue=0.1),\n",
    "                                        transforms.ToTensor(), transforms.Normalize(norm_mean, norm_std)])\n",
    "# define the transformation of the val images.\n",
    "val_transform = transforms.Compose([transforms.Resize((input_size,input_size)), transforms.ToTensor(),\n",
    "                                    transforms.Normalize(norm_mean, norm_std)])\n"
   ]
  },
  {
   "cell_type": "code",
   "execution_count": 21,
   "id": "8626b5e7",
   "metadata": {},
   "outputs": [],
   "source": [
    "# Define the training set using the table train_df and using our defined transitions (train_transform)\n",
    "training_set = defs.HAM10000(df_train, transform=train_transform)\n",
    "train_loader = DataLoader(training_set, batch_size=32, shuffle=True, num_workers=4)\n",
    "# Same for the validation set:\n",
    "validation_set = defs.HAM10000(df_val, transform=train_transform)\n",
    "val_loader = DataLoader(validation_set, batch_size=32, shuffle=False, num_workers=4)\n"
   ]
  },
  {
   "cell_type": "code",
   "execution_count": 22,
   "id": "ce226034",
   "metadata": {},
   "outputs": [],
   "source": [
    "# we use Adam optimizer, use cross entropy loss as our loss function\n",
    "optimizer = optim.Adam(model.parameters(), lr=1e-3)\n",
    "criterion = nn.CrossEntropyLoss().to(device)\n"
   ]
  },
  {
   "cell_type": "code",
   "execution_count": 23,
   "id": "20899f9f",
   "metadata": {},
   "outputs": [],
   "source": [
    "# this function is used during training process, to calculation the loss and accuracy\n",
    "class AverageMeter(object):\n",
    "    def __init__(self):\n",
    "        self.reset()\n",
    "\n",
    "    def reset(self):\n",
    "        self.val = 0\n",
    "        self.avg = 0\n",
    "        self.sum = 0\n",
    "        self.count = 0\n",
    "\n",
    "    def update(self, val, n=1):\n",
    "        self.val = val\n",
    "        self.sum += val * n\n",
    "        self.count += n\n",
    "        self.avg = self.sum / self.count\n",
    "        "
   ]
  },
  {
   "cell_type": "code",
   "execution_count": 24,
   "id": "f4afe1a3",
   "metadata": {},
   "outputs": [],
   "source": [
    "total_loss_train, total_acc_train = [],[]\n",
    "def train(train_loader, model, criterion, optimizer, epoch):\n",
    "    model.train()\n",
    "    train_loss = AverageMeter()\n",
    "    train_acc = AverageMeter()\n",
    "    curr_iter = (epoch - 1) * len(train_loader)\n",
    "    for i, data in enumerate(train_loader):\n",
    "        images, labels = data\n",
    "        N = images.size(0)\n",
    "        # print('image shape:',images.size(0), 'label shape',labels.size(0))\n",
    "        images = Variable(images).to(device)\n",
    "        labels = Variable(labels).to(device)\n",
    "\n",
    "        optimizer.zero_grad()\n",
    "        outputs = model(images)\n",
    "\n",
    "        loss = criterion(outputs, labels)\n",
    "        loss.backward()\n",
    "        optimizer.step()\n",
    "        prediction = outputs.max(1, keepdim=True)[1]\n",
    "        train_acc.update(prediction.eq(labels.view_as(prediction)).sum().item()/N)\n",
    "        train_loss.update(loss.item())\n",
    "        curr_iter += 1\n",
    "        if (i + 1) % 100 == 0:\n",
    "            print('[epoch %d], [iter %d / %d], [train loss %.5f], [train acc %.5f]' % (\n",
    "                epoch, i + 1, len(train_loader), train_loss.avg, train_acc.avg))\n",
    "            total_loss_train.append(train_loss.avg)\n",
    "            total_acc_train.append(train_acc.avg)\n",
    "    return train_loss.avg, train_acc.avg\n"
   ]
  },
  {
   "cell_type": "code",
   "execution_count": 25,
   "id": "79c6c7db",
   "metadata": {},
   "outputs": [],
   "source": [
    "def validate(val_loader, model, criterion, optimizer, epoch):\n",
    "    model.eval()\n",
    "    val_loss = AverageMeter()\n",
    "    val_acc = AverageMeter()\n",
    "    with torch.no_grad():\n",
    "        for i, data in enumerate(val_loader):\n",
    "            images, labels = data\n",
    "            N = images.size(0)\n",
    "            images = Variable(images).to(device)\n",
    "            labels = Variable(labels).to(device)\n",
    "\n",
    "            outputs = model(images)\n",
    "            prediction = outputs.max(1, keepdim=True)[1]\n",
    "\n",
    "            val_acc.update(prediction.eq(labels.view_as(prediction)).sum().item()/N)\n",
    "\n",
    "            val_loss.update(criterion(outputs, labels).item())\n",
    "\n",
    "    print('------------------------------------------------------------')\n",
    "    print('[epoch %d], [val loss %.5f], [val acc %.5f]' % (epoch, val_loss.avg, val_acc.avg))\n",
    "    print('------------------------------------------------------------')\n",
    "    return val_loss.avg, val_acc.avg\n"
   ]
  },
  {
   "cell_type": "code",
   "execution_count": 26,
   "id": "8c0ef6c7",
   "metadata": {},
   "outputs": [
    {
     "name": "stdout",
     "output_type": "stream",
     "text": [
      "[epoch 1], [iter 100 / 1124], [train loss 1.26298], [train acc 0.52844]\n",
      "[epoch 1], [iter 200 / 1124], [train loss 1.15406], [train acc 0.57359]\n",
      "[epoch 1], [iter 300 / 1124], [train loss 1.07725], [train acc 0.60156]\n",
      "[epoch 1], [iter 400 / 1124], [train loss 1.02343], [train acc 0.61969]\n",
      "[epoch 1], [iter 500 / 1124], [train loss 0.99330], [train acc 0.63156]\n",
      "[epoch 1], [iter 600 / 1124], [train loss 0.95501], [train acc 0.64458]\n",
      "[epoch 1], [iter 700 / 1124], [train loss 0.92120], [train acc 0.65687]\n",
      "[epoch 1], [iter 800 / 1124], [train loss 0.89192], [train acc 0.66727]\n",
      "[epoch 1], [iter 900 / 1124], [train loss 0.86854], [train acc 0.67667]\n",
      "[epoch 1], [iter 1000 / 1124], [train loss 0.85011], [train acc 0.68419]\n",
      "[epoch 1], [iter 1100 / 1124], [train loss 0.82746], [train acc 0.69219]\n",
      "------------------------------------------------------------\n",
      "[epoch 1], [val loss 0.42402], [val acc 0.86494]\n",
      "------------------------------------------------------------\n",
      "*****************************************************\n",
      "best record: [epoch 1], [val loss 0.42402], [val acc 0.86494]\n",
      "*****************************************************\n",
      "[epoch 2], [iter 100 / 1124], [train loss 0.63364], [train acc 0.76125]\n",
      "[epoch 2], [iter 200 / 1124], [train loss 0.61641], [train acc 0.76969]\n",
      "[epoch 2], [iter 300 / 1124], [train loss 0.60501], [train acc 0.77094]\n",
      "[epoch 2], [iter 400 / 1124], [train loss 0.59353], [train acc 0.77516]\n",
      "[epoch 2], [iter 500 / 1124], [train loss 0.58838], [train acc 0.77694]\n",
      "[epoch 2], [iter 600 / 1124], [train loss 0.58310], [train acc 0.78026]\n",
      "[epoch 2], [iter 700 / 1124], [train loss 0.57505], [train acc 0.78348]\n",
      "[epoch 2], [iter 800 / 1124], [train loss 0.56953], [train acc 0.78512]\n",
      "[epoch 2], [iter 900 / 1124], [train loss 0.56465], [train acc 0.78687]\n",
      "[epoch 2], [iter 1000 / 1124], [train loss 0.55697], [train acc 0.78953]\n",
      "[epoch 2], [iter 1100 / 1124], [train loss 0.55680], [train acc 0.78952]\n",
      "------------------------------------------------------------\n",
      "[epoch 2], [val loss 0.35193], [val acc 0.88470]\n",
      "------------------------------------------------------------\n",
      "*****************************************************\n",
      "best record: [epoch 2], [val loss 0.35193], [val acc 0.88470]\n",
      "*****************************************************\n",
      "[epoch 3], [iter 100 / 1124], [train loss 0.48055], [train acc 0.81312]\n",
      "[epoch 3], [iter 200 / 1124], [train loss 0.47807], [train acc 0.81625]\n",
      "[epoch 3], [iter 300 / 1124], [train loss 0.46973], [train acc 0.82115]\n",
      "[epoch 3], [iter 400 / 1124], [train loss 0.46838], [train acc 0.82109]\n",
      "[epoch 3], [iter 500 / 1124], [train loss 0.46909], [train acc 0.82063]\n",
      "[epoch 3], [iter 600 / 1124], [train loss 0.46707], [train acc 0.82208]\n",
      "[epoch 3], [iter 700 / 1124], [train loss 0.46260], [train acc 0.82326]\n",
      "[epoch 3], [iter 800 / 1124], [train loss 0.46080], [train acc 0.82410]\n",
      "[epoch 3], [iter 900 / 1124], [train loss 0.45848], [train acc 0.82479]\n",
      "[epoch 3], [iter 1000 / 1124], [train loss 0.45488], [train acc 0.82600]\n",
      "[epoch 3], [iter 1100 / 1124], [train loss 0.45363], [train acc 0.82648]\n",
      "------------------------------------------------------------\n",
      "[epoch 3], [val loss 0.41065], [val acc 0.83012]\n",
      "------------------------------------------------------------\n",
      "[epoch 4], [iter 100 / 1124], [train loss 0.42583], [train acc 0.83781]\n",
      "[epoch 4], [iter 200 / 1124], [train loss 0.41607], [train acc 0.84203]\n",
      "[epoch 4], [iter 300 / 1124], [train loss 0.40525], [train acc 0.84510]\n",
      "[epoch 4], [iter 400 / 1124], [train loss 0.40408], [train acc 0.84633]\n",
      "[epoch 4], [iter 500 / 1124], [train loss 0.39925], [train acc 0.84737]\n",
      "[epoch 4], [iter 600 / 1124], [train loss 0.39114], [train acc 0.85042]\n",
      "[epoch 4], [iter 700 / 1124], [train loss 0.39017], [train acc 0.85018]\n",
      "[epoch 4], [iter 800 / 1124], [train loss 0.38798], [train acc 0.85062]\n",
      "[epoch 4], [iter 900 / 1124], [train loss 0.39115], [train acc 0.84969]\n",
      "[epoch 4], [iter 1000 / 1124], [train loss 0.38800], [train acc 0.85159]\n",
      "[epoch 4], [iter 1100 / 1124], [train loss 0.38329], [train acc 0.85318]\n",
      "------------------------------------------------------------\n",
      "[epoch 4], [val loss 0.40796], [val acc 0.85333]\n",
      "------------------------------------------------------------\n",
      "[epoch 5], [iter 100 / 1124], [train loss 0.33417], [train acc 0.86813]\n",
      "[epoch 5], [iter 200 / 1124], [train loss 0.33162], [train acc 0.87297]\n",
      "[epoch 5], [iter 300 / 1124], [train loss 0.34150], [train acc 0.86854]\n",
      "[epoch 5], [iter 400 / 1124], [train loss 0.34060], [train acc 0.86750]\n",
      "[epoch 5], [iter 500 / 1124], [train loss 0.34144], [train acc 0.86881]\n",
      "[epoch 5], [iter 600 / 1124], [train loss 0.34308], [train acc 0.86781]\n",
      "[epoch 5], [iter 700 / 1124], [train loss 0.34703], [train acc 0.86629]\n",
      "[epoch 5], [iter 800 / 1124], [train loss 0.34214], [train acc 0.86852]\n",
      "[epoch 5], [iter 900 / 1124], [train loss 0.33837], [train acc 0.86993]\n",
      "[epoch 5], [iter 1000 / 1124], [train loss 0.33794], [train acc 0.87025]\n",
      "[epoch 5], [iter 1100 / 1124], [train loss 0.33702], [train acc 0.87071]\n",
      "------------------------------------------------------------\n",
      "[epoch 5], [val loss 0.33586], [val acc 0.87911]\n",
      "------------------------------------------------------------\n",
      "[epoch 6], [iter 100 / 1124], [train loss 0.30259], [train acc 0.88406]\n",
      "[epoch 6], [iter 200 / 1124], [train loss 0.30695], [train acc 0.88344]\n",
      "[epoch 6], [iter 300 / 1124], [train loss 0.29847], [train acc 0.88469]\n",
      "[epoch 6], [iter 400 / 1124], [train loss 0.29278], [train acc 0.88687]\n",
      "[epoch 6], [iter 500 / 1124], [train loss 0.29077], [train acc 0.88806]\n",
      "[epoch 6], [iter 600 / 1124], [train loss 0.28707], [train acc 0.89005]\n",
      "[epoch 6], [iter 700 / 1124], [train loss 0.28329], [train acc 0.89165]\n",
      "[epoch 6], [iter 800 / 1124], [train loss 0.28571], [train acc 0.89043]\n",
      "[epoch 6], [iter 900 / 1124], [train loss 0.28450], [train acc 0.89108]\n",
      "[epoch 6], [iter 1000 / 1124], [train loss 0.28308], [train acc 0.89184]\n",
      "[epoch 6], [iter 1100 / 1124], [train loss 0.28100], [train acc 0.89267]\n",
      "------------------------------------------------------------\n",
      "[epoch 6], [val loss 0.34945], [val acc 0.88548]\n",
      "------------------------------------------------------------\n",
      "*****************************************************\n",
      "best record: [epoch 6], [val loss 0.34945], [val acc 0.88548]\n",
      "*****************************************************\n",
      "[epoch 7], [iter 100 / 1124], [train loss 0.21494], [train acc 0.91844]\n",
      "[epoch 7], [iter 200 / 1124], [train loss 0.23778], [train acc 0.91187]\n",
      "[epoch 7], [iter 300 / 1124], [train loss 0.25564], [train acc 0.90594]\n",
      "[epoch 7], [iter 400 / 1124], [train loss 0.25613], [train acc 0.90367]\n",
      "[epoch 7], [iter 500 / 1124], [train loss 0.25268], [train acc 0.90525]\n",
      "[epoch 7], [iter 600 / 1124], [train loss 0.25139], [train acc 0.90547]\n",
      "[epoch 7], [iter 700 / 1124], [train loss 0.25241], [train acc 0.90496]\n",
      "[epoch 7], [iter 800 / 1124], [train loss 0.25185], [train acc 0.90469]\n",
      "[epoch 7], [iter 900 / 1124], [train loss 0.25724], [train acc 0.90337]\n",
      "[epoch 7], [iter 1000 / 1124], [train loss 0.25725], [train acc 0.90338]\n",
      "[epoch 7], [iter 1100 / 1124], [train loss 0.25729], [train acc 0.90304]\n",
      "------------------------------------------------------------\n",
      "[epoch 7], [val loss 0.33371], [val acc 0.89262]\n",
      "------------------------------------------------------------\n",
      "*****************************************************\n",
      "best record: [epoch 7], [val loss 0.33371], [val acc 0.89262]\n",
      "*****************************************************\n",
      "[epoch 8], [iter 100 / 1124], [train loss 0.20601], [train acc 0.92188]\n",
      "[epoch 8], [iter 200 / 1124], [train loss 0.20864], [train acc 0.92156]\n",
      "[epoch 8], [iter 300 / 1124], [train loss 0.21241], [train acc 0.91896]\n",
      "[epoch 8], [iter 400 / 1124], [train loss 0.21081], [train acc 0.91930]\n",
      "[epoch 8], [iter 500 / 1124], [train loss 0.20975], [train acc 0.91931]\n",
      "[epoch 8], [iter 600 / 1124], [train loss 0.21384], [train acc 0.91844]\n",
      "[epoch 8], [iter 700 / 1124], [train loss 0.21307], [train acc 0.91911]\n",
      "[epoch 8], [iter 800 / 1124], [train loss 0.21463], [train acc 0.91832]\n",
      "[epoch 8], [iter 900 / 1124], [train loss 0.21517], [train acc 0.91767]\n",
      "[epoch 8], [iter 1000 / 1124], [train loss 0.21545], [train acc 0.91800]\n",
      "[epoch 8], [iter 1100 / 1124], [train loss 0.21677], [train acc 0.91739]\n"
     ]
    },
    {
     "name": "stdout",
     "output_type": "stream",
     "text": [
      "------------------------------------------------------------\n",
      "[epoch 8], [val loss 0.36752], [val acc 0.85768]\n",
      "------------------------------------------------------------\n",
      "[epoch 9], [iter 100 / 1124], [train loss 0.18180], [train acc 0.93281]\n",
      "[epoch 9], [iter 200 / 1124], [train loss 0.19002], [train acc 0.92953]\n",
      "[epoch 9], [iter 300 / 1124], [train loss 0.20091], [train acc 0.92375]\n",
      "[epoch 9], [iter 400 / 1124], [train loss 0.20387], [train acc 0.92227]\n",
      "[epoch 9], [iter 500 / 1124], [train loss 0.20296], [train acc 0.92219]\n",
      "[epoch 9], [iter 600 / 1124], [train loss 0.20299], [train acc 0.92266]\n",
      "[epoch 9], [iter 700 / 1124], [train loss 0.20225], [train acc 0.92304]\n",
      "[epoch 9], [iter 800 / 1124], [train loss 0.19897], [train acc 0.92418]\n",
      "[epoch 9], [iter 900 / 1124], [train loss 0.20012], [train acc 0.92403]\n",
      "[epoch 9], [iter 1000 / 1124], [train loss 0.20136], [train acc 0.92425]\n",
      "[epoch 9], [iter 1100 / 1124], [train loss 0.20054], [train acc 0.92480]\n",
      "------------------------------------------------------------\n",
      "[epoch 9], [val loss 0.34675], [val acc 0.89542]\n",
      "------------------------------------------------------------\n",
      "*****************************************************\n",
      "best record: [epoch 9], [val loss 0.34675], [val acc 0.89542]\n",
      "*****************************************************\n",
      "[epoch 10], [iter 100 / 1124], [train loss 0.18451], [train acc 0.92906]\n",
      "[epoch 10], [iter 200 / 1124], [train loss 0.19846], [train acc 0.92609]\n",
      "[epoch 10], [iter 300 / 1124], [train loss 0.18803], [train acc 0.93010]\n",
      "[epoch 10], [iter 400 / 1124], [train loss 0.18204], [train acc 0.93211]\n",
      "[epoch 10], [iter 500 / 1124], [train loss 0.17751], [train acc 0.93394]\n",
      "[epoch 10], [iter 600 / 1124], [train loss 0.17561], [train acc 0.93521]\n",
      "[epoch 10], [iter 700 / 1124], [train loss 0.17713], [train acc 0.93411]\n",
      "[epoch 10], [iter 800 / 1124], [train loss 0.17700], [train acc 0.93410]\n",
      "[epoch 10], [iter 900 / 1124], [train loss 0.17690], [train acc 0.93465]\n",
      "[epoch 10], [iter 1000 / 1124], [train loss 0.18188], [train acc 0.93272]\n",
      "[epoch 10], [iter 1100 / 1124], [train loss 0.18250], [train acc 0.93267]\n",
      "------------------------------------------------------------\n",
      "[epoch 10], [val loss 0.32702], [val acc 0.89619]\n",
      "------------------------------------------------------------\n",
      "*****************************************************\n",
      "best record: [epoch 10], [val loss 0.32702], [val acc 0.89619]\n",
      "*****************************************************\n"
     ]
    }
   ],
   "source": [
    "epoch_num = 10\n",
    "best_val_acc = 0\n",
    "total_loss_val, total_acc_val = [],[]\n",
    "for epoch in range(1, epoch_num+1):\n",
    "    loss_train, acc_train = train(train_loader, model, criterion, optimizer, epoch)\n",
    "    loss_val, acc_val = validate(val_loader, model, criterion, optimizer, epoch)\n",
    "    total_loss_val.append(loss_val)\n",
    "    total_acc_val.append(acc_val)\n",
    "    if acc_val > best_val_acc:\n",
    "        best_val_acc = acc_val\n",
    "        print('*****************************************************')\n",
    "        print('best record: [epoch %d], [val loss %.5f], [val acc %.5f]' % (epoch, loss_val, acc_val))\n",
    "        print('*****************************************************')\n",
    "        "
   ]
  },
  {
   "cell_type": "code",
   "execution_count": 27,
   "id": "f5b6dff6",
   "metadata": {},
   "outputs": [
    {
     "data": {
      "image/png": "[encoded data removed]",
      "text/plain": [
       "<Figure size 640x480 with 2 Axes>"
      ]
     },
     "metadata": {},
     "output_type": "display_data"
    }
   ],
   "source": [
    "fig = plt.figure(num = 2)\n",
    "fig1 = fig.add_subplot(2,1,1)\n",
    "fig2 = fig.add_subplot(2,1,2)\n",
    "fig1.plot(total_loss_train, label = 'training loss')\n",
    "fig1.plot(total_acc_train, label = 'training accuracy')\n",
    "fig2.plot(total_loss_val, label = 'validation loss')\n",
    "fig2.plot(total_acc_val, label = 'validation accuracy')\n",
    "plt.legend()\n",
    "plt.show()\n"
   ]
  },
  {
   "cell_type": "code",
   "execution_count": 28,
   "id": "c2b81e81",
   "metadata": {},
   "outputs": [],
   "source": [
    "def plot_confusion_matrix(cm, classes,\n",
    "                          normalize=False,\n",
    "                          title='Confusion matrix',\n",
    "                          cmap=plt.cm.Blues):\n",
    "    \"\"\"\n",
    "    This function prints and plots the confusion matrix.\n",
    "    Normalization can be applied by setting `normalize=True`.\n",
    "    \"\"\"\n",
    "    plt.imshow(cm, interpolation='nearest', cmap=cmap)\n",
    "    plt.title(title)\n",
    "    plt.colorbar()\n",
    "    tick_marks = np.arange(len(classes))\n",
    "    plt.xticks(tick_marks, classes, rotation=45)\n",
    "    plt.yticks(tick_marks, classes)\n",
    "\n",
    "    if normalize:\n",
    "        cm = cm.astype('float') / cm.sum(axis=1)[:, np.newaxis]\n",
    "\n",
    "    thresh = cm.max() / 2.\n",
    "    for i, j in itertools.product(range(cm.shape[0]), range(cm.shape[1])):\n",
    "        plt.text(j, i, cm[i, j],\n",
    "                 horizontalalignment=\"center\",\n",
    "                 color=\"white\" if cm[i, j] > thresh else \"black\")\n",
    "\n",
    "    plt.tight_layout()\n",
    "    plt.ylabel('True label')\n",
    "    plt.xlabel('Predicted label')\n",
    "    "
   ]
  },
  {
   "cell_type": "code",
   "execution_count": 29,
   "id": "5a572c57",
   "metadata": {},
   "outputs": [
    {
     "data": {
      "image/png": "[encoded data removed]",
      "text/plain": [
       "<Figure size 640x480 with 2 Axes>"
      ]
     },
     "metadata": {},
     "output_type": "display_data"
    }
   ],
   "source": [
    "model.eval()\n",
    "y_label = []\n",
    "y_predict = []\n",
    "with torch.no_grad():\n",
    "    for i, data in enumerate(val_loader):\n",
    "        images, labels = data\n",
    "        N = images.size(0)\n",
    "        images = Variable(images).to(device)\n",
    "        outputs = model(images)\n",
    "        prediction = outputs.max(1, keepdim=True)[1]\n",
    "        y_label.extend(labels.cpu().numpy())\n",
    "        y_predict.extend(np.squeeze(prediction.cpu().numpy().T))\n",
    "\n",
    "# compute the confusion matrix\n",
    "confusion_mtx = confusion_matrix(y_label, y_predict)\n",
    "# plot the confusion matrix\n",
    "plot_labels = ['akiec', 'bcc', 'bkl', 'df', 'nv', 'vasc','mel']\n",
    "plot_confusion_matrix(confusion_mtx, plot_labels)\n"
   ]
  },
  {
   "cell_type": "code",
   "execution_count": 30,
   "id": "f10c56e2",
   "metadata": {},
   "outputs": [
    {
     "name": "stdout",
     "output_type": "stream",
     "text": [
      "              precision    recall  f1-score   support\n",
      "\n",
      "       akiec       0.68      0.70      0.69        30\n",
      "         bcc       0.84      0.89      0.86        35\n",
      "         bkl       0.70      0.67      0.69        88\n",
      "          df       0.50      0.75      0.60         8\n",
      "          nv       0.98      0.94      0.96       883\n",
      "        vasc       0.73      0.85      0.79        13\n",
      "         mel       0.40      0.67      0.50        46\n",
      "\n",
      "    accuracy                           0.89      1103\n",
      "   macro avg       0.69      0.78      0.73      1103\n",
      "weighted avg       0.91      0.89      0.90      1103\n",
      "\n"
     ]
    }
   ],
   "source": [
    "# Generate a classification report\n",
    "report = classification_report(y_label, y_predict, target_names=plot_labels)\n",
    "print(report)\n"
   ]
  },
  {
   "cell_type": "code",
   "execution_count": 31,
   "id": "f00c83ec",
   "metadata": {},
   "outputs": [
    {
     "data": {
      "text/plain": [
       "Text(0, 0.5, 'Fraction classified incorrectly')"
      ]
     },
     "execution_count": 31,
     "metadata": {},
     "output_type": "execute_result"
    },
    {
     "data": {
      "image/png": "[encoded data removed]",
      "text/plain": [
       "<Figure size 640x480 with 1 Axes>"
      ]
     },
     "metadata": {},
     "output_type": "display_data"
    }
   ],
   "source": [
    "label_frac_error = 1 - np.diag(confusion_mtx) / np.sum(confusion_mtx, axis=1)\n",
    "plt.bar(np.arange(7),label_frac_error)\n",
    "plt.xlabel('True Label')\n",
    "plt.ylabel('Fraction classified incorrectly')\n"
   ]
  },
  {
   "cell_type": "code",
   "execution_count": 33,
   "id": "de9c51fd",
   "metadata": {},
   "outputs": [],
   "source": [
    "# save model\n",
    "torch.save(model.state_dict(), \"model_class.pth\")\n"
   ]
  },
  {
   "cell_type": "code",
   "execution_count": null,
   "id": "da4c7989",
   "metadata": {},
   "outputs": [],
   "source": [
    "# Model class must be defined somewhere\n",
    "## model = torch.load(PATH)\n",
    "## model.eval()\n"
   ]
  }
 ],
 "metadata": {
  "kernelspec": {
   "display_name": "Python 3 (ipykernel)",
   "language": "python",
   "name": "python3"
  },
  "language_info": {
   "codemirror_mode": {
    "name": "ipython",
    "version": 3
   },
   "file_extension": ".py",
   "mimetype": "text/x-python",
   "name": "python",
   "nbconvert_exporter": "python",
   "pygments_lexer": "ipython3",
   "version": "3.11.4"
  }
 },
 "nbformat": 4,
 "nbformat_minor": 5
}

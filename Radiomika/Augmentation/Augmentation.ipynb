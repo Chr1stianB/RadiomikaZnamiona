{
 "cells": [
  {
   "cell_type": "code",
   "execution_count": 1,
   "id": "a310f269",
   "metadata": {},
   "outputs": [],
   "source": [
    "import os\n",
    "import cv2\n",
    "from tqdm import tqdm\n",
    "from glob import glob\n",
    "from albumentations import CenterCrop, RandomRotate90, GridDistortion, HorizontalFlip, VerticalFlip\n"
   ]
  },
  {
   "cell_type": "code",
   "execution_count": 2,
   "id": "8f2b6a6c",
   "metadata": {},
   "outputs": [],
   "source": [
    "def load_data(path):\n",
    "    images = sorted(glob(os.path.join(path, \"images/*\")))\n",
    "    masks = sorted(glob(os.path.join(path, \"masks/*\")))\n",
    "    return images, masks\n",
    "\n",
    "def create_dir(path):\n",
    "    if not os.path.exists(path):\n",
    "        os.makedirs(path)\n",
    "\n",
    "def augment_data(images, masks, save_path, augment=True):\n",
    "    H = 450\n",
    "    W = 600\n",
    "\n",
    "    for x, y in tqdm(zip(images, masks), total=len(images)):\n",
    "        name = x.split(\"/\")[-1].split(\".\")\n",
    "        \"\"\" Extracting the name and extension of the image and the mask. \"\"\"\n",
    "        image_name = name[0]\n",
    "        image_extn = name[1]\n",
    "\n",
    "        name = y.split(\"/\")[-1].split(\".\")\n",
    "        mask_name = name[0]\n",
    "        mask_extn = name[1]\n",
    "\n",
    "        \"\"\" Reading image and mask. \"\"\"\n",
    "        x = cv2.imread(x, cv2.IMREAD_COLOR)\n",
    "        y = cv2.imread(y, cv2.IMREAD_COLOR)\n",
    "\n",
    "        \"\"\" Augmentation \"\"\"\n",
    "        if augment == True:\n",
    "            aug = CenterCrop(H, W, p=1.0)\n",
    "            augmented = aug(image=x, mask=y)\n",
    "            x1 = augmented[\"image\"]\n",
    "            y1 = augmented[\"mask\"]\n",
    "\n",
    "            aug = RandomRotate90(p=1.0)\n",
    "            augmented = aug(image=x, mask=y)\n",
    "            x2 = augmented['image']\n",
    "            y2 = augmented['mask']\n",
    "\n",
    "            aug = GridDistortion(p=1.0)\n",
    "            augmented = aug(image=x, mask=y)\n",
    "            x3 = augmented['image']\n",
    "            y3 = augmented['mask']\n",
    "\n",
    "            aug = HorizontalFlip(p=1.0)\n",
    "            augmented = aug(image=x, mask=y)\n",
    "            x4 = augmented['image']\n",
    "            y4 = augmented['mask']\n",
    "\n",
    "            aug = VerticalFlip(p=1.0)\n",
    "            augmented = aug(image=x, mask=y)\n",
    "            x5 = augmented['image']\n",
    "            y5 = augmented['mask']\n",
    "\n",
    "            save_images = [x, x1, x2, x3, x4, x5]\n",
    "            save_masks =  [y, y1, y2, y3, y4, y5]\n",
    "\n",
    "        else:\n",
    "            save_images = [x]\n",
    "            save_masks = [y]\n",
    "\n",
    "        \"\"\" Saving the image and mask. \"\"\"\n",
    "        idx = 0\n",
    "        for i, m in zip(save_images, save_masks):\n",
    "            i = cv2.resize(i, (W, H))\n",
    "            m = cv2.resize(m, (W, H))\n",
    "\n",
    "            if len(images) == 1:\n",
    "                tmp_img_name = f\"{image_name}.{image_extn}\"\n",
    "                tmp_mask_name = f\"{mask_name}.{mask_extn}\"\n",
    "            else:\n",
    "                tmp_img_name = f\"{image_name}_{idx}.{image_extn}\"\n",
    "                tmp_mask_name = f\"{mask_name}_{idx}.{mask_extn}\"\n",
    "\n",
    "            image_path = os.path.join(save_path, \"images\", tmp_img_name)\n",
    "            mask_path = os.path.join(save_path, \"masks\", tmp_mask_name)\n",
    "\n",
    "            cv2.imwrite(image_path, i)\n",
    "            cv2.imwrite(mask_path, m)\n",
    "\n",
    "            idx += 1\n"
   ]
  },
  {
   "cell_type": "code",
   "execution_count": 3,
   "id": "b7e7c345",
   "metadata": {},
   "outputs": [],
   "source": [
    "\"\"\" Loading original images and masks. \"\"\"\n",
    "\n",
    "path = \"../Datasets/ham1000-segmentation-and-classification\"\n",
    "\n",
    "images_path = os.path.join(path, \"images/\")\n",
    "masks_path = os.path.join(path, \"masks/\")\n"
   ]
  },
  {
   "cell_type": "code",
   "execution_count": 4,
   "id": "4b357a56",
   "metadata": {},
   "outputs": [
    {
     "name": "stdout",
     "output_type": "stream",
     "text": [
      "Original Images: 10013 - Original Masks: 10013\n"
     ]
    },
    {
     "name": "stderr",
     "output_type": "stream",
     "text": [
      "100%|█████████████████████████████████████| 10013/10013 [03:15<00:00, 51.09it/s]\n"
     ]
    },
    {
     "name": "stdout",
     "output_type": "stream",
     "text": [
      "Augmented Images: 60078 - Augmented Masks: 60078\n"
     ]
    }
   ],
   "source": [
    "images, masks = load_data(path)\n",
    "print(f\"Original Images: {len(images)} - Original Masks: {len(masks)}\")\n",
    "\n",
    "\"\"\" Creating folders. \"\"\"\n",
    "create_dir(\"../Datasets/new_data/images\")\n",
    "create_dir(\"../Datasets/new_data/masks\")\n",
    "\n",
    "\"\"\" Applying data augmentation. \"\"\"\n",
    "augment_data(images, masks, \"../Datasets/new_data\", augment=True)\n",
    "\n",
    "\"\"\" Loading augmented images and masks. \"\"\"\n",
    "images, masks = load_data(\"../Datasets/new_data/\")\n",
    "print(f\"Augmented Images: {len(images)} - Augmented Masks: {len(masks)}\")\n"
   ]
  },
  {
   "cell_type": "code",
   "execution_count": null,
   "id": "3af958a8",
   "metadata": {},
   "outputs": [],
   "source": []
  }
 ],
 "metadata": {
  "kernelspec": {
   "display_name": "Python 3 (ipykernel)",
   "language": "python",
   "name": "python3"
  },
  "language_info": {
   "codemirror_mode": {
    "name": "ipython",
    "version": 3
   },
   "file_extension": ".py",
   "mimetype": "text/x-python",
   "name": "python",
   "nbconvert_exporter": "python",
   "pygments_lexer": "ipython3",
   "version": "3.9.18"
  }
 },
 "nbformat": 4,
 "nbformat_minor": 5
}

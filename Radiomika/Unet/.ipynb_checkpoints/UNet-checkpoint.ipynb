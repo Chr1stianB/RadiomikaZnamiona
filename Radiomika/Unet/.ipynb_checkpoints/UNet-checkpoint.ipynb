{
 "cells": [
  {
   "cell_type": "code",
   "execution_count": 2,
   "id": "f6f5ab9b-4971-4594-93c6-d5ce4c611611",
   "metadata": {},
   "outputs": [],
   "source": [
    "import torch\n",
    "import torch.nn as nn\n",
    "import numpy as np \n",
    "import os\n",
    "import matplotlib.pyplot as plt\n",
    "import cv2\n",
    "import torchvision\n",
    "import time\n",
    "from tqdm import tqdm\n",
    "\n",
    "from torch.nn import functional as F\n",
    "from torchvision.transforms import CenterCrop\n",
    "from torch.nn import ConvTranspose2d\n",
    "from torch.nn import MaxPool2d\n",
    "from torch.nn import ReLU\n",
    "from torch.nn import Conv2d\n",
    "from torch.nn import ModuleList\n",
    "from torch.utils.data import Dataset\n",
    "from torch.nn import BCEWithLogitsLoss\n",
    "from torch.optim import Adam\n",
    "from torch.utils.data import DataLoader\n",
    "from sklearn.model_selection import train_test_split\n",
    "from PIL import Image\n",
    "from imutils import paths\n",
    "from sklearn.metrics import jaccard_score\n",
    "from sklearn.metrics import f1_score\n",
    "\n",
    "np.random.seed(101)\n"
   ]
  },
  {
   "cell_type": "code",
   "execution_count": 2,
   "id": "bf50ea5f-738c-4c5e-99f5-060e63dab27a",
   "metadata": {},
   "outputs": [
    {
     "name": "stdout",
     "output_type": "stream",
     "text": [
      "Current device is cuda\n"
     ]
    },
    {
     "data": {
      "text/plain": [
       "['sm_37',\n",
       " 'sm_50',\n",
       " 'sm_60',\n",
       " 'sm_61',\n",
       " 'sm_70',\n",
       " 'sm_75',\n",
       " 'sm_80',\n",
       " 'sm_86',\n",
       " 'sm_90',\n",
       " 'compute_37']"
      ]
     },
     "execution_count": 2,
     "metadata": {},
     "output_type": "execute_result"
    }
   ],
   "source": [
    "# determine the device to be used for training and evaluation\n",
    "DEVICE = \"mps\" if torch.cuda.is_available() else \"cpu\"\n",
    "\n",
    "# determine if we will be pinning memory during data loading\n",
    "PIN_MEMORY = True if DEVICE == \"mps\" else False\n",
    "print(f'Current device is {DEVICE}')\n",
    "\n",
    "torch.cuda.get_arch_list()\n"
   ]
  },
  {
   "cell_type": "code",
   "execution_count": 3,
   "id": "0f8288de-4e8a-4a62-b615-4259ba86f883",
   "metadata": {},
   "outputs": [],
   "source": [
    "main_folder = 'Data'\n",
    "\n",
    "trainx_folder = os.path.join(main_folder, 'trainx\\\\')\n",
    "trainy_folder = os.path.join(main_folder, 'trainy\\\\')\n"
   ]
  },
  {
   "cell_type": "code",
   "execution_count": 4,
   "id": "335fa2f7-b5e5-4d58-958b-718217738afd",
   "metadata": {},
   "outputs": [],
   "source": [
    "trainx_paths = sorted(list(paths.list_images(trainx_folder)))\n",
    "trainy_paths = sorted(list(paths.list_images(trainy_folder)))\n"
   ]
  },
  {
   "cell_type": "code",
   "execution_count": null,
   "id": "a61f057f-6642-4bd3-a8ba-9674126de982",
   "metadata": {},
   "outputs": [],
   "source": [
    "X_train = np.array([np.array(Image.open(fname)) for fname in trainx_paths])\n",
    "Y_train = np.array([np.array(Image.open(fname)) for fname in trainy_paths])\n"
   ]
  },
  {
   "cell_type": "code",
   "execution_count": null,
   "id": "1900fe78-9025-49c2-9119-8f0f2ba23320",
   "metadata": {},
   "outputs": [],
   "source": [
    "INPUT_IMAGE_HEIGHT = 224\n",
    "INPUT_IMAGE_WIDTH = 224\n"
   ]
  },
  {
   "cell_type": "code",
   "execution_count": null,
   "id": "909f4cbe-49d0-43cb-8e77-427b19687cec",
   "metadata": {},
   "outputs": [],
   "source": [
    "resized_X = []\n",
    "resized_Y = []\n",
    "\n",
    "new_width = INPUT_IMAGE_WIDTH\n",
    "new_height = INPUT_IMAGE_HEIGHT\n",
    "\n",
    "for image in X_train:\n",
    "    pil_image = Image.fromarray(image)\n",
    "    resized_image = pil_image.resize((new_width, new_height))\n",
    "    resized_X.append(np.array(resized_image))\n",
    "    \n",
    "for image in Y_train:\n",
    "    pil_image = Image.fromarray(image)\n",
    "    resized_image = pil_image.resize((new_width, new_height))\n",
    "    resized_Y.append(np.array(resized_image))\n",
    "    "
   ]
  },
  {
   "cell_type": "code",
   "execution_count": null,
   "id": "29c9bc6f-aca8-415a-a955-a66a7b0e96d2",
   "metadata": {},
   "outputs": [],
   "source": [
    "type(resized_Y)\n"
   ]
  },
  {
   "cell_type": "code",
   "execution_count": null,
   "id": "69334b83-65e6-4143-8c32-4b70b9bec0bf",
   "metadata": {},
   "outputs": [],
   "source": [
    "x_train, x_test, y_train, y_test = train_test_split(resized_X, resized_Y, test_size = 0.25, random_state = 101)\n"
   ]
  },
  {
   "cell_type": "code",
   "execution_count": null,
   "id": "8b8c25ef-1e95-40c4-94e4-9e932e39f1d5",
   "metadata": {},
   "outputs": [],
   "source": [
    "plt.figure(figsize=(20,9))\n",
    "plt.subplot(2,4,1)\n",
    "plt.imshow(X_train[0])\n",
    "plt.subplot(2,4,2)\n",
    "plt.imshow(X_train[3])\n",
    "plt.subplot(2,4,3)\n",
    "plt.imshow(X_train[54])\n",
    "plt.subplot(2,4,4)\n",
    "plt.imshow(X_train[77])\n",
    "plt.subplot(2,4,5)\n",
    "plt.imshow(X_train[100])\n",
    "plt.subplot(2,4,6)\n",
    "plt.imshow(X_train[125])\n",
    "plt.subplot(2,4,7)\n",
    "plt.imshow(X_train[130])\n",
    "plt.subplot(2,4,8)\n",
    "plt.imshow(X_train[149])\n",
    "plt.show()\n"
   ]
  },
  {
   "cell_type": "code",
   "execution_count": null,
   "id": "5632cf5f-6fac-43dc-b647-5941d381d4ff",
   "metadata": {},
   "outputs": [],
   "source": [
    "plt.figure(figsize=(20,9))\n",
    "plt.subplot(2,4,1)\n",
    "plt.imshow(Y_train[0], cmap = plt.cm.binary_r)\n",
    "plt.subplot(2,4,2)\n",
    "plt.imshow(Y_train[3], cmap = plt.cm.binary_r)\n",
    "plt.subplot(2,4,3)\n",
    "plt.imshow(Y_train[54], cmap = plt.cm.binary_r)\n",
    "plt.subplot(2,4,4)\n",
    "plt.imshow(Y_train[77], cmap = plt.cm.binary_r)\n",
    "plt.subplot(2,4,5)\n",
    "plt.imshow(Y_train[100], cmap = plt.cm.binary_r)\n",
    "plt.subplot(2,4,6)\n",
    "plt.imshow(Y_train[125], cmap = plt.cm.binary_r)\n",
    "plt.subplot(2,4,7)\n",
    "plt.imshow(Y_train[130], cmap = plt.cm.binary_r)\n",
    "plt.subplot(2,4,8)\n",
    "plt.imshow(Y_train[149], cmap = plt.cm.binary_r)\n",
    "plt.show()\n"
   ]
  },
  {
   "cell_type": "code",
   "execution_count": null,
   "id": "a5ec56dd-0578-4e72-826a-4a284a49c4fc",
   "metadata": {},
   "outputs": [],
   "source": [
    "def random_rotation(x_image, y_image):\n",
    "    rows_x,cols_x, chl_x = x_image.shape\n",
    "    rows_y,cols_y = y_image.shape\n",
    "    rand_num = np.random.randint(-40,40)\n",
    "    M1 = cv2.getRotationMatrix2D((cols_x/2,rows_x/2),rand_num,1)\n",
    "    M2 = cv2.getRotationMatrix2D((cols_y/2,rows_y/2),rand_num,1)\n",
    "    x_image = cv2.warpAffine(x_image,M1,(cols_x,rows_x))\n",
    "    y_image = cv2.warpAffine(y_image.astype('float32'),M2,(cols_y,rows_y))\n",
    "    return x_image, y_image.astype('int')\n",
    "\n",
    "def horizontal_flip(x_image, y_image):\n",
    "    x_image = cv2.flip(x_image, 1)\n",
    "    y_image = cv2.flip(y_image.astype('float32'), 1)\n",
    "    return x_image, y_image.astype('int')\n"
   ]
  },
  {
   "cell_type": "code",
   "execution_count": null,
   "id": "a874ec05-f6de-4989-a2d3-4f481f215fce",
   "metadata": {},
   "outputs": [],
   "source": [
    "def img_augmentation(x_train, y_train):\n",
    "    x_rotat = []\n",
    "    y_rotat = []\n",
    "    x_flip = []\n",
    "    y_flip = []\n",
    "    for idx in range(len(x_train)):\n",
    "        x,y = random_rotation(x_train[idx], y_train[idx])\n",
    "        x_rotat.append(x)\n",
    "        y_rotat.append(y)\n",
    "        x,y = horizontal_flip(x_train[idx], y_train[idx])\n",
    "        x_flip.append(x)\n",
    "        y_flip.append(y)\n",
    "    return np.array(x_rotat), np.array(y_rotat), np.array(x_flip), np.array(y_flip)\n"
   ]
  },
  {
   "cell_type": "code",
   "execution_count": null,
   "id": "b26eeca5-55a6-4b9e-99a6-885dd759d09c",
   "metadata": {},
   "outputs": [],
   "source": [
    "x_rotated, y_rotated, x_flipped, y_flipped = img_augmentation(x_train, y_train)\n"
   ]
  },
  {
   "cell_type": "code",
   "execution_count": null,
   "id": "83571868-0dc5-484e-838e-9f1283b48421",
   "metadata": {},
   "outputs": [],
   "source": [
    "img_num = 7\n",
    "plt.figure(figsize=(12,12))\n",
    "plt.subplot(3,2,1)\n",
    "plt.imshow(x_train[img_num])\n",
    "plt.title('Original Image')\n",
    "plt.subplot(3,2,2)\n",
    "plt.imshow(y_train[img_num], plt.cm.binary_r)\n",
    "plt.title('Original Mask')\n",
    "plt.subplot(3,2,3)\n",
    "plt.imshow(x_rotated[img_num])\n",
    "plt.title('Rotated Image')\n",
    "plt.subplot(3,2,4)\n",
    "plt.imshow(y_rotated[img_num], plt.cm.binary_r)\n",
    "plt.title('Rotated Mask')\n",
    "plt.subplot(3,2,5)\n",
    "plt.imshow(x_flipped[img_num])\n",
    "plt.title('Flipped Image')\n",
    "plt.subplot(3,2,6)\n",
    "plt.imshow(y_flipped[img_num], plt.cm.binary_r)\n",
    "plt.title('Flipped Mask')\n",
    "plt.show()\n"
   ]
  },
  {
   "cell_type": "code",
   "execution_count": null,
   "id": "67b0ed6c-5663-495c-9d6f-28bd0d9918a3",
   "metadata": {},
   "outputs": [],
   "source": [
    "x_train_full = np.concatenate([x_train, x_rotated, x_flipped])\n",
    "y_train_full = np.concatenate([y_train, y_rotated, y_flipped])\n"
   ]
  },
  {
   "cell_type": "code",
   "execution_count": null,
   "id": "c6140ab4-b12d-4ecf-9899-693f62c90faa",
   "metadata": {},
   "outputs": [],
   "source": [
    "x_train, x_val, y_train, y_val = train_test_split(x_train_full, y_train_full, test_size = 0.20, random_state = 101)\n"
   ]
  },
  {
   "cell_type": "code",
   "execution_count": null,
   "id": "5ab47f35-2ba3-47d0-aacd-bca077742d1f",
   "metadata": {},
   "outputs": [],
   "source": [
    "print(\"Length of the Training Set   : {}\".format(len(x_train)))\n",
    "print(\"Length of the Test Set       : {}\".format(len(x_test)))\n",
    "print(\"Length of the Validation Set : {}\".format(len(x_val)))\n"
   ]
  },
  {
   "cell_type": "code",
   "execution_count": null,
   "id": "3db24b03-9200-4602-a7a9-fb8a2be8513d",
   "metadata": {},
   "outputs": [],
   "source": [
    "class SegmentationDataset(Dataset):\n",
    "    def __init__(self, images, masks, transform=None):\n",
    "        self.images = images\n",
    "        self.masks = masks\n",
    "        self.transform = transform\n",
    "\n",
    "    def __len__(self):\n",
    "        return len(self.images)\n",
    "\n",
    "    def __getitem__(self, idx):\n",
    "        image = self.images[idx]\n",
    "        mask = self.masks[idx]\n",
    "\n",
    "        if self.transform:\n",
    "            image = self.transform(image)\n",
    "            mask = self.transform(mask)\n",
    "\n",
    "        return image, mask\n"
   ]
  },
  {
   "cell_type": "code",
   "execution_count": null,
   "id": "ed032217-086c-439d-8cb0-2d0afc86d244",
   "metadata": {},
   "outputs": [],
   "source": [
    "transforms = torchvision.transforms.Compose([\n",
    "    torchvision.transforms.ToPILImage(),\n",
    "    torchvision.transforms.ToTensor()])\n"
   ]
  },
  {
   "cell_type": "code",
   "execution_count": null,
   "id": "abc840a6-5a36-470c-b90e-10283af11a56",
   "metadata": {},
   "outputs": [],
   "source": [
    "trainDS = SegmentationDataset(images=x_train, masks=y_train,transform=transforms)\n",
    "valDS = SegmentationDataset(images=x_test, masks=y_test,transform=transforms)\n"
   ]
  },
  {
   "cell_type": "code",
   "execution_count": null,
   "id": "f5827a62-8f58-4308-9f92-d3be0d3283d9",
   "metadata": {},
   "outputs": [],
   "source": [
    "BATCH_SIZE = 32\n",
    "\n",
    "print(f\"[INFO] found {len(trainDS)} examples in the training set...\")\n",
    "print(f\"[INFO] found {len(valDS)} examples in the test set...\")\n"
   ]
  },
  {
   "cell_type": "code",
   "execution_count": null,
   "id": "5052d94e-57df-4315-b15f-c54f5c46dff2",
   "metadata": {},
   "outputs": [],
   "source": [
    "trainLoader = DataLoader(trainDS, shuffle=True,batch_size=BATCH_SIZE, pin_memory=PIN_MEMORY,num_workers=0)\n",
    "valLoader = DataLoader(valDS, shuffle=False,batch_size=BATCH_SIZE, pin_memory=PIN_MEMORY,num_workers=0)\n"
   ]
  },
  {
   "cell_type": "code",
   "execution_count": null,
   "id": "d0c3d868-1fb7-4a09-a773-3a981af9b7f1",
   "metadata": {},
   "outputs": [],
   "source": []
  },
  {
   "cell_type": "code",
   "execution_count": null,
   "id": "55715d3c-471b-48fa-90a3-f08c32c297e0",
   "metadata": {},
   "outputs": [],
   "source": [
    "class DiceBCELoss(nn.Module):\n",
    "    def __init__(self, weight=None, size_average=True):\n",
    "        super(DiceBCELoss, self).__init__()\n",
    "\n",
    "    def forward(self, inputs, targets, smooth=1):\n",
    "        \n",
    "        #comment out if your model contains a sigmoid or equivalent activation layer\n",
    "        inputs = torch.sigmoid(inputs)       \n",
    "        \n",
    "        #flatten label and prediction tensors\n",
    "        inputs = inputs.view(-1)\n",
    "        targets = targets.view(-1)\n",
    "        \n",
    "        intersection = (inputs * targets).sum()                            \n",
    "        dice_loss = 1 - (2.*intersection + smooth)/(inputs.sum() + targets.sum() + smooth)  \n",
    "        BCE = F.binary_cross_entropy(inputs, targets, reduction='mean')\n",
    "        Dice_BCE = BCE + dice_loss\n",
    "        \n",
    "        return Dice_BCE\n",
    "    "
   ]
  },
  {
   "cell_type": "code",
   "execution_count": null,
   "id": "6a0c4649-8149-463c-83e6-ec651276cce1",
   "metadata": {},
   "outputs": [],
   "source": [
    "# define transformations\n",
    "transforms = torchvision.transforms.Compose([\n",
    "    torchvision.transforms.ToPILImage(),\n",
    "    torchvision.transforms.Resize((224,224)),\n",
    "    torchvision.transforms.ToTensor()])\n"
   ]
  },
  {
   "cell_type": "code",
   "execution_count": null,
   "id": "d03abbb9-6e0e-4fe6-ae66-b5c6e8fce968",
   "metadata": {},
   "outputs": [],
   "source": [
    "trainDS = SegmentationDataset(imagePaths=x_train, maskPaths=x_val,transforms=transforms)\n",
    "valDS = SegmentationDataset(imagePaths=x_val, maskPaths=y_val,transforms=transforms)\n"
   ]
  },
  {
   "cell_type": "code",
   "execution_count": null,
   "id": "b259e868-4b4c-44ea-9f05-cda70b59eaaa",
   "metadata": {},
   "outputs": [],
   "source": [
    "# create the training and test data loaders\n",
    "trainLoader = DataLoader(trainDS, shuffle=True,batch_size=32, pin_memory=PIN_MEMORY,num_workers=0)\n",
    "testLoader = DataLoader(testDS, shuffle=False,batch_size=32, pin_memory=PIN_MEMORY,num_workers=0)\n"
   ]
  },
  {
   "cell_type": "code",
   "execution_count": null,
   "id": "41908bde-621c-453f-ade1-73334e20467f",
   "metadata": {},
   "outputs": [],
   "source": [
    "class Block(nn.Module):\n",
    "    def __init__(self, inChannels, outChannels):\n",
    "        super().__init__()\n",
    "        # store the convolution and RELU layers\n",
    "        self.conv1 = Conv2d(inChannels, outChannels, 3)\n",
    "        self.relu = ReLU()\n",
    "        self.conv2 = Conv2d(outChannels, outChannels, 3)\n",
    "    def forward(self, x):\n",
    "        # apply CONV => RELU => CONV block to the inputs and return it\n",
    "        return self.conv2(self.relu(self.conv1(x)))\n",
    "\n",
    "class Encoder(nn.Module):\n",
    "    def __init__(self, channels=(3, 16, 32, 64)):\n",
    "        super().__init__()\n",
    "        # store the encoder blocks and maxpooling layer\n",
    "        self.encBlocks = ModuleList(\n",
    "            [Block(channels[i], channels[i + 1])\n",
    "             for i in range(len(channels) - 1)])\n",
    "        self.pool = MaxPool2d(2)\n",
    "        \n",
    "    def forward(self, x):\n",
    "        # initialize an empty list to store the intermediate outputs\n",
    "        blockOutputs = []\n",
    "        # loop through the encoder blocks\n",
    "        for block in self.encBlocks:\n",
    "            # pass the inputs through the current encoder block, store\n",
    "            # the outputs, and then apply maxpooling on the output\n",
    "            x = block(x)\n",
    "            blockOutputs.append(x)\n",
    "            x = self.pool(x)\n",
    "            # return the list containing the intermediate outputs\n",
    "        return blockOutputs                        \n",
    "\n",
    "class Decoder(nn.Module):\n",
    "    def __init__(self, channels=(64, 32, 16)):\n",
    "        super().__init__()\n",
    "        # initialize the number of channels, upsampler blocks, and\n",
    "        # decoder blocks\n",
    "        self.channels = channels\n",
    "        self.upconvs = ModuleList(\n",
    "            [ConvTranspose2d(channels[i], channels[i + 1], 2, 2)\n",
    "             for i in range(len(channels) - 1)])\n",
    "        self.dec_blocks = ModuleList(\n",
    "            [Block(channels[i], channels[i + 1])\n",
    "             for i in range(len(channels) - 1)])\n",
    "        \n",
    "    def forward(self, x, encFeatures):\n",
    "        # loop through the number of channels\n",
    "        for i in range(len(self.channels) - 1):\n",
    "            # pass the inputs through the upsampler blocks\n",
    "            x = self.upconvs[i](x)\n",
    "            # crop the current features from the encoder blocks,\n",
    "            # concatenate them with the current upsampled features,\n",
    "            # and pass the concatenated output through the current\n",
    "            # decoder block\n",
    "            encFeat = self.crop(encFeatures[i], x)\n",
    "            x = torch.cat([x, encFeat], dim=1)\n",
    "            x = self.dec_blocks[i](x)\n",
    "            # return the final decoder output\n",
    "        return x\n",
    "      \n",
    "    def crop(self, encFeatures, x):\n",
    "        # grab the dimensions of the inputs, and crop the encoder\n",
    "        # features to match the dimensions\n",
    "        (_, _, H, W) = x.shape\n",
    "        encFeatures = CenterCrop([H, W])(encFeatures)\n",
    "        # return the cropped features\n",
    "        return encFeatures\n",
    "\n",
    "class UNet(nn.Module):\n",
    "    def __init__(self,encChannels=(3, 16, 32, 64), decChannels=(64, 32, 16), \n",
    "                 nbClasses=1, retainDim=True, \n",
    "                 outSize=(INPUT_IMAGE_HEIGHT,  INPUT_IMAGE_WIDTH)):\n",
    "        super().__init__()\n",
    "        # initialize the encoder and decoder\n",
    "        self.encoder = Encoder(encChannels)\n",
    "        self.decoder = Decoder(decChannels)\n",
    "        \n",
    "        # initialize the regression head and store the class variables\n",
    "        self.head = Conv2d(decChannels[-1], nbClasses, 1)\n",
    "        self.retainDim = retainDim\n",
    "        self.outSize = outSize\n",
    "        \n",
    "    def forward(self, x):\n",
    "        # grab the features from the encoder\n",
    "        encFeatures = self.encoder(x)\n",
    "        \n",
    "        # pass the encoder features through decoder making sure that\n",
    "        # their dimensions are suited for concatenation\n",
    "        decFeatures = self.decoder(encFeatures[::-1][0], encFeatures[::-1][1:])\n",
    "        \n",
    "        # pass the decoder features through the regression head to\n",
    "        # obtain the segmentation mask\n",
    "        map = self.head(decFeatures)\n",
    "        \n",
    "        # check to see if we are retaining the original output\n",
    "        # dimensions and if so, then resize the output to match them\n",
    "        if self.retainDim:\n",
    "            map = F.interpolate(map, self.outSize)\n",
    "            \n",
    "        # return the segmentation map    \n",
    "        return map\n"
   ]
  },
  {
   "cell_type": "code",
   "execution_count": null,
   "id": "6ba426ac-b0ad-4608-82ed-0f61a12ce83f",
   "metadata": {},
   "outputs": [],
   "source": [
    "# initialize our UNet model\n",
    "unet = UNet().to(DEVICE)\n",
    "# initialize loss function and optimizer\n",
    "lossFunc = DiceBCELoss()\n",
    "INIT_LR = 0.003\n",
    "opt = Adam(unet.parameters(), lr=INIT_LR)\n",
    "# calculate steps per epoch for training and test set\n",
    "trainSteps = len(trainDS) // BATCH_SIZE\n",
    "testSteps = len(valDS) // BATCH_SIZE\n",
    "# initialize a dictionary to store training history\n",
    "H = {\"train_loss\": [], \"test_loss\": []}\n",
    "next(unet.parameters()).is_cuda\n"
   ]
  },
  {
   "cell_type": "code",
   "execution_count": null,
   "id": "c6a94d9b-e277-4933-8f1b-1a749550c983",
   "metadata": {},
   "outputs": [],
   "source": [
    "NUM_EPOCHS = 20\n"
   ]
  },
  {
   "cell_type": "code",
   "execution_count": null,
   "id": "a147ef75-461d-4635-b7d1-ddc95887f9a0",
   "metadata": {},
   "outputs": [],
   "source": [
    "# loop over epochs\n",
    "print(\"[INFO] training the network...\")\n",
    "startTime = time.time()\n",
    "for e in tqdm(range(NUM_EPOCHS)):\n",
    "    # set the model in training mode\n",
    "    unet.train()\n",
    "    # initialize the total training and validation loss\n",
    "    totalTrainLoss = 0\n",
    "    totalTestLoss = 0\n",
    "    meniou = 0\n",
    "    # loop over the training set\n",
    "    for (i, (x, y)) in enumerate(trainLoader):\n",
    "        # send the input to the device\n",
    "        (x, y) = (x.to(DEVICE), y.to(DEVICE))\n",
    "        # perform a forward pass and calculate the training loss\n",
    "        pred = unet(x)\n",
    "        loss = lossFunc(pred, y)\n",
    "        # first, zero out any previously accumulated gradients, then\n",
    "        # perform backpropagation, and then update model parameters\n",
    "        opt.zero_grad()\n",
    "        loss.backward()\n",
    "        opt.step()\n",
    "        # add the loss to the total training loss so far\n",
    "        totalTrainLoss += loss\n",
    "    # switch off autograd\n",
    "    with torch.no_grad():\n",
    "        # set the model in evaluation mode\n",
    "        unet.eval()\n",
    "        # loop over the validation set\n",
    "        for (x, y) in testLoader:\n",
    "            # send the input to the device\n",
    "            (x, y) = (x.to(DEVICE), y.to(DEVICE))\n",
    "            # make the predictions and calculate the validation loss\n",
    "            pred = unet(x)\n",
    "            totalTestLoss += lossFunc(pred, y)\n",
    "    # update our training history\n",
    "    H[\"train_loss\"].append(avgTrainLoss.cpu().detach().numpy())\n",
    "    H[\"test_loss\"].append(avgTestLoss.cpu().detach().numpy())\n",
    "    # print the model training and validation information\n",
    "    print(\"[INFO] EPOCH: {}/{}\".format(e + 1, NUM_EPOCHS))\n",
    "    print(\"Train loss: {:.6f}, Test loss: {:.4f}\".format(avgTrainLoss, avgTestLoss))\n",
    "    print(avgTrainIOU)\n",
    "    # display the total time needed to perform the training\n",
    "    endTime = time.time()\n",
    "    print(\"[INFO] total time taken to train the model: {:.2f}s\".format(endTime - startTime))\n",
    "    "
   ]
  },
  {
   "cell_type": "code",
   "execution_count": null,
   "id": "95297fb9-35a4-4949-a6bd-4ad93342bea3",
   "metadata": {},
   "outputs": [],
   "source": []
  }
 ],
 "metadata": {
  "kernelspec": {
   "display_name": "Python 3 (ipykernel)",
   "language": "python",
   "name": "python3"
  },
  "language_info": {
   "codemirror_mode": {
    "name": "ipython",
    "version": 3
   },
   "file_extension": ".py",
   "mimetype": "text/x-python",
   "name": "python",
   "nbconvert_exporter": "python",
   "pygments_lexer": "ipython3",
   "version": "3.9.18"
  }
 },
 "nbformat": 4,
 "nbformat_minor": 5
}

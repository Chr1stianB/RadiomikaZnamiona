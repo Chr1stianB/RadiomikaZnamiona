{
 "cells": [
  {
   "cell_type": "code",
   "execution_count": 23,
   "id": "d3680acf",
   "metadata": {},
   "outputs": [],
   "source": [
    "import torch\n",
    "import torch.nn as nn\n",
    "import numpy as np \n",
    "import os\n",
    "import matplotlib.pyplot as plt\n",
    "import cv2\n",
    "import torchvision\n",
    "import time\n",
    "from tqdm import tqdm\n",
    "import pandas as pd\n",
    "\n",
    "from torch.utils.data import ConcatDataset\n",
    "from torch.nn import functional as F\n",
    "from torchvision.transforms import CenterCrop\n",
    "from torch.nn import ConvTranspose2d\n",
    "from torch.nn import MaxPool2d\n",
    "from torch.nn import ReLU\n",
    "from torch.nn import Conv2d\n",
    "from torch.nn import ModuleList\n",
    "from torch.utils.data import Dataset\n",
    "from torch.nn import BCEWithLogitsLoss\n",
    "from torch.optim import Adam\n",
    "from torch.utils.data import DataLoader\n",
    "from sklearn.model_selection import train_test_split\n",
    "from PIL import Image\n",
    "from imutils import paths\n",
    "from sklearn.metrics import recall_score, accuracy_score, precision_score, f1_score, jaccard_score\n",
    "\n",
    "torch.manual_seed(101)\n",
    "np.random.seed(101)\n"
   ]
  },
  {
   "cell_type": "code",
   "execution_count": 2,
   "id": "1cd18335",
   "metadata": {},
   "outputs": [],
   "source": [
    "# define the number of channels in the input, number of classes,\n",
    "# and number of levels in the U-Net model\n",
    "NUM_CHANNELS = 1\n",
    "NUM_CLASSES = 1\n",
    "NUM_LEVELS = 3\n",
    "\n",
    "# initialize learning rate, number of epochs to train for, and the\n",
    "# batch size\n",
    "INIT_LR = 0.001\n",
    "NUM_EPOCHS = 3\n",
    "BATCH_SIZE = 64\n",
    "\n",
    "# define the input image dimensions\n",
    "INPUT_IMAGE_WIDTH = 224\n",
    "INPUT_IMAGE_HEIGHT = 224\n",
    "\n",
    "# define threshold to filter weak predictions\n",
    "THRESHOLD = 0.5\n",
    "\n",
    "# define the path to the base output directory\n",
    "BASE_OUTPUT = \"output\"\n",
    "\n",
    "# define the path to the output serialized model, model training\n",
    "# plot, and testing image paths\n",
    "MODEL_PATH = os.path.join(BASE_OUTPUT, \"unet_val_64_40_salt.pth\")\n",
    "LAST_PATH = os.path.join(BASE_OUTPUT, \"unet_val_64_40.pth\")\n",
    "NEW_PATH = os.path.join(BASE_OUTPUT, \"unet_val_32_50_CUDA.pth\")\n",
    "PLOT_PATH = os.path.sep.join([BASE_OUTPUT, \"plot.png\"])\n",
    "TEST_PATHS = os.path.sep.join([BASE_OUTPUT, \"test_paths.txt\"])\n"
   ]
  },
  {
   "cell_type": "code",
   "execution_count": 3,
   "id": "4766bae3",
   "metadata": {},
   "outputs": [],
   "source": [
    "# determine the device to be used for training and evaluation\n",
    "#DEVICE = \"mps\" if torch.backends.mps.is_available() else \"cpu\"\n",
    "\n",
    "# determine if we will be pinning memory during data loading\n",
    "#PIN_MEMORY = True if DEVICE == \"mps\" else False\n",
    "#print(f'Current device is {DEVICE}')\n"
   ]
  },
  {
   "cell_type": "code",
   "execution_count": 4,
   "id": "b73d9f7e-906b-49fa-a433-95725f5ba909",
   "metadata": {},
   "outputs": [
    {
     "name": "stdout",
     "output_type": "stream",
     "text": [
      "Current device is cuda\n"
     ]
    },
    {
     "data": {
      "text/plain": [
       "['sm_37',\n",
       " 'sm_50',\n",
       " 'sm_60',\n",
       " 'sm_61',\n",
       " 'sm_70',\n",
       " 'sm_75',\n",
       " 'sm_80',\n",
       " 'sm_86',\n",
       " 'sm_90',\n",
       " 'compute_37']"
      ]
     },
     "execution_count": 4,
     "metadata": {},
     "output_type": "execute_result"
    }
   ],
   "source": [
    "# determine the device to be used for training and evaluation\n",
    "DEVICE = \"cuda\" if torch.cuda.is_available() else \"cpu\"\n",
    "\n",
    "# determine if we will be pinning memory during data loading\n",
    "PIN_MEMORY = True if DEVICE == \"cuda\" else False\n",
    "print(f'Current device is {DEVICE}')\n",
    "\n",
    "torch.cuda.get_arch_list()\n"
   ]
  },
  {
   "cell_type": "code",
   "execution_count": 5,
   "id": "b34d965e",
   "metadata": {},
   "outputs": [],
   "source": [
    "main_folder = '../Datasets/ham1000-segmentation-and-classification'\n",
    "\n",
    "trainx_folder = os.path.join(main_folder, 'images/')\n",
    "trainy_folder = os.path.join(main_folder, 'masks/')\n"
   ]
  },
  {
   "cell_type": "code",
   "execution_count": 6,
   "id": "4b45f77d",
   "metadata": {},
   "outputs": [],
   "source": [
    "trainx_paths = sorted(list(paths.list_images(trainx_folder)))\n",
    "trainy_paths = sorted(list(paths.list_images(trainy_folder)))\n"
   ]
  },
  {
   "cell_type": "code",
   "execution_count": 7,
   "id": "24b19ae0",
   "metadata": {},
   "outputs": [],
   "source": [
    "x_train, x_val_test, y_train, y_val_test = train_test_split(trainx_paths, trainy_paths, test_size = 0.4, random_state = 101)"
   ]
  },
  {
   "cell_type": "code",
   "execution_count": 8,
   "id": "5c73a8d4",
   "metadata": {},
   "outputs": [],
   "source": [
    "x_val, x_test, y_val, y_test =  train_test_split(x_val_test, y_val_test, test_size = 0.5, random_state = 101)"
   ]
  },
  {
   "cell_type": "code",
   "execution_count": 9,
   "id": "c8a44083",
   "metadata": {},
   "outputs": [],
   "source": [
    "augmentations = torchvision.transforms.Compose([\n",
    "    torchvision.transforms.ToPILImage(),\n",
    "    torchvision.transforms.Resize((INPUT_IMAGE_HEIGHT,INPUT_IMAGE_WIDTH)),\n",
    "    torchvision.transforms.RandomRotation(180),\n",
    "    torchvision.transforms.RandomHorizontalFlip(0.2),\n",
    "    torchvision.transforms.ToTensor()])\n"
   ]
  },
  {
   "cell_type": "code",
   "execution_count": 10,
   "id": "60bbbeb8",
   "metadata": {},
   "outputs": [],
   "source": [
    "transforms = torchvision.transforms.Compose([\n",
    "    torchvision.transforms.ToPILImage(),\n",
    "    torchvision.transforms.Resize((INPUT_IMAGE_HEIGHT,INPUT_IMAGE_WIDTH)),\n",
    "    torchvision.transforms.ToTensor()])\n"
   ]
  },
  {
   "cell_type": "code",
   "execution_count": 11,
   "id": "fb98943b",
   "metadata": {},
   "outputs": [],
   "source": [
    "class SegmentationDataset(Dataset):\n",
    "    def __init__(self, imagePaths, maskPaths, transforms):\n",
    "        # store the image and mask filepaths, and augmentation\n",
    "        # transforms\n",
    "        self.imagePaths = imagePaths\n",
    "        self.maskPaths = maskPaths\n",
    "        self.transforms = transforms\n",
    "        self.augmentations = augmentations\n",
    "    def __len__(self):\n",
    "        # return the number of total samples contained in the dataset\n",
    "        return len(self.imagePaths)\n",
    "    def __getitem__(self, idx):\n",
    "        # grab the image path from the current index\n",
    "        imagePath = self.imagePaths[idx]\n",
    "        # load the image from disk, swap its channels from BGR to RGB,\n",
    "        # and read the associated mask from disk in grayscale mode\n",
    "        image = cv2.imread(imagePath)\n",
    "        image = cv2.cvtColor(image, cv2.COLOR_BGR2RGB)\n",
    "        mask = cv2.imread(self.maskPaths[idx], 0)\n",
    "        # check to see if we are applying any transformations\n",
    "        if self.transforms is not None:\n",
    "            # apply the transformations to both image and its mask\n",
    "            image = self.transforms(image)\n",
    "            mask = self.transforms(mask)\n",
    "        # return a tuple of the image and its mask\n",
    "        return (image, mask)\n",
    "    "
   ]
  },
  {
   "cell_type": "code",
   "execution_count": 12,
   "id": "68abeaff",
   "metadata": {},
   "outputs": [],
   "source": [
    "# create the train and test datasets\n",
    "trainDS_1 = SegmentationDataset(imagePaths=x_train, maskPaths=y_train,transforms=transforms)\n",
    "trainDS_2 = SegmentationDataset(imagePaths=x_train, maskPaths=y_train,transforms=augmentations)\n",
    "valDS_1 = SegmentationDataset(imagePaths=x_val, maskPaths=y_val,transforms=transforms)\n",
    "valDS_2 = SegmentationDataset(imagePaths=x_val, maskPaths=y_val,transforms=augmentations)\n",
    "\n",
    "trainDS = ConcatDataset([trainDS_1, trainDS_2])\n",
    "valDS = ConcatDataset([valDS_1, valDS_2])\n"
   ]
  },
  {
   "cell_type": "code",
   "execution_count": 13,
   "id": "9b265a57",
   "metadata": {},
   "outputs": [
    {
     "name": "stdout",
     "output_type": "stream",
     "text": [
      "torch.Size([3, 224, 224])\n"
     ]
    }
   ],
   "source": [
    "print(trainDS_1[0][0].shape)\n"
   ]
  },
  {
   "cell_type": "code",
   "execution_count": 14,
   "id": "098155ae",
   "metadata": {},
   "outputs": [
    {
     "name": "stdout",
     "output_type": "stream",
     "text": [
      "torch.Size([3, 224, 224])\n"
     ]
    }
   ],
   "source": [
    "print(trainDS[0][0].shape)"
   ]
  },
  {
   "cell_type": "code",
   "execution_count": 15,
   "id": "e093e1ed",
   "metadata": {},
   "outputs": [
    {
     "name": "stdout",
     "output_type": "stream",
     "text": [
      "[INFO] found 12014 examples in the training set...\n",
      "[INFO] found 4006 examples in the test set...\n"
     ]
    }
   ],
   "source": [
    "print(f\"[INFO] found {len(trainDS)} examples in the training set...\")\n",
    "print(f\"[INFO] found {len(valDS)} examples in the test set...\")\n",
    "# create the training and test data loaders\n",
    "trainLoader = DataLoader(trainDS, shuffle=True,batch_size=BATCH_SIZE, pin_memory=PIN_MEMORY,num_workers=0)\n",
    "testLoader = DataLoader(valDS, shuffle=False,batch_size=BATCH_SIZE, pin_memory=PIN_MEMORY,num_workers=0)\n"
   ]
  },
  {
   "cell_type": "code",
   "execution_count": 16,
   "id": "0ed8f102",
   "metadata": {},
   "outputs": [],
   "source": [
    "class DiceBCELoss(nn.Module):\n",
    "    def __init__(self, weight=None, size_average=True):\n",
    "        super(DiceBCELoss, self).__init__()\n",
    "\n",
    "    def forward(self, inputs, targets, smooth=1):\n",
    "        #comment out if your model contains a sigmoid or equivalent activation layer\n",
    "        inputs = torch.sigmoid(inputs)       \n",
    "        \n",
    "        #flatten label and prediction tensors\n",
    "        inputs = inputs.view(-1)\n",
    "        targets = targets.view(-1)\n",
    "        \n",
    "        intersection = (inputs * targets).sum()                            \n",
    "        dice_loss = 1 - (2.*intersection + smooth)/(inputs.sum() + targets.sum() + smooth)  \n",
    "        BCE = F.binary_cross_entropy(inputs, targets, reduction='mean')\n",
    "        Dice_BCE = BCE + dice_loss\n",
    "        \n",
    "        return Dice_BCE\n",
    "    "
   ]
  },
  {
   "cell_type": "code",
   "execution_count": 17,
   "id": "f273b71f-ccb5-468e-a2c5-fbae90ee19c2",
   "metadata": {},
   "outputs": [],
   "source": [
    "class DiceLoss(nn.Module):\n",
    "    def __init__(self, weight=None, size_average=True):\n",
    "        super(DiceLoss, self).__init__()\n",
    "\n",
    "    def forward(self, inputs, targets, smooth=1):\n",
    "        #comment out if your model contains a sigmoid or equivalent activation layer\n",
    "        inputs = torch.sigmoid(inputs)       \n",
    "        \n",
    "        #flatten label and prediction tensors\n",
    "        inputs = inputs.view(-1)\n",
    "        targets = targets.view(-1)\n",
    "        \n",
    "        intersection = (inputs * targets).sum()                            \n",
    "        dice_loss = 1 - (2.*intersection + smooth)/(inputs.sum() + targets.sum() + smooth)  \n",
    "        \n",
    "        return dice_loss\n",
    "    "
   ]
  },
  {
   "cell_type": "code",
   "execution_count": 18,
   "id": "a904af9e",
   "metadata": {},
   "outputs": [],
   "source": [
    "class Block(nn.Module):\n",
    "    def __init__(self, inChannels, outChannels):\n",
    "        super().__init__()\n",
    "        # store the convolution and RELU layers\n",
    "        self.conv1 = Conv2d(inChannels, outChannels, 3)\n",
    "        self.relu = ReLU()\n",
    "        self.conv2 = Conv2d(outChannels, outChannels, 3)\n",
    "    def forward(self, x):\n",
    "        # apply CONV => RELU => CONV block to the inputs and return it\n",
    "        return self.conv2(self.relu(self.conv1(x)))\n",
    "\n",
    "class Encoder(nn.Module):\n",
    "    def __init__(self, channels=(3, 16, 32, 64)):\n",
    "        super().__init__()\n",
    "        # store the encoder blocks and maxpooling layer\n",
    "        self.encBlocks = ModuleList(\n",
    "            [Block(channels[i], channels[i + 1])\n",
    "             for i in range(len(channels) - 1)])\n",
    "        self.pool = MaxPool2d(2)\n",
    "        \n",
    "    def forward(self, x):\n",
    "        # initialize an empty list to store the intermediate outputs\n",
    "        blockOutputs = []\n",
    "        # loop through the encoder blocks\n",
    "        for block in self.encBlocks:\n",
    "            # pass the inputs through the current encoder block, store\n",
    "            # the outputs, and then apply maxpooling on the output\n",
    "            x = block(x)\n",
    "            blockOutputs.append(x)\n",
    "            x = self.pool(x)\n",
    "            # return the list containing the intermediate outputs\n",
    "        return blockOutputs                        \n",
    "\n",
    "class Decoder(nn.Module):\n",
    "    def __init__(self, channels=(64, 32, 16)):\n",
    "        super().__init__()\n",
    "        # initialize the number of channels, upsampler blocks, and\n",
    "        # decoder blocks\n",
    "        self.channels = channels\n",
    "        self.upconvs = ModuleList(\n",
    "            [ConvTranspose2d(channels[i], channels[i + 1], 2, 2)\n",
    "             for i in range(len(channels) - 1)])\n",
    "        self.dec_blocks = ModuleList(\n",
    "            [Block(channels[i], channels[i + 1])\n",
    "             for i in range(len(channels) - 1)])\n",
    "        \n",
    "    def forward(self, x, encFeatures):\n",
    "        # loop through the number of channels\n",
    "        for i in range(len(self.channels) - 1):\n",
    "            # pass the inputs through the upsampler blocks\n",
    "            x = self.upconvs[i](x)\n",
    "            # crop the current features from the encoder blocks,\n",
    "            # concatenate them with the current upsampled features,\n",
    "            # and pass the concatenated output through the current\n",
    "            # decoder block\n",
    "            encFeat = self.crop(encFeatures[i], x)\n",
    "            x = torch.cat([x, encFeat], dim=1)\n",
    "            x = self.dec_blocks[i](x)\n",
    "            # return the final decoder output\n",
    "        return x\n",
    "      \n",
    "    def crop(self, encFeatures, x):\n",
    "        # grab the dimensions of the inputs, and crop the encoder\n",
    "        # features to match the dimensions\n",
    "        (_, _, H, W) = x.shape\n",
    "        encFeatures = CenterCrop([H, W])(encFeatures)\n",
    "        # return the cropped features\n",
    "        return encFeatures\n",
    "\n",
    "class UNet(nn.Module):\n",
    "    def __init__(self,encChannels=(3, 16, 32, 64), decChannels=(64, 32, 16), \n",
    "                 nbClasses=1, retainDim=True, \n",
    "                 outSize=(INPUT_IMAGE_HEIGHT,  INPUT_IMAGE_WIDTH)):\n",
    "        super().__init__()\n",
    "        # initialize the encoder and decoder\n",
    "        self.encoder = Encoder(encChannels)\n",
    "        self.decoder = Decoder(decChannels)\n",
    "        \n",
    "        # initialize the regression head and store the class variables\n",
    "        self.head = Conv2d(decChannels[-1], nbClasses, 1)\n",
    "        self.retainDim = retainDim\n",
    "        self.outSize = outSize\n",
    "        \n",
    "    def forward(self, x):\n",
    "        # grab the features from the encoder\n",
    "        encFeatures = self.encoder(x)\n",
    "        \n",
    "        # pass the encoder features through decoder making sure that\n",
    "        # their dimensions are suited for concatenation\n",
    "        decFeatures = self.decoder(encFeatures[::-1][0], encFeatures[::-1][1:])\n",
    "        \n",
    "        # pass the decoder features through the regression head to\n",
    "        # obtain the segmentation mask\n",
    "        map = self.head(decFeatures)\n",
    "        \n",
    "        # check to see if we are retaining the original output\n",
    "        # dimensions and if so, then resize the output to match them\n",
    "        if self.retainDim:\n",
    "            map = F.interpolate(map, self.outSize)\n",
    "            \n",
    "        # return the segmentation map    \n",
    "        return map\n"
   ]
  },
  {
   "cell_type": "code",
   "execution_count": 19,
   "id": "464f7ba4",
   "metadata": {},
   "outputs": [
    {
     "data": {
      "text/plain": [
       "True"
      ]
     },
     "execution_count": 19,
     "metadata": {},
     "output_type": "execute_result"
    }
   ],
   "source": [
    "unet = UNet().to(DEVICE)\n",
    "# initialize loss function and optimizer\n",
    "lossFunc = DiceLoss()\n",
    "opt = Adam(unet.parameters(), lr=INIT_LR)\n",
    "# calculate steps per epoch for training and test set\n",
    "trainSteps = len(trainDS) // BATCH_SIZE\n",
    "valSteps = len(valDS) // BATCH_SIZE\n",
    "# initialize a dictionary to store training history\n",
    "H = {\"train_loss\": [], \"validation_loss\": []}\n",
    "next(unet.parameters()).is_cuda\n",
    "#next(unet.parameters()).is_mps"
   ]
  },
  {
   "cell_type": "code",
   "execution_count": 20,
   "id": "16bdf2c2",
   "metadata": {},
   "outputs": [
    {
     "name": "stdout",
     "output_type": "stream",
     "text": [
      "[INFO] training the network...\n"
     ]
    },
    {
     "name": "stderr",
     "output_type": "stream",
     "text": [
      " 33%|███████████████████████████▋                                                       | 1/3 [02:32<05:04, 152.06s/it]"
     ]
    },
    {
     "name": "stdout",
     "output_type": "stream",
     "text": [
      "[INFO] EPOCH: 1/3\n",
      "Train loss: 0.408414, Validation loss: 0.3351\n",
      "[INFO] total time taken to train the model: 152.06s\n"
     ]
    },
    {
     "name": "stderr",
     "output_type": "stream",
     "text": [
      " 67%|███████████████████████████████████████████████████████▎                           | 2/3 [05:00<02:30, 150.08s/it]"
     ]
    },
    {
     "name": "stdout",
     "output_type": "stream",
     "text": [
      "[INFO] EPOCH: 2/3\n",
      "Train loss: 0.332431, Validation loss: 0.3249\n",
      "[INFO] total time taken to train the model: 300.75s\n"
     ]
    },
    {
     "name": "stderr",
     "output_type": "stream",
     "text": [
      "100%|███████████████████████████████████████████████████████████████████████████████████| 3/3 [07:24<00:00, 148.06s/it]"
     ]
    },
    {
     "name": "stdout",
     "output_type": "stream",
     "text": [
      "[INFO] EPOCH: 3/3\n",
      "Train loss: 0.326571, Validation loss: 0.3176\n",
      "[INFO] total time taken to train the model: 444.18s\n"
     ]
    },
    {
     "name": "stderr",
     "output_type": "stream",
     "text": [
      "\n"
     ]
    }
   ],
   "source": [
    "# loop over epochs\n",
    "print(\"[INFO] training the network...\")\n",
    "startTime = time.time()\n",
    "for e in tqdm(range(NUM_EPOCHS)):\n",
    "    # set the model in training mode\n",
    "    unet.train()\n",
    "    # initialize the total training and validation loss\n",
    "    totalTrainLoss = 0\n",
    "    totalValLoss = 0\n",
    "    # loop over the training set\n",
    "    for (i, (x, y)) in enumerate(trainLoader):\n",
    "        # send the input to the device\n",
    "        (x, y) = (x.to(DEVICE), y.to(DEVICE))\n",
    "        # perform a forward pass and calculate the training loss\n",
    "        pred = unet(x)\n",
    "        loss = lossFunc(pred, y)\n",
    "        # first, zero out any previously accumulated gradients, then\n",
    "        # perform backpropagation, and then update model parameters\n",
    "        opt.zero_grad()\n",
    "        loss.backward()\n",
    "        opt.step()\n",
    "        # add the loss to the total training loss so far\n",
    "        totalTrainLoss += loss\n",
    "    # switch off autograd\n",
    "    with torch.no_grad():\n",
    "        # set the model in evaluation mode\n",
    "        unet.eval()\n",
    "        # loop over the validation set\n",
    "        for (x, y) in testLoader:\n",
    "            # send the input to the device\n",
    "            (x, y) = (x.to(DEVICE), y.to(DEVICE))\n",
    "            # make the predictions and calculate the validation loss\n",
    "            pred = unet(x)\n",
    "            totalValLoss += lossFunc(pred, y)\n",
    "    # calculate the average training and validation loss\n",
    "    avgTrainLoss = totalTrainLoss / trainSteps\n",
    "    avgValLoss = totalValLoss / valSteps\n",
    "    # update our training history\n",
    "    H[\"train_loss\"].append(avgTrainLoss.cpu().detach().numpy())\n",
    "    H[\"validation_loss\"].append(avgValLoss.cpu().detach().numpy())\n",
    "    # print the model training and validation information\n",
    "    print(\"[INFO] EPOCH: {}/{}\".format(e + 1, NUM_EPOCHS))\n",
    "    print(\"Train loss: {:.6f}, Validation loss: {:.4f}\".format(avgTrainLoss, avgValLoss))\n",
    "    # display the total time needed to perform the training\n",
    "    endTime = time.time()\n",
    "    print(\"[INFO] total time taken to train the model: {:.2f}s\".format(endTime - startTime))\n",
    "    "
   ]
  },
  {
   "cell_type": "code",
   "execution_count": 21,
   "id": "13595521",
   "metadata": {},
   "outputs": [
    {
     "data": {
      "image/png": "[encoded data removed]",
      "text/plain": [
       "<Figure size 640x480 with 1 Axes>"
      ]
     },
     "metadata": {},
     "output_type": "display_data"
    }
   ],
   "source": [
    "# plot the training loss\n",
    "plt.style.use(\"ggplot\")\n",
    "plt.figure()\n",
    "plt.plot(H[\"train_loss\"], label=\"train_loss\")\n",
    "plt.plot(H[\"validation_loss\"], label=\"validation_loss\")\n",
    "plt.title(\"Training Loss on Dataset\")\n",
    "plt.xlabel(\"Epoch #\")\n",
    "plt.ylabel(\"Loss\")\n",
    "plt.legend(loc=\"lower left\")\n",
    "plt.savefig(PLOT_PATH)\n",
    "# serialize the model to disk\n",
    "torch.save(unet, NEW_PATH)\n"
   ]
  },
  {
   "cell_type": "code",
   "execution_count": 27,
   "id": "860c4187-e7d2-41c9-943a-dd21ef69e73b",
   "metadata": {},
   "outputs": [],
   "source": [
    "gt = pd.read_csv(os.path.join(main_folder,'GroundTruth.csv'))\n"
   ]
  },
  {
   "cell_type": "code",
   "execution_count": 37,
   "id": "9fe461ae-dc7d-4055-a630-ce9d803d2661",
   "metadata": {},
   "outputs": [
    {
     "name": "stdout",
     "output_type": "stream",
     "text": [
      "              image  MEL   NV  BCC  AKIEC  BKL   DF  VASC\n",
      "0      ISIC_0024306  0.0  1.0  0.0    0.0  0.0  0.0   0.0\n",
      "1      ISIC_0024307  0.0  1.0  0.0    0.0  0.0  0.0   0.0\n",
      "2      ISIC_0024308  0.0  1.0  0.0    0.0  0.0  0.0   0.0\n",
      "3      ISIC_0024309  0.0  1.0  0.0    0.0  0.0  0.0   0.0\n",
      "4      ISIC_0024310  1.0  0.0  0.0    0.0  0.0  0.0   0.0\n",
      "...             ...  ...  ...  ...    ...  ...  ...   ...\n",
      "10007  ISIC_0034316  1.0  0.0  0.0    0.0  0.0  0.0   0.0\n",
      "10008  ISIC_0034317  1.0  0.0  0.0    0.0  0.0  0.0   0.0\n",
      "10009  ISIC_0034318  0.0  0.0  0.0    0.0  1.0  0.0   0.0\n",
      "10010  ISIC_0034319  0.0  1.0  0.0    0.0  0.0  0.0   0.0\n",
      "10011  ISIC_0034320  0.0  1.0  0.0    0.0  0.0  0.0   0.0\n",
      "\n",
      "[10012 rows x 8 columns]\n"
     ]
    }
   ],
   "source": [
    "print(gt)"
   ]
  },
  {
   "cell_type": "code",
   "execution_count": 57,
   "id": "069fa292-c8c0-4710-a2b7-322d7c3f0747",
   "metadata": {},
   "outputs": [],
   "source": [
    "stringson = []\n",
    "\n",
    "for i in range(len(x_test)):\n",
    "    stipped = x_test[i][59:71]\n",
    "    stringson.append(stipped)\n",
    "\n"
   ]
  },
  {
   "cell_type": "code",
   "execution_count": 39,
   "id": "1801f05d-c52c-4fd5-84ba-0f5822c35472",
   "metadata": {},
   "outputs": [
    {
     "name": "stdout",
     "output_type": "stream",
     "text": [
      "          image  MEL   NV  BCC  AKIEC  BKL   DF  VASC\n",
      "0  ISIC_0024306  0.0  1.0  0.0    0.0  0.0  0.0   0.0\n"
     ]
    }
   ],
   "source": [
    "print(row)"
   ]
  },
  {
   "cell_type": "code",
   "execution_count": 58,
   "id": "ae47bd5c-adc3-4832-8a41-a0a658c3ec21",
   "metadata": {},
   "outputs": [],
   "source": [
    "filtered_gt = gt[gt['image'].isin(stringson)]\n"
   ]
  },
  {
   "cell_type": "code",
   "execution_count": 59,
   "id": "94cf6f93-2fa3-4dcb-a5d1-568b695cc97d",
   "metadata": {},
   "outputs": [],
   "source": [
    "lesion_dict = {\n",
    "    \"MEL\": 0, \n",
    "    \"NV\": 1,\n",
    "    \"BCC\": 2,\n",
    "    \"AKIEC\": 3,\n",
    "    \"BKL\": 4,\n",
    "    \"DF\": 5,\n",
    "    \"VASC\": 6\n",
    "}\n",
    "\n",
    "new_lesion_dict = {\n",
    "    0: [], \n",
    "    1: [],\n",
    "    2: [],\n",
    "    3: [],\n",
    "    4: [],\n",
    "    5: [],\n",
    "    6: []\n",
    "}\n"
   ]
  },
  {
   "cell_type": "code",
   "execution_count": 61,
   "id": "a2739f78-ad6b-453f-ba40-202111ed6d31",
   "metadata": {},
   "outputs": [],
   "source": [
    "categories = []\n",
    "for index, row in filtered_gt.iterrows():\n",
    "    if row.eq(1).any():\n",
    "        categories.append(lesion_dict[row[row.eq(1)].index[0]])\n"
   ]
  }
 ],
 "metadata": {
  "kernelspec": {
   "display_name": "Python 3 (ipykernel)",
   "language": "python",
   "name": "python3"
  },
  "language_info": {
   "codemirror_mode": {
    "name": "ipython",
    "version": 3
   },
   "file_extension": ".py",
   "mimetype": "text/x-python",
   "name": "python",
   "nbconvert_exporter": "python",
   "pygments_lexer": "ipython3",
   "version": "3.9.18"
  }
 },
 "nbformat": 4,
 "nbformat_minor": 5
}

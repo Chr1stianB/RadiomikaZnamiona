{
 "cells": [
  {
   "cell_type": "code",
   "execution_count": 1,
   "id": "6abbc6c7",
   "metadata": {},
   "outputs": [],
   "source": [
    "import pandas as pd\n",
    "import os\n",
    "from imutils import paths\n",
    "import numpy as np\n",
    "from sklearn.preprocessing import StandardScaler\n",
    "from sklearn.pipeline import Pipeline\n",
    "from sklearn.model_selection import train_test_split, GridSearchCV\n",
    "from sklearn.linear_model import Lasso\n",
    "import radiomics\n",
    "from radiomics import featureextractor  # This module is used for interaction with pyradiomics\n",
    "from PIL import Image\n",
    "import SimpleITK as sitk\n",
    "import cv2\n",
    "from collections import Counter\n",
    "import random\n",
    "import itertools\n"
   ]
  },
  {
   "cell_type": "code",
   "execution_count": 2,
   "id": "d6b6fe6a",
   "metadata": {},
   "outputs": [],
   "source": [
    "def color_extraction(img):\n",
    "    b, g, r = cv2.split(img)\n",
    "    mean_b, std_b = cv2.meanStdDev(b)\n",
    "    mean_g, std_g = cv2.meanStdDev(g)\n",
    "    mean_r, std_r = cv2.meanStdDev(r)\n",
    "    return {\"mean_b\": mean_b, \"std_b\": std_b, \"mean_g\": mean_g, \"std_g\": std_g, \"mean_r\": mean_r, \"std_r\": std_r,}\n",
    "    "
   ]
  },
  {
   "cell_type": "code",
   "execution_count": 3,
   "id": "4695fa87",
   "metadata": {},
   "outputs": [],
   "source": [
    "DATASET_PATH = \"../Datasets/ham1000-segmentation-and-classification\"\n",
    "path = \"../Datasets/new_data\"\n",
    "CSV_FILE_PATH = os.path.join(DATASET_PATH, \"GroundTruth.csv\")\n",
    "IMAGE_DATASET_PATH = os.path.join(path, \"images/\")\n",
    "MASK_DATASET_PATH = os.path.join(path, \"masks/\")\n",
    "params = '../Datasets/Selected.yaml'\n"
   ]
  },
  {
   "cell_type": "code",
   "execution_count": 4,
   "id": "1d50968e",
   "metadata": {},
   "outputs": [],
   "source": [
    "imagePaths = sorted(list(paths.list_images(IMAGE_DATASET_PATH)))\n",
    "maskPaths = sorted(list(paths.list_images(MASK_DATASET_PATH)))\n",
    "extractor = featureextractor.RadiomicsFeatureExtractor(params)\n"
   ]
  },
  {
   "cell_type": "code",
   "execution_count": 5,
   "id": "bf93bdad",
   "metadata": {},
   "outputs": [
    {
     "name": "stdout",
     "output_type": "stream",
     "text": [
      "0\n",
      "1000\n",
      "2000\n",
      "3000\n",
      "4000\n",
      "5000\n",
      "6000\n",
      "7000\n",
      "8000\n",
      "9000\n",
      "10000\n",
      "11000\n",
      "12000\n",
      "13000\n",
      "14000\n",
      "15000\n",
      "16000\n",
      "17000\n",
      "18000\n",
      "19000\n",
      "20000\n",
      "21000\n",
      "22000\n",
      "23000\n",
      "24000\n",
      "25000\n",
      "26000\n",
      "27000\n",
      "28000\n",
      "29000\n",
      "30000\n",
      "31000\n",
      "32000\n",
      "33000\n",
      "34000\n",
      "35000\n",
      "36000\n",
      "37000\n",
      "38000\n",
      "39000\n",
      "40000\n",
      "41000\n",
      "42000\n",
      "43000\n",
      "44000\n",
      "45000\n",
      "46000\n",
      "47000\n",
      "48000\n",
      "49000\n",
      "50000\n",
      "51000\n",
      "52000\n",
      "53000\n",
      "54000\n",
      "55000\n",
      "56000\n",
      "57000\n",
      "58000\n",
      "59000\n",
      "60000\n"
     ]
    }
   ],
   "source": [
    "results = []\n",
    "features = {}\n",
    "\n",
    "for i in range(len(imagePaths)):\n",
    "    path_original = imagePaths[i]\n",
    "    path_label = maskPaths[i]\n",
    "    original = cv2.imread(path_original)\n",
    "    label = cv2.imread(path_label, 0)\n",
    "    \n",
    "    # Expand dimensions of mask array\n",
    "    y = np.expand_dims(label, axis=2)\n",
    "    newmask = np.concatenate((y, y, y), axis=2)\n",
    "    \n",
    "    # Multiply new mask with image\n",
    "    cob = original * newmask\n",
    "    \n",
    "    dictionary = color_extraction(cob)\n",
    "    original = cv2.cvtColor(original, cv2.COLOR_RGB2GRAY)\n",
    "    original = Image.fromarray(original, \"L\")\n",
    "    original.save(\"original.png\")\n",
    "    \n",
    "    label = Image.fromarray(label, \"L\")\n",
    "    label.save(\"label.png\")\n",
    "    result = extractor.execute(\"original.png\", path_label)\n",
    "    \n",
    "    result['original_mean_b'] = dictionary['mean_b']\n",
    "    result['original_std_b'] = dictionary['std_b']\n",
    "    result['original_mean_g'] = dictionary['mean_g']\n",
    "    result['original_std_g'] = dictionary['std_g']\n",
    "    result['original_mean_r'] = dictionary['mean_r']\n",
    "    result['original_std_r'] = dictionary['std_r']\n",
    "    results.append(result)\n",
    "    \n",
    "    if i % 1000 == 0:\n",
    "        print(i)\n",
    "    \n",
    "feature_names = list(sorted(filter ( lambda k: k.startswith(\"original_\"), results[0] )))\n"
   ]
  },
  {
   "cell_type": "code",
   "execution_count": 6,
   "id": "e1373039",
   "metadata": {},
   "outputs": [],
   "source": [
    "lesion_dict = {\n",
    "    \"MEL\": 0, \n",
    "    \"NV\": 1,\n",
    "    \"BCC\": 2,\n",
    "    \"AKIEC\": 3,\n",
    "    \"BKL\": 4,\n",
    "    \"DF\": 5,\n",
    "    \"VASC\": 6\n",
    "}\n",
    "\n",
    "df = pd.read_csv(CSV_FILE_PATH)\n",
    "categories = []\n",
    "for index, row in df.iterrows():\n",
    "    if row.eq(1).any():\n",
    "        categories.append(lesion_dict[row[row.eq(1)].index[0]])\n",
    "        categories.append(lesion_dict[row[row.eq(1)].index[0]])\n",
    "        categories.append(lesion_dict[row[row.eq(1)].index[0]])\n",
    "        categories.append(lesion_dict[row[row.eq(1)].index[0]])\n",
    "        categories.append(lesion_dict[row[row.eq(1)].index[0]])\n",
    "        categories.append(lesion_dict[row[row.eq(1)].index[0]])\n",
    "        "
   ]
  },
  {
   "cell_type": "code",
   "execution_count": 7,
   "id": "5601a1c0",
   "metadata": {},
   "outputs": [],
   "source": [
    "samples = np.zeros((len(imagePaths),len(feature_names)))\n",
    "for case_id in range(0 ,len(imagePaths)):\n",
    "    a = np.array([])\n",
    "    for feature_name in feature_names:\n",
    "        a = np.append(a, results[case_id][feature_name])\n",
    "    samples[case_id,:] = a\n",
    "    \n",
    "# May have NaNs\n",
    "samples = np.nan_to_num(samples)\n"
   ]
  },
  {
   "cell_type": "code",
   "execution_count": 8,
   "id": "0e28d8cc",
   "metadata": {},
   "outputs": [
    {
     "data": {
      "text/plain": [
       "['original_firstorder_90Percentile',\n",
       " 'original_firstorder_Minimum',\n",
       " 'original_glcm_Idmn',\n",
       " 'original_gldm_SmallDependenceLowGrayLevelEmphasis',\n",
       " 'original_glrlm_RunEntropy',\n",
       " 'original_mean_b',\n",
       " 'original_mean_g',\n",
       " 'original_mean_r',\n",
       " 'original_shape2D_Elongation',\n",
       " 'original_shape2D_MaximumDiameter',\n",
       " 'original_shape2D_Sphericity',\n",
       " 'original_std_b',\n",
       " 'original_std_g',\n",
       " 'original_std_r']"
      ]
     },
     "execution_count": 8,
     "metadata": {},
     "output_type": "execute_result"
    }
   ],
   "source": [
    "feature_names\n"
   ]
  },
  {
   "cell_type": "code",
   "execution_count": 9,
   "id": "5cb1e915",
   "metadata": {},
   "outputs": [
    {
     "data": {
      "text/plain": [
       "60072"
      ]
     },
     "execution_count": 9,
     "metadata": {},
     "output_type": "execute_result"
    }
   ],
   "source": [
    "len(categories)\n"
   ]
  },
  {
   "cell_type": "code",
   "execution_count": 10,
   "id": "5f262d74",
   "metadata": {},
   "outputs": [
    {
     "data": {
      "text/plain": [
       "Counter({1: 40224, 0: 6672, 4: 6588, 5: 690, 3: 1962, 2: 3084, 6: 852})"
      ]
     },
     "execution_count": 10,
     "metadata": {},
     "output_type": "execute_result"
    }
   ],
   "source": [
    "Counter(categories)\n"
   ]
  },
  {
   "cell_type": "code",
   "execution_count": 11,
   "id": "a5a0d33a",
   "metadata": {},
   "outputs": [],
   "source": [
    "new_lesion_dict = {\n",
    "    0: [], \n",
    "    1: [],\n",
    "    2: [],\n",
    "    3: [],\n",
    "    4: [],\n",
    "    5: [],\n",
    "    6: []\n",
    "}\n",
    "\n",
    "for i in range(len(categories)):\n",
    "    new_lesion_dict[categories[i]].append(samples[i])\n",
    "        "
   ]
  },
  {
   "cell_type": "code",
   "execution_count": 12,
   "id": "d5f06af8",
   "metadata": {},
   "outputs": [
    {
     "data": {
      "text/plain": [
       "40224"
      ]
     },
     "execution_count": 12,
     "metadata": {},
     "output_type": "execute_result"
    }
   ],
   "source": [
    "len(new_lesion_dict[1])"
   ]
  },
  {
   "cell_type": "code",
   "execution_count": 13,
   "id": "9d496990",
   "metadata": {},
   "outputs": [],
   "source": [
    "X =[]\n",
    "y = []\n",
    "#for category in new_lesion_dict:\n",
    "    #print(len(new_lesion_dict[category]))\n",
    "    #for i in range(len(new_lesion_dict[category])):\n",
    "        #X.append(new_lesion_dict[category][i])\n",
    "        #y.append(category)\n",
    "X =[]\n",
    "y = []\n",
    "for category in new_lesion_dict:\n",
    "    for i in range(690):\n",
    "        X.append(new_lesion_dict[category][i])\n",
    "        y.append(category)\n",
    "        \n",
    "    \n",
    "temp = list(zip(X, y))\n",
    "random.shuffle(temp)\n",
    "res1, res2 = zip(*temp)\n",
    "# res1 and res2 come out as tuples, and so must be converted to lists.\n",
    "X, y = list(res1), list(res2)\n"
   ]
  },
  {
   "cell_type": "code",
   "execution_count": 14,
   "id": "35546a67",
   "metadata": {},
   "outputs": [],
   "source": [
    "df = pd.DataFrame()\n"
   ]
  },
  {
   "cell_type": "code",
   "execution_count": 15,
   "id": "a60c647e",
   "metadata": {},
   "outputs": [],
   "source": [
    "column_names = feature_names.copy()\n"
   ]
  },
  {
   "cell_type": "code",
   "execution_count": 16,
   "id": "1aa949e4",
   "metadata": {},
   "outputs": [],
   "source": [
    "column_names.append('categories')\n"
   ]
  },
  {
   "cell_type": "code",
   "execution_count": 17,
   "id": "4b5d4c6e",
   "metadata": {},
   "outputs": [],
   "source": [
    "for col in column_names:\n",
    "    df[col] = []\n",
    "    "
   ]
  },
  {
   "cell_type": "code",
   "execution_count": 18,
   "id": "d64f9614",
   "metadata": {},
   "outputs": [
    {
     "data": {
      "text/html": [
       "<div>\n",
       "<style scoped>\n",
       "    .dataframe tbody tr th:only-of-type {\n",
       "        vertical-align: middle;\n",
       "    }\n",
       "\n",
       "    .dataframe tbody tr th {\n",
       "        vertical-align: top;\n",
       "    }\n",
       "\n",
       "    .dataframe thead th {\n",
       "        text-align: right;\n",
       "    }\n",
       "</style>\n",
       "<table border=\"1\" class=\"dataframe\">\n",
       "  <thead>\n",
       "    <tr style=\"text-align: right;\">\n",
       "      <th></th>\n",
       "      <th>original_firstorder_90Percentile</th>\n",
       "      <th>original_firstorder_Minimum</th>\n",
       "      <th>original_glcm_Idmn</th>\n",
       "      <th>original_gldm_SmallDependenceLowGrayLevelEmphasis</th>\n",
       "      <th>original_glrlm_RunEntropy</th>\n",
       "      <th>original_mean_b</th>\n",
       "      <th>original_mean_g</th>\n",
       "      <th>original_mean_r</th>\n",
       "      <th>original_shape2D_Elongation</th>\n",
       "      <th>original_shape2D_MaximumDiameter</th>\n",
       "      <th>original_shape2D_Sphericity</th>\n",
       "      <th>original_std_b</th>\n",
       "      <th>original_std_g</th>\n",
       "      <th>original_std_r</th>\n",
       "      <th>categories</th>\n",
       "    </tr>\n",
       "  </thead>\n",
       "  <tbody>\n",
       "  </tbody>\n",
       "</table>\n",
       "</div>"
      ],
      "text/plain": [
       "Empty DataFrame\n",
       "Columns: [original_firstorder_90Percentile, original_firstorder_Minimum, original_glcm_Idmn, original_gldm_SmallDependenceLowGrayLevelEmphasis, original_glrlm_RunEntropy, original_mean_b, original_mean_g, original_mean_r, original_shape2D_Elongation, original_shape2D_MaximumDiameter, original_shape2D_Sphericity, original_std_b, original_std_g, original_std_r, categories]\n",
       "Index: []"
      ]
     },
     "execution_count": 18,
     "metadata": {},
     "output_type": "execute_result"
    }
   ],
   "source": [
    "df\n"
   ]
  },
  {
   "cell_type": "code",
   "execution_count": 19,
   "id": "fac75497",
   "metadata": {},
   "outputs": [],
   "source": [
    "list_of_arrays = X.copy()\n",
    "single_list = y.copy()\n"
   ]
  },
  {
   "cell_type": "code",
   "execution_count": 20,
   "id": "97e530b9",
   "metadata": {},
   "outputs": [
    {
     "data": {
      "text/plain": [
       "14"
      ]
     },
     "execution_count": 20,
     "metadata": {},
     "output_type": "execute_result"
    }
   ],
   "source": [
    "len(list_of_arrays[0])\n"
   ]
  },
  {
   "cell_type": "code",
   "execution_count": 21,
   "id": "9a73cd0c",
   "metadata": {},
   "outputs": [],
   "source": [
    "for i in range(len(list_of_arrays)):\n",
    "    if i < len(single_list):\n",
    "        list_of_arrays[i] = np.append(list_of_arrays[i], single_list[i])\n"
   ]
  },
  {
   "cell_type": "code",
   "execution_count": 22,
   "id": "6e615bee",
   "metadata": {},
   "outputs": [
    {
     "data": {
      "text/plain": [
       "15"
      ]
     },
     "execution_count": 22,
     "metadata": {},
     "output_type": "execute_result"
    }
   ],
   "source": [
    "len(list_of_arrays[0])\n"
   ]
  },
  {
   "cell_type": "code",
   "execution_count": 23,
   "id": "0d7020f6",
   "metadata": {},
   "outputs": [
    {
     "name": "stderr",
     "output_type": "stream",
     "text": [
      "/var/folders/8m/1npctfws7dnc_lbx3mhg9kdc0000gn/T/ipykernel_3414/1253535266.py:2: FutureWarning: The frame.append method is deprecated and will be removed from pandas in a future version. Use pandas.concat instead.\n",
      "  df = df.append(pd.DataFrame([array], columns=df.columns), ignore_index=True)\n"
     ]
    }
   ],
   "source": [
    "for array in list_of_arrays:\n",
    "    df = df.append(pd.DataFrame([array], columns=df.columns), ignore_index=True)\n",
    "    \n"
   ]
  },
  {
   "cell_type": "code",
   "execution_count": 24,
   "id": "2fd1c925",
   "metadata": {},
   "outputs": [
    {
     "data": {
      "text/html": [
       "<div>\n",
       "<style scoped>\n",
       "    .dataframe tbody tr th:only-of-type {\n",
       "        vertical-align: middle;\n",
       "    }\n",
       "\n",
       "    .dataframe tbody tr th {\n",
       "        vertical-align: top;\n",
       "    }\n",
       "\n",
       "    .dataframe thead th {\n",
       "        text-align: right;\n",
       "    }\n",
       "</style>\n",
       "<table border=\"1\" class=\"dataframe\">\n",
       "  <thead>\n",
       "    <tr style=\"text-align: right;\">\n",
       "      <th></th>\n",
       "      <th>original_firstorder_90Percentile</th>\n",
       "      <th>original_firstorder_Minimum</th>\n",
       "      <th>original_glcm_Idmn</th>\n",
       "      <th>original_gldm_SmallDependenceLowGrayLevelEmphasis</th>\n",
       "      <th>original_glrlm_RunEntropy</th>\n",
       "      <th>original_mean_b</th>\n",
       "      <th>original_mean_g</th>\n",
       "      <th>original_mean_r</th>\n",
       "      <th>original_shape2D_Elongation</th>\n",
       "      <th>original_shape2D_MaximumDiameter</th>\n",
       "      <th>original_shape2D_Sphericity</th>\n",
       "      <th>original_std_b</th>\n",
       "      <th>original_std_g</th>\n",
       "      <th>original_std_r</th>\n",
       "      <th>categories</th>\n",
       "    </tr>\n",
       "  </thead>\n",
       "  <tbody>\n",
       "    <tr>\n",
       "      <th>0</th>\n",
       "      <td>161.0</td>\n",
       "      <td>80.0</td>\n",
       "      <td>0.992064</td>\n",
       "      <td>0.005657</td>\n",
       "      <td>5.105083</td>\n",
       "      <td>3.347089</td>\n",
       "      <td>3.296307</td>\n",
       "      <td>1.598907</td>\n",
       "      <td>0.650120</td>\n",
       "      <td>118.067777</td>\n",
       "      <td>0.908828</td>\n",
       "      <td>20.480355</td>\n",
       "      <td>20.097959</td>\n",
       "      <td>9.772399</td>\n",
       "      <td>5.0</td>\n",
       "    </tr>\n",
       "    <tr>\n",
       "      <th>1</th>\n",
       "      <td>157.0</td>\n",
       "      <td>35.0</td>\n",
       "      <td>0.998601</td>\n",
       "      <td>0.000782</td>\n",
       "      <td>5.905211</td>\n",
       "      <td>46.529911</td>\n",
       "      <td>50.140863</td>\n",
       "      <td>38.869526</td>\n",
       "      <td>0.819743</td>\n",
       "      <td>484.648326</td>\n",
       "      <td>0.773553</td>\n",
       "      <td>54.464262</td>\n",
       "      <td>58.478562</td>\n",
       "      <td>45.320396</td>\n",
       "      <td>2.0</td>\n",
       "    </tr>\n",
       "    <tr>\n",
       "      <th>2</th>\n",
       "      <td>118.0</td>\n",
       "      <td>26.0</td>\n",
       "      <td>0.993128</td>\n",
       "      <td>0.003812</td>\n",
       "      <td>5.299070</td>\n",
       "      <td>17.860337</td>\n",
       "      <td>17.587300</td>\n",
       "      <td>6.862952</td>\n",
       "      <td>0.876956</td>\n",
       "      <td>213.775583</td>\n",
       "      <td>0.844228</td>\n",
       "      <td>52.982297</td>\n",
       "      <td>52.184568</td>\n",
       "      <td>20.791194</td>\n",
       "      <td>1.0</td>\n",
       "    </tr>\n",
       "    <tr>\n",
       "      <th>3</th>\n",
       "      <td>133.0</td>\n",
       "      <td>63.0</td>\n",
       "      <td>0.995780</td>\n",
       "      <td>0.004300</td>\n",
       "      <td>5.024385</td>\n",
       "      <td>37.157711</td>\n",
       "      <td>41.487370</td>\n",
       "      <td>21.078696</td>\n",
       "      <td>0.710968</td>\n",
       "      <td>370.303929</td>\n",
       "      <td>0.915339</td>\n",
       "      <td>61.014331</td>\n",
       "      <td>68.256350</td>\n",
       "      <td>34.937524</td>\n",
       "      <td>5.0</td>\n",
       "    </tr>\n",
       "    <tr>\n",
       "      <th>4</th>\n",
       "      <td>201.0</td>\n",
       "      <td>22.0</td>\n",
       "      <td>0.997075</td>\n",
       "      <td>0.001532</td>\n",
       "      <td>5.804363</td>\n",
       "      <td>49.121596</td>\n",
       "      <td>52.063385</td>\n",
       "      <td>28.804052</td>\n",
       "      <td>0.761081</td>\n",
       "      <td>550.019091</td>\n",
       "      <td>0.773354</td>\n",
       "      <td>56.408512</td>\n",
       "      <td>58.344577</td>\n",
       "      <td>40.215310</td>\n",
       "      <td>3.0</td>\n",
       "    </tr>\n",
       "    <tr>\n",
       "      <th>...</th>\n",
       "      <td>...</td>\n",
       "      <td>...</td>\n",
       "      <td>...</td>\n",
       "      <td>...</td>\n",
       "      <td>...</td>\n",
       "      <td>...</td>\n",
       "      <td>...</td>\n",
       "      <td>...</td>\n",
       "      <td>...</td>\n",
       "      <td>...</td>\n",
       "      <td>...</td>\n",
       "      <td>...</td>\n",
       "      <td>...</td>\n",
       "      <td>...</td>\n",
       "      <td>...</td>\n",
       "    </tr>\n",
       "    <tr>\n",
       "      <th>4825</th>\n",
       "      <td>159.0</td>\n",
       "      <td>10.0</td>\n",
       "      <td>0.996447</td>\n",
       "      <td>0.002040</td>\n",
       "      <td>5.893693</td>\n",
       "      <td>28.175667</td>\n",
       "      <td>31.313352</td>\n",
       "      <td>22.366433</td>\n",
       "      <td>0.728082</td>\n",
       "      <td>342.327329</td>\n",
       "      <td>0.834432</td>\n",
       "      <td>53.957457</td>\n",
       "      <td>59.120496</td>\n",
       "      <td>42.866630</td>\n",
       "      <td>4.0</td>\n",
       "    </tr>\n",
       "    <tr>\n",
       "      <th>4826</th>\n",
       "      <td>144.0</td>\n",
       "      <td>42.0</td>\n",
       "      <td>0.997637</td>\n",
       "      <td>0.002324</td>\n",
       "      <td>6.852165</td>\n",
       "      <td>21.316111</td>\n",
       "      <td>22.361819</td>\n",
       "      <td>10.057922</td>\n",
       "      <td>0.536641</td>\n",
       "      <td>295.711008</td>\n",
       "      <td>0.793414</td>\n",
       "      <td>55.612097</td>\n",
       "      <td>57.986434</td>\n",
       "      <td>27.376454</td>\n",
       "      <td>1.0</td>\n",
       "    </tr>\n",
       "    <tr>\n",
       "      <th>4827</th>\n",
       "      <td>117.0</td>\n",
       "      <td>37.0</td>\n",
       "      <td>0.996760</td>\n",
       "      <td>0.004918</td>\n",
       "      <td>6.341468</td>\n",
       "      <td>25.865059</td>\n",
       "      <td>27.284896</td>\n",
       "      <td>12.193059</td>\n",
       "      <td>0.905291</td>\n",
       "      <td>255.519080</td>\n",
       "      <td>0.845017</td>\n",
       "      <td>63.444335</td>\n",
       "      <td>66.962507</td>\n",
       "      <td>31.261957</td>\n",
       "      <td>1.0</td>\n",
       "    </tr>\n",
       "    <tr>\n",
       "      <th>4828</th>\n",
       "      <td>168.0</td>\n",
       "      <td>18.0</td>\n",
       "      <td>0.997982</td>\n",
       "      <td>0.001595</td>\n",
       "      <td>6.226654</td>\n",
       "      <td>9.701993</td>\n",
       "      <td>10.688470</td>\n",
       "      <td>7.127826</td>\n",
       "      <td>0.825248</td>\n",
       "      <td>189.789357</td>\n",
       "      <td>0.896521</td>\n",
       "      <td>34.182972</td>\n",
       "      <td>37.205766</td>\n",
       "      <td>25.137743</td>\n",
       "      <td>5.0</td>\n",
       "    </tr>\n",
       "    <tr>\n",
       "      <th>4829</th>\n",
       "      <td>133.0</td>\n",
       "      <td>81.0</td>\n",
       "      <td>0.992873</td>\n",
       "      <td>0.008441</td>\n",
       "      <td>5.326816</td>\n",
       "      <td>24.695126</td>\n",
       "      <td>27.923996</td>\n",
       "      <td>8.871752</td>\n",
       "      <td>0.781024</td>\n",
       "      <td>283.381368</td>\n",
       "      <td>0.844735</td>\n",
       "      <td>53.171900</td>\n",
       "      <td>60.104100</td>\n",
       "      <td>19.479181</td>\n",
       "      <td>5.0</td>\n",
       "    </tr>\n",
       "  </tbody>\n",
       "</table>\n",
       "<p>4830 rows × 15 columns</p>\n",
       "</div>"
      ],
      "text/plain": [
       "      original_firstorder_90Percentile  original_firstorder_Minimum  \\\n",
       "0                                161.0                         80.0   \n",
       "1                                157.0                         35.0   \n",
       "2                                118.0                         26.0   \n",
       "3                                133.0                         63.0   \n",
       "4                                201.0                         22.0   \n",
       "...                                ...                          ...   \n",
       "4825                             159.0                         10.0   \n",
       "4826                             144.0                         42.0   \n",
       "4827                             117.0                         37.0   \n",
       "4828                             168.0                         18.0   \n",
       "4829                             133.0                         81.0   \n",
       "\n",
       "      original_glcm_Idmn  original_gldm_SmallDependenceLowGrayLevelEmphasis  \\\n",
       "0               0.992064                                           0.005657   \n",
       "1               0.998601                                           0.000782   \n",
       "2               0.993128                                           0.003812   \n",
       "3               0.995780                                           0.004300   \n",
       "4               0.997075                                           0.001532   \n",
       "...                  ...                                                ...   \n",
       "4825            0.996447                                           0.002040   \n",
       "4826            0.997637                                           0.002324   \n",
       "4827            0.996760                                           0.004918   \n",
       "4828            0.997982                                           0.001595   \n",
       "4829            0.992873                                           0.008441   \n",
       "\n",
       "      original_glrlm_RunEntropy  original_mean_b  original_mean_g  \\\n",
       "0                      5.105083         3.347089         3.296307   \n",
       "1                      5.905211        46.529911        50.140863   \n",
       "2                      5.299070        17.860337        17.587300   \n",
       "3                      5.024385        37.157711        41.487370   \n",
       "4                      5.804363        49.121596        52.063385   \n",
       "...                         ...              ...              ...   \n",
       "4825                   5.893693        28.175667        31.313352   \n",
       "4826                   6.852165        21.316111        22.361819   \n",
       "4827                   6.341468        25.865059        27.284896   \n",
       "4828                   6.226654         9.701993        10.688470   \n",
       "4829                   5.326816        24.695126        27.923996   \n",
       "\n",
       "      original_mean_r  original_shape2D_Elongation  \\\n",
       "0            1.598907                     0.650120   \n",
       "1           38.869526                     0.819743   \n",
       "2            6.862952                     0.876956   \n",
       "3           21.078696                     0.710968   \n",
       "4           28.804052                     0.761081   \n",
       "...               ...                          ...   \n",
       "4825        22.366433                     0.728082   \n",
       "4826        10.057922                     0.536641   \n",
       "4827        12.193059                     0.905291   \n",
       "4828         7.127826                     0.825248   \n",
       "4829         8.871752                     0.781024   \n",
       "\n",
       "      original_shape2D_MaximumDiameter  original_shape2D_Sphericity  \\\n",
       "0                           118.067777                     0.908828   \n",
       "1                           484.648326                     0.773553   \n",
       "2                           213.775583                     0.844228   \n",
       "3                           370.303929                     0.915339   \n",
       "4                           550.019091                     0.773354   \n",
       "...                                ...                          ...   \n",
       "4825                        342.327329                     0.834432   \n",
       "4826                        295.711008                     0.793414   \n",
       "4827                        255.519080                     0.845017   \n",
       "4828                        189.789357                     0.896521   \n",
       "4829                        283.381368                     0.844735   \n",
       "\n",
       "      original_std_b  original_std_g  original_std_r  categories  \n",
       "0          20.480355       20.097959        9.772399         5.0  \n",
       "1          54.464262       58.478562       45.320396         2.0  \n",
       "2          52.982297       52.184568       20.791194         1.0  \n",
       "3          61.014331       68.256350       34.937524         5.0  \n",
       "4          56.408512       58.344577       40.215310         3.0  \n",
       "...              ...             ...             ...         ...  \n",
       "4825       53.957457       59.120496       42.866630         4.0  \n",
       "4826       55.612097       57.986434       27.376454         1.0  \n",
       "4827       63.444335       66.962507       31.261957         1.0  \n",
       "4828       34.182972       37.205766       25.137743         5.0  \n",
       "4829       53.171900       60.104100       19.479181         5.0  \n",
       "\n",
       "[4830 rows x 15 columns]"
      ]
     },
     "execution_count": 24,
     "metadata": {},
     "output_type": "execute_result"
    }
   ],
   "source": [
    "df\n"
   ]
  },
  {
   "cell_type": "code",
   "execution_count": 25,
   "id": "6eefaf60",
   "metadata": {},
   "outputs": [
    {
     "name": "stdout",
     "output_type": "stream",
     "text": [
      "original_firstorder_90Percentile                     float64\n",
      "original_firstorder_Minimum                          float64\n",
      "original_glcm_Idmn                                   float64\n",
      "original_gldm_SmallDependenceLowGrayLevelEmphasis    float64\n",
      "original_glrlm_RunEntropy                            float64\n",
      "original_mean_b                                      float64\n",
      "original_mean_g                                      float64\n",
      "original_mean_r                                      float64\n",
      "original_shape2D_Elongation                          float64\n",
      "original_shape2D_MaximumDiameter                     float64\n",
      "original_shape2D_Sphericity                          float64\n",
      "original_std_b                                       float64\n",
      "original_std_g                                       float64\n",
      "original_std_r                                       float64\n",
      "categories                                           float64\n",
      "dtype: object\n"
     ]
    }
   ],
   "source": [
    "print(df.dtypes)\n"
   ]
  },
  {
   "cell_type": "code",
   "execution_count": 26,
   "id": "302d27e7",
   "metadata": {},
   "outputs": [],
   "source": [
    "df['categories'] = df['categories'].astype(int)\n"
   ]
  },
  {
   "cell_type": "code",
   "execution_count": 27,
   "id": "4b68f7a1",
   "metadata": {},
   "outputs": [
    {
     "name": "stdout",
     "output_type": "stream",
     "text": [
      "original_firstorder_90Percentile                     float64\n",
      "original_firstorder_Minimum                          float64\n",
      "original_glcm_Idmn                                   float64\n",
      "original_gldm_SmallDependenceLowGrayLevelEmphasis    float64\n",
      "original_glrlm_RunEntropy                            float64\n",
      "original_mean_b                                      float64\n",
      "original_mean_g                                      float64\n",
      "original_mean_r                                      float64\n",
      "original_shape2D_Elongation                          float64\n",
      "original_shape2D_MaximumDiameter                     float64\n",
      "original_shape2D_Sphericity                          float64\n",
      "original_std_b                                       float64\n",
      "original_std_g                                       float64\n",
      "original_std_r                                       float64\n",
      "categories                                             int64\n",
      "dtype: object\n"
     ]
    }
   ],
   "source": [
    "print(df.dtypes)\n"
   ]
  },
  {
   "cell_type": "code",
   "execution_count": 28,
   "id": "0eb743d3",
   "metadata": {},
   "outputs": [],
   "source": [
    "df.to_csv('../Datasets/selectedAlll.csv')\n"
   ]
  },
  {
   "cell_type": "code",
   "execution_count": null,
   "id": "b5daa2ff",
   "metadata": {},
   "outputs": [],
   "source": []
  }
 ],
 "metadata": {
  "kernelspec": {
   "display_name": "Python 3 (ipykernel)",
   "language": "python",
   "name": "python3"
  },
  "language_info": {
   "codemirror_mode": {
    "name": "ipython",
    "version": 3
   },
   "file_extension": ".py",
   "mimetype": "text/x-python",
   "name": "python",
   "nbconvert_exporter": "python",
   "pygments_lexer": "ipython3",
   "version": "3.9.18"
  }
 },
 "nbformat": 4,
 "nbformat_minor": 5
}

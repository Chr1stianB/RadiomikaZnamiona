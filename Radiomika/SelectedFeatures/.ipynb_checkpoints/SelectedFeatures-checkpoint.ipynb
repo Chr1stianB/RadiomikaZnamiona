{
 "cells": [
  {
   "cell_type": "code",
   "execution_count": 1,
   "id": "6abbc6c7",
   "metadata": {},
   "outputs": [],
   "source": [
    "import pandas as pd\n",
    "import os\n",
    "from imutils import paths\n",
    "import numpy as np\n",
    "from sklearn.preprocessing import StandardScaler\n",
    "from sklearn.pipeline import Pipeline\n",
    "from sklearn.model_selection import train_test_split, GridSearchCV\n",
    "from sklearn.linear_model import Lasso\n",
    "import radiomics\n",
    "from radiomics import featureextractor  # This module is used for interaction with pyradiomics\n",
    "from PIL import Image\n",
    "import SimpleITK as sitk\n",
    "import cv2\n",
    "from collections import Counter\n",
    "import random\n",
    "import itertools\n"
   ]
  },
  {
   "cell_type": "code",
   "execution_count": 2,
   "id": "d6b6fe6a",
   "metadata": {},
   "outputs": [],
   "source": [
    "def color_extraction(img):\n",
    "    b, g, r = cv2.split(img)\n",
    "    mean_b, std_b = cv2.meanStdDev(b)\n",
    "    mean_g, std_g = cv2.meanStdDev(g)\n",
    "    mean_r, std_r = cv2.meanStdDev(r)\n",
    "    return {\"mean_b\": mean_b, \"std_b\": std_b, \"mean_g\": mean_g, \"std_g\": std_g, \"mean_r\": mean_r, \"std_r\": std_r,}\n",
    "    "
   ]
  },
  {
   "cell_type": "code",
   "execution_count": 3,
   "id": "4695fa87",
   "metadata": {},
   "outputs": [],
   "source": [
    "DATASET_PATH = \"../Datasets/ham1000-segmentation-and-classification\"\n",
    "path = \"../Datasets/new_data\"\n",
    "CSV_FILE_PATH = os.path.join(DATASET_PATH, \"GroundTruth.csv\")\n",
    "IMAGE_DATASET_PATH = os.path.join(path, \"images/\")\n",
    "MASK_DATASET_PATH = os.path.join(path, \"masks/\")\n",
    "params = '../Datasets/Selected.yaml'\n"
   ]
  },
  {
   "cell_type": "code",
   "execution_count": 4,
   "id": "1d50968e",
   "metadata": {},
   "outputs": [],
   "source": [
    "imagePaths = sorted(list(paths.list_images(IMAGE_DATASET_PATH)))\n",
    "maskPaths = sorted(list(paths.list_images(MASK_DATASET_PATH)))\n",
    "extractor = featureextractor.RadiomicsFeatureExtractor(params)\n"
   ]
  },
  {
   "cell_type": "code",
   "execution_count": 5,
   "id": "bf93bdad",
   "metadata": {},
   "outputs": [
    {
     "name": "stdout",
     "output_type": "stream",
     "text": [
      "0\n",
      "1000\n",
      "2000\n",
      "3000\n",
      "4000\n",
      "5000\n",
      "6000\n",
      "7000\n",
      "8000\n",
      "9000\n",
      "10000\n"
     ]
    }
   ],
   "source": [
    "results = []\n",
    "features = {}\n",
    "\n",
    "for i in range(len(imagePaths)):\n",
    "    path_original = imagePaths[i]\n",
    "    path_label = maskPaths[i]\n",
    "    original = cv2.imread(path_original)\n",
    "    label = cv2.imread(path_label, 0)\n",
    "    \n",
    "    # Expand dimensions of mask array\n",
    "    y = np.expand_dims(label, axis=2)\n",
    "    newmask = np.concatenate((y, y, y), axis=2)\n",
    "    \n",
    "    # Multiply new mask with image\n",
    "    cob = original * newmask\n",
    "    \n",
    "    dictionary = color_extraction(cob)\n",
    "    original = cv2.cvtColor(original, cv2.COLOR_RGB2GRAY)\n",
    "    original = Image.fromarray(original, \"L\")\n",
    "    original.save(\"original.png\")\n",
    "    \n",
    "    label = Image.fromarray(label, \"L\")\n",
    "    label.save(\"label.png\")\n",
    "    result = extractor.execute(\"original.png\", path_label)\n",
    "    \n",
    "    result['original_mean_b'] = dictionary['mean_b']\n",
    "    result['original_std_b'] = dictionary['std_b']\n",
    "    result['original_mean_g'] = dictionary['mean_g']\n",
    "    result['original_std_g'] = dictionary['std_g']\n",
    "    result['original_mean_r'] = dictionary['mean_r']\n",
    "    result['original_std_r'] = dictionary['std_r']\n",
    "    results.append(result)\n",
    "    \n",
    "    if i % 1000 == 0:\n",
    "        print(i)\n",
    "    \n",
    "feature_names = list(sorted(filter ( lambda k: k.startswith(\"original_\"), results[0] )))\n"
   ]
  },
  {
   "cell_type": "code",
   "execution_count": 6,
   "id": "e1373039",
   "metadata": {},
   "outputs": [],
   "source": [
    "lesion_dict = {\n",
    "    \"MEL\": 0, \n",
    "    \"NV\": 1,\n",
    "    \"BCC\": 2,\n",
    "    \"AKIEC\": 3,\n",
    "    \"BKL\": 4,\n",
    "    \"DF\": 5,\n",
    "    \"VASC\": 6\n",
    "}\n",
    "\n",
    "df = pd.read_csv(CSV_FILE_PATH)\n",
    "categories = []\n",
    "for index, row in df.iterrows():\n",
    "    if row.eq(1).any():\n",
    "        categories.append(lesion_dict[row[row.eq(1)].index[0]])\n",
    "        categories.append(lesion_dict[row[row.eq(1)].index[0]])\n",
    "        categories.append(lesion_dict[row[row.eq(1)].index[0]])\n",
    "        categories.append(lesion_dict[row[row.eq(1)].index[0]])\n",
    "        categories.append(lesion_dict[row[row.eq(1)].index[0]])\n",
    "        categories.append(lesion_dict[row[row.eq(1)].index[0]])\n",
    "        "
   ]
  },
  {
   "cell_type": "code",
   "execution_count": 7,
   "id": "5601a1c0",
   "metadata": {},
   "outputs": [],
   "source": [
    "samples = np.zeros((len(imagePaths),len(feature_names)))\n",
    "for case_id in range(0 ,len(imagePaths)):\n",
    "    a = np.array([])\n",
    "    for feature_name in feature_names:\n",
    "        a = np.append(a, results[case_id][feature_name])\n",
    "    samples[case_id,:] = a\n",
    "    \n",
    "# May have NaNs\n",
    "samples = np.nan_to_num(samples)\n"
   ]
  },
  {
   "cell_type": "code",
   "execution_count": 8,
   "id": "0e28d8cc",
   "metadata": {},
   "outputs": [
    {
     "data": {
      "text/plain": [
       "['original_firstorder_90Percentile',\n",
       " 'original_firstorder_Mean',\n",
       " 'original_firstorder_Minimum',\n",
       " 'original_glcm_Idmn',\n",
       " 'original_glrlm_RunEntropy',\n",
       " 'original_glszm_LargeAreaLowGrayLevelEmphasis',\n",
       " 'original_glszm_SizeZoneNonUniformityNormalized',\n",
       " 'original_mean_b',\n",
       " 'original_mean_g',\n",
       " 'original_mean_r',\n",
       " 'original_shape2D_Elongation',\n",
       " 'original_shape2D_Sphericity',\n",
       " 'original_std_b',\n",
       " 'original_std_g',\n",
       " 'original_std_r']"
      ]
     },
     "execution_count": 8,
     "metadata": {},
     "output_type": "execute_result"
    }
   ],
   "source": [
    "feature_names\n"
   ]
  },
  {
   "cell_type": "code",
   "execution_count": 9,
   "id": "5cb1e915",
   "metadata": {},
   "outputs": [
    {
     "data": {
      "text/plain": [
       "10013"
      ]
     },
     "execution_count": 9,
     "metadata": {},
     "output_type": "execute_result"
    }
   ],
   "source": [
    "len(categories)\n"
   ]
  },
  {
   "cell_type": "code",
   "execution_count": 10,
   "id": "5f262d74",
   "metadata": {},
   "outputs": [
    {
     "data": {
      "text/plain": [
       "Counter({1: 6705, 0: 1112, 4: 1098, 5: 115, 3: 327, 2: 514, 6: 142})"
      ]
     },
     "execution_count": 10,
     "metadata": {},
     "output_type": "execute_result"
    }
   ],
   "source": [
    "Counter(categories)\n"
   ]
  },
  {
   "cell_type": "code",
   "execution_count": 11,
   "id": "a5a0d33a",
   "metadata": {},
   "outputs": [],
   "source": [
    "new_lesion_dict = {\n",
    "    0: [], \n",
    "    1: [],\n",
    "    2: [],\n",
    "    3: [],\n",
    "    4: [],\n",
    "    5: [],\n",
    "    6: []\n",
    "}\n",
    "\n",
    "for i in range(len(categories)):\n",
    "    new_lesion_dict[categories[i]].append(samples[i])\n",
    "        "
   ]
  },
  {
   "cell_type": "code",
   "execution_count": 12,
   "id": "d5f06af8",
   "metadata": {},
   "outputs": [
    {
     "data": {
      "text/plain": [
       "6705"
      ]
     },
     "execution_count": 12,
     "metadata": {},
     "output_type": "execute_result"
    }
   ],
   "source": [
    "len(new_lesion_dict[1])"
   ]
  },
  {
   "cell_type": "code",
   "execution_count": 13,
   "id": "9d496990",
   "metadata": {},
   "outputs": [
    {
     "name": "stdout",
     "output_type": "stream",
     "text": [
      "1112\n",
      "6705\n",
      "514\n",
      "327\n",
      "1098\n",
      "115\n",
      "142\n"
     ]
    }
   ],
   "source": [
    "X =[]\n",
    "y = []\n",
    "#for category in new_lesion_dict:\n",
    "    #print(len(new_lesion_dict[category]))\n",
    "    #for i in range(len(new_lesion_dict[category])):\n",
    "        #X.append(new_lesion_dict[category][i])\n",
    "        #y.append(category)\n",
    "X =[]\n",
    "y = []\n",
    "for category in new_lesion_dict:\n",
    "    for i in range(690):\n",
    "        X.append(new_lesion_dict[category][i])\n",
    "        y.append(category)\n",
    "        \n",
    "    \n",
    "temp = list(zip(X, y))\n",
    "random.shuffle(temp)\n",
    "res1, res2 = zip(*temp)\n",
    "# res1 and res2 come out as tuples, and so must be converted to lists.\n",
    "X, y = list(res1), list(res2)\n"
   ]
  },
  {
   "cell_type": "code",
   "execution_count": 14,
   "id": "35546a67",
   "metadata": {},
   "outputs": [],
   "source": [
    "df = pd.DataFrame()\n"
   ]
  },
  {
   "cell_type": "code",
   "execution_count": 15,
   "id": "a60c647e",
   "metadata": {},
   "outputs": [],
   "source": [
    "column_names = feature_names.copy()\n"
   ]
  },
  {
   "cell_type": "code",
   "execution_count": 16,
   "id": "1aa949e4",
   "metadata": {},
   "outputs": [],
   "source": [
    "column_names.append('categories')\n"
   ]
  },
  {
   "cell_type": "code",
   "execution_count": 17,
   "id": "4b5d4c6e",
   "metadata": {},
   "outputs": [],
   "source": [
    "for col in column_names:\n",
    "    df[col] = []\n",
    "    "
   ]
  },
  {
   "cell_type": "code",
   "execution_count": 18,
   "id": "d64f9614",
   "metadata": {},
   "outputs": [
    {
     "data": {
      "text/html": [
       "<div>\n",
       "<style scoped>\n",
       "    .dataframe tbody tr th:only-of-type {\n",
       "        vertical-align: middle;\n",
       "    }\n",
       "\n",
       "    .dataframe tbody tr th {\n",
       "        vertical-align: top;\n",
       "    }\n",
       "\n",
       "    .dataframe thead th {\n",
       "        text-align: right;\n",
       "    }\n",
       "</style>\n",
       "<table border=\"1\" class=\"dataframe\">\n",
       "  <thead>\n",
       "    <tr style=\"text-align: right;\">\n",
       "      <th></th>\n",
       "      <th>original_firstorder_90Percentile</th>\n",
       "      <th>original_firstorder_Mean</th>\n",
       "      <th>original_firstorder_Minimum</th>\n",
       "      <th>original_glcm_Idmn</th>\n",
       "      <th>original_glrlm_RunEntropy</th>\n",
       "      <th>original_glszm_LargeAreaLowGrayLevelEmphasis</th>\n",
       "      <th>original_glszm_SizeZoneNonUniformityNormalized</th>\n",
       "      <th>original_mean_b</th>\n",
       "      <th>original_mean_g</th>\n",
       "      <th>original_mean_r</th>\n",
       "      <th>original_shape2D_Elongation</th>\n",
       "      <th>original_shape2D_Sphericity</th>\n",
       "      <th>original_std_b</th>\n",
       "      <th>original_std_g</th>\n",
       "      <th>original_std_r</th>\n",
       "      <th>categories</th>\n",
       "    </tr>\n",
       "  </thead>\n",
       "  <tbody>\n",
       "  </tbody>\n",
       "</table>\n",
       "</div>"
      ],
      "text/plain": [
       "Empty DataFrame\n",
       "Columns: [original_firstorder_90Percentile, original_firstorder_Mean, original_firstorder_Minimum, original_glcm_Idmn, original_glrlm_RunEntropy, original_glszm_LargeAreaLowGrayLevelEmphasis, original_glszm_SizeZoneNonUniformityNormalized, original_mean_b, original_mean_g, original_mean_r, original_shape2D_Elongation, original_shape2D_Sphericity, original_std_b, original_std_g, original_std_r, categories]\n",
       "Index: []"
      ]
     },
     "execution_count": 18,
     "metadata": {},
     "output_type": "execute_result"
    }
   ],
   "source": [
    "df\n"
   ]
  },
  {
   "cell_type": "code",
   "execution_count": 19,
   "id": "fac75497",
   "metadata": {},
   "outputs": [],
   "source": [
    "list_of_arrays = X.copy()\n",
    "single_list = y.copy()\n"
   ]
  },
  {
   "cell_type": "code",
   "execution_count": 20,
   "id": "97e530b9",
   "metadata": {},
   "outputs": [
    {
     "data": {
      "text/plain": [
       "15"
      ]
     },
     "execution_count": 20,
     "metadata": {},
     "output_type": "execute_result"
    }
   ],
   "source": [
    "len(list_of_arrays[0])\n"
   ]
  },
  {
   "cell_type": "code",
   "execution_count": 21,
   "id": "9a73cd0c",
   "metadata": {},
   "outputs": [],
   "source": [
    "for i in range(len(list_of_arrays)):\n",
    "    if i < len(single_list):\n",
    "        list_of_arrays[i] = np.append(list_of_arrays[i], single_list[i])\n"
   ]
  },
  {
   "cell_type": "code",
   "execution_count": 22,
   "id": "6e615bee",
   "metadata": {},
   "outputs": [
    {
     "data": {
      "text/plain": [
       "16"
      ]
     },
     "execution_count": 22,
     "metadata": {},
     "output_type": "execute_result"
    }
   ],
   "source": [
    "len(list_of_arrays[0])\n"
   ]
  },
  {
   "cell_type": "code",
   "execution_count": 23,
   "id": "0d7020f6",
   "metadata": {},
   "outputs": [
    {
     "name": "stderr",
     "output_type": "stream",
     "text": [
      "/var/folders/8m/1npctfws7dnc_lbx3mhg9kdc0000gn/T/ipykernel_1757/1253535266.py:2: FutureWarning: The frame.append method is deprecated and will be removed from pandas in a future version. Use pandas.concat instead.\n",
      "  df = df.append(pd.DataFrame([array], columns=df.columns), ignore_index=True)\n"
     ]
    }
   ],
   "source": [
    "for array in list_of_arrays:\n",
    "    df = df.append(pd.DataFrame([array], columns=df.columns), ignore_index=True)\n",
    "    \n"
   ]
  },
  {
   "cell_type": "code",
   "execution_count": 24,
   "id": "2fd1c925",
   "metadata": {},
   "outputs": [
    {
     "data": {
      "text/html": [
       "<div>\n",
       "<style scoped>\n",
       "    .dataframe tbody tr th:only-of-type {\n",
       "        vertical-align: middle;\n",
       "    }\n",
       "\n",
       "    .dataframe tbody tr th {\n",
       "        vertical-align: top;\n",
       "    }\n",
       "\n",
       "    .dataframe thead th {\n",
       "        text-align: right;\n",
       "    }\n",
       "</style>\n",
       "<table border=\"1\" class=\"dataframe\">\n",
       "  <thead>\n",
       "    <tr style=\"text-align: right;\">\n",
       "      <th></th>\n",
       "      <th>original_firstorder_90Percentile</th>\n",
       "      <th>original_firstorder_Mean</th>\n",
       "      <th>original_firstorder_Minimum</th>\n",
       "      <th>original_glcm_Idmn</th>\n",
       "      <th>original_glrlm_RunEntropy</th>\n",
       "      <th>original_glszm_LargeAreaLowGrayLevelEmphasis</th>\n",
       "      <th>original_glszm_SizeZoneNonUniformityNormalized</th>\n",
       "      <th>original_mean_b</th>\n",
       "      <th>original_mean_g</th>\n",
       "      <th>original_mean_r</th>\n",
       "      <th>original_shape2D_Elongation</th>\n",
       "      <th>original_shape2D_Sphericity</th>\n",
       "      <th>original_std_b</th>\n",
       "      <th>original_std_g</th>\n",
       "      <th>original_std_r</th>\n",
       "      <th>categories</th>\n",
       "    </tr>\n",
       "  </thead>\n",
       "  <tbody>\n",
       "    <tr>\n",
       "      <th>0</th>\n",
       "      <td>148.0</td>\n",
       "      <td>99.254402</td>\n",
       "      <td>39.0</td>\n",
       "      <td>0.998102</td>\n",
       "      <td>6.515257</td>\n",
       "      <td>210230.762877</td>\n",
       "      <td>0.247313</td>\n",
       "      <td>30.140707</td>\n",
       "      <td>31.670589</td>\n",
       "      <td>19.905767</td>\n",
       "      <td>0.737379</td>\n",
       "      <td>0.891482</td>\n",
       "      <td>64.322458</td>\n",
       "      <td>66.687304</td>\n",
       "      <td>42.119899</td>\n",
       "      <td>1.0</td>\n",
       "    </tr>\n",
       "    <tr>\n",
       "      <th>1</th>\n",
       "      <td>169.0</td>\n",
       "      <td>129.821464</td>\n",
       "      <td>46.0</td>\n",
       "      <td>0.996646</td>\n",
       "      <td>5.668175</td>\n",
       "      <td>46729.427985</td>\n",
       "      <td>0.188598</td>\n",
       "      <td>81.407378</td>\n",
       "      <td>82.996719</td>\n",
       "      <td>46.094541</td>\n",
       "      <td>0.833797</td>\n",
       "      <td>0.785082</td>\n",
       "      <td>69.759356</td>\n",
       "      <td>68.239332</td>\n",
       "      <td>38.502182</td>\n",
       "      <td>4.0</td>\n",
       "    </tr>\n",
       "    <tr>\n",
       "      <th>2</th>\n",
       "      <td>146.0</td>\n",
       "      <td>119.164401</td>\n",
       "      <td>6.0</td>\n",
       "      <td>0.998160</td>\n",
       "      <td>5.931788</td>\n",
       "      <td>42756.840432</td>\n",
       "      <td>0.170025</td>\n",
       "      <td>59.306811</td>\n",
       "      <td>58.282089</td>\n",
       "      <td>37.539581</td>\n",
       "      <td>0.705322</td>\n",
       "      <td>0.881772</td>\n",
       "      <td>73.008919</td>\n",
       "      <td>71.310602</td>\n",
       "      <td>46.689367</td>\n",
       "      <td>4.0</td>\n",
       "    </tr>\n",
       "    <tr>\n",
       "      <th>3</th>\n",
       "      <td>146.0</td>\n",
       "      <td>91.100573</td>\n",
       "      <td>4.0</td>\n",
       "      <td>0.988422</td>\n",
       "      <td>5.048103</td>\n",
       "      <td>914.436754</td>\n",
       "      <td>0.278598</td>\n",
       "      <td>62.227933</td>\n",
       "      <td>62.854141</td>\n",
       "      <td>28.881063</td>\n",
       "      <td>0.855238</td>\n",
       "      <td>0.908769</td>\n",
       "      <td>87.420585</td>\n",
       "      <td>87.465697</td>\n",
       "      <td>46.377623</td>\n",
       "      <td>1.0</td>\n",
       "    </tr>\n",
       "    <tr>\n",
       "      <th>4</th>\n",
       "      <td>140.0</td>\n",
       "      <td>96.717312</td>\n",
       "      <td>40.0</td>\n",
       "      <td>0.995057</td>\n",
       "      <td>5.972747</td>\n",
       "      <td>67457.563352</td>\n",
       "      <td>0.153656</td>\n",
       "      <td>24.606481</td>\n",
       "      <td>24.866707</td>\n",
       "      <td>9.157274</td>\n",
       "      <td>0.958171</td>\n",
       "      <td>0.909431</td>\n",
       "      <td>61.029002</td>\n",
       "      <td>61.595477</td>\n",
       "      <td>24.156567</td>\n",
       "      <td>1.0</td>\n",
       "    </tr>\n",
       "    <tr>\n",
       "      <th>...</th>\n",
       "      <td>...</td>\n",
       "      <td>...</td>\n",
       "      <td>...</td>\n",
       "      <td>...</td>\n",
       "      <td>...</td>\n",
       "      <td>...</td>\n",
       "      <td>...</td>\n",
       "      <td>...</td>\n",
       "      <td>...</td>\n",
       "      <td>...</td>\n",
       "      <td>...</td>\n",
       "      <td>...</td>\n",
       "      <td>...</td>\n",
       "      <td>...</td>\n",
       "      <td>...</td>\n",
       "      <td>...</td>\n",
       "    </tr>\n",
       "    <tr>\n",
       "      <th>10008</th>\n",
       "      <td>166.0</td>\n",
       "      <td>137.063923</td>\n",
       "      <td>76.0</td>\n",
       "      <td>0.996143</td>\n",
       "      <td>6.398813</td>\n",
       "      <td>295116.983208</td>\n",
       "      <td>0.303367</td>\n",
       "      <td>36.924407</td>\n",
       "      <td>33.732044</td>\n",
       "      <td>12.358352</td>\n",
       "      <td>0.867718</td>\n",
       "      <td>0.881203</td>\n",
       "      <td>61.864557</td>\n",
       "      <td>56.710330</td>\n",
       "      <td>22.003950</td>\n",
       "      <td>1.0</td>\n",
       "    </tr>\n",
       "    <tr>\n",
       "      <th>10009</th>\n",
       "      <td>160.0</td>\n",
       "      <td>127.688868</td>\n",
       "      <td>49.0</td>\n",
       "      <td>0.998259</td>\n",
       "      <td>6.887382</td>\n",
       "      <td>299867.977296</td>\n",
       "      <td>0.137681</td>\n",
       "      <td>74.559774</td>\n",
       "      <td>89.956778</td>\n",
       "      <td>49.707326</td>\n",
       "      <td>0.607779</td>\n",
       "      <td>0.757822</td>\n",
       "      <td>61.733552</td>\n",
       "      <td>71.514754</td>\n",
       "      <td>40.302658</td>\n",
       "      <td>2.0</td>\n",
       "    </tr>\n",
       "    <tr>\n",
       "      <th>10010</th>\n",
       "      <td>175.0</td>\n",
       "      <td>162.460995</td>\n",
       "      <td>90.0</td>\n",
       "      <td>0.997280</td>\n",
       "      <td>5.775538</td>\n",
       "      <td>166538.871918</td>\n",
       "      <td>0.214932</td>\n",
       "      <td>16.509848</td>\n",
       "      <td>15.387678</td>\n",
       "      <td>6.015959</td>\n",
       "      <td>0.710822</td>\n",
       "      <td>0.902451</td>\n",
       "      <td>38.901595</td>\n",
       "      <td>36.021534</td>\n",
       "      <td>14.122041</td>\n",
       "      <td>2.0</td>\n",
       "    </tr>\n",
       "    <tr>\n",
       "      <th>10011</th>\n",
       "      <td>120.0</td>\n",
       "      <td>65.306072</td>\n",
       "      <td>15.0</td>\n",
       "      <td>0.997522</td>\n",
       "      <td>6.513638</td>\n",
       "      <td>546518.311433</td>\n",
       "      <td>0.181826</td>\n",
       "      <td>67.531122</td>\n",
       "      <td>67.076107</td>\n",
       "      <td>46.509222</td>\n",
       "      <td>0.387973</td>\n",
       "      <td>0.790726</td>\n",
       "      <td>96.695735</td>\n",
       "      <td>95.435751</td>\n",
       "      <td>66.496983</td>\n",
       "      <td>1.0</td>\n",
       "    </tr>\n",
       "    <tr>\n",
       "      <th>10012</th>\n",
       "      <td>200.0</td>\n",
       "      <td>146.662849</td>\n",
       "      <td>77.0</td>\n",
       "      <td>0.995080</td>\n",
       "      <td>5.802243</td>\n",
       "      <td>26683.956786</td>\n",
       "      <td>0.256214</td>\n",
       "      <td>13.129604</td>\n",
       "      <td>13.005444</td>\n",
       "      <td>6.836781</td>\n",
       "      <td>0.651959</td>\n",
       "      <td>0.875357</td>\n",
       "      <td>39.010157</td>\n",
       "      <td>38.556931</td>\n",
       "      <td>20.968006</td>\n",
       "      <td>4.0</td>\n",
       "    </tr>\n",
       "  </tbody>\n",
       "</table>\n",
       "<p>10013 rows × 16 columns</p>\n",
       "</div>"
      ],
      "text/plain": [
       "       original_firstorder_90Percentile  original_firstorder_Mean  \\\n",
       "0                                 148.0                 99.254402   \n",
       "1                                 169.0                129.821464   \n",
       "2                                 146.0                119.164401   \n",
       "3                                 146.0                 91.100573   \n",
       "4                                 140.0                 96.717312   \n",
       "...                                 ...                       ...   \n",
       "10008                             166.0                137.063923   \n",
       "10009                             160.0                127.688868   \n",
       "10010                             175.0                162.460995   \n",
       "10011                             120.0                 65.306072   \n",
       "10012                             200.0                146.662849   \n",
       "\n",
       "       original_firstorder_Minimum  original_glcm_Idmn  \\\n",
       "0                             39.0            0.998102   \n",
       "1                             46.0            0.996646   \n",
       "2                              6.0            0.998160   \n",
       "3                              4.0            0.988422   \n",
       "4                             40.0            0.995057   \n",
       "...                            ...                 ...   \n",
       "10008                         76.0            0.996143   \n",
       "10009                         49.0            0.998259   \n",
       "10010                         90.0            0.997280   \n",
       "10011                         15.0            0.997522   \n",
       "10012                         77.0            0.995080   \n",
       "\n",
       "       original_glrlm_RunEntropy  \\\n",
       "0                       6.515257   \n",
       "1                       5.668175   \n",
       "2                       5.931788   \n",
       "3                       5.048103   \n",
       "4                       5.972747   \n",
       "...                          ...   \n",
       "10008                   6.398813   \n",
       "10009                   6.887382   \n",
       "10010                   5.775538   \n",
       "10011                   6.513638   \n",
       "10012                   5.802243   \n",
       "\n",
       "       original_glszm_LargeAreaLowGrayLevelEmphasis  \\\n",
       "0                                     210230.762877   \n",
       "1                                      46729.427985   \n",
       "2                                      42756.840432   \n",
       "3                                        914.436754   \n",
       "4                                      67457.563352   \n",
       "...                                             ...   \n",
       "10008                                 295116.983208   \n",
       "10009                                 299867.977296   \n",
       "10010                                 166538.871918   \n",
       "10011                                 546518.311433   \n",
       "10012                                  26683.956786   \n",
       "\n",
       "       original_glszm_SizeZoneNonUniformityNormalized  original_mean_b  \\\n",
       "0                                            0.247313        30.140707   \n",
       "1                                            0.188598        81.407378   \n",
       "2                                            0.170025        59.306811   \n",
       "3                                            0.278598        62.227933   \n",
       "4                                            0.153656        24.606481   \n",
       "...                                               ...              ...   \n",
       "10008                                        0.303367        36.924407   \n",
       "10009                                        0.137681        74.559774   \n",
       "10010                                        0.214932        16.509848   \n",
       "10011                                        0.181826        67.531122   \n",
       "10012                                        0.256214        13.129604   \n",
       "\n",
       "       original_mean_g  original_mean_r  original_shape2D_Elongation  \\\n",
       "0            31.670589        19.905767                     0.737379   \n",
       "1            82.996719        46.094541                     0.833797   \n",
       "2            58.282089        37.539581                     0.705322   \n",
       "3            62.854141        28.881063                     0.855238   \n",
       "4            24.866707         9.157274                     0.958171   \n",
       "...                ...              ...                          ...   \n",
       "10008        33.732044        12.358352                     0.867718   \n",
       "10009        89.956778        49.707326                     0.607779   \n",
       "10010        15.387678         6.015959                     0.710822   \n",
       "10011        67.076107        46.509222                     0.387973   \n",
       "10012        13.005444         6.836781                     0.651959   \n",
       "\n",
       "       original_shape2D_Sphericity  original_std_b  original_std_g  \\\n",
       "0                         0.891482       64.322458       66.687304   \n",
       "1                         0.785082       69.759356       68.239332   \n",
       "2                         0.881772       73.008919       71.310602   \n",
       "3                         0.908769       87.420585       87.465697   \n",
       "4                         0.909431       61.029002       61.595477   \n",
       "...                            ...             ...             ...   \n",
       "10008                     0.881203       61.864557       56.710330   \n",
       "10009                     0.757822       61.733552       71.514754   \n",
       "10010                     0.902451       38.901595       36.021534   \n",
       "10011                     0.790726       96.695735       95.435751   \n",
       "10012                     0.875357       39.010157       38.556931   \n",
       "\n",
       "       original_std_r  categories  \n",
       "0           42.119899         1.0  \n",
       "1           38.502182         4.0  \n",
       "2           46.689367         4.0  \n",
       "3           46.377623         1.0  \n",
       "4           24.156567         1.0  \n",
       "...               ...         ...  \n",
       "10008       22.003950         1.0  \n",
       "10009       40.302658         2.0  \n",
       "10010       14.122041         2.0  \n",
       "10011       66.496983         1.0  \n",
       "10012       20.968006         4.0  \n",
       "\n",
       "[10013 rows x 16 columns]"
      ]
     },
     "execution_count": 24,
     "metadata": {},
     "output_type": "execute_result"
    }
   ],
   "source": [
    "df\n"
   ]
  },
  {
   "cell_type": "code",
   "execution_count": 25,
   "id": "6eefaf60",
   "metadata": {},
   "outputs": [
    {
     "name": "stdout",
     "output_type": "stream",
     "text": [
      "original_firstorder_90Percentile                  float64\n",
      "original_firstorder_Mean                          float64\n",
      "original_firstorder_Minimum                       float64\n",
      "original_glcm_Idmn                                float64\n",
      "original_glrlm_RunEntropy                         float64\n",
      "original_glszm_LargeAreaLowGrayLevelEmphasis      float64\n",
      "original_glszm_SizeZoneNonUniformityNormalized    float64\n",
      "original_mean_b                                   float64\n",
      "original_mean_g                                   float64\n",
      "original_mean_r                                   float64\n",
      "original_shape2D_Elongation                       float64\n",
      "original_shape2D_Sphericity                       float64\n",
      "original_std_b                                    float64\n",
      "original_std_g                                    float64\n",
      "original_std_r                                    float64\n",
      "categories                                        float64\n",
      "dtype: object\n"
     ]
    }
   ],
   "source": [
    "print(df.dtypes)\n"
   ]
  },
  {
   "cell_type": "code",
   "execution_count": 26,
   "id": "302d27e7",
   "metadata": {},
   "outputs": [],
   "source": [
    "df['categories'] = df['categories'].astype(int)\n"
   ]
  },
  {
   "cell_type": "code",
   "execution_count": 27,
   "id": "4b68f7a1",
   "metadata": {},
   "outputs": [
    {
     "name": "stdout",
     "output_type": "stream",
     "text": [
      "original_firstorder_90Percentile                  float64\n",
      "original_firstorder_Mean                          float64\n",
      "original_firstorder_Minimum                       float64\n",
      "original_glcm_Idmn                                float64\n",
      "original_glrlm_RunEntropy                         float64\n",
      "original_glszm_LargeAreaLowGrayLevelEmphasis      float64\n",
      "original_glszm_SizeZoneNonUniformityNormalized    float64\n",
      "original_mean_b                                   float64\n",
      "original_mean_g                                   float64\n",
      "original_mean_r                                   float64\n",
      "original_shape2D_Elongation                       float64\n",
      "original_shape2D_Sphericity                       float64\n",
      "original_std_b                                    float64\n",
      "original_std_g                                    float64\n",
      "original_std_r                                    float64\n",
      "categories                                          int64\n",
      "dtype: object\n"
     ]
    }
   ],
   "source": [
    "print(df.dtypes)\n"
   ]
  },
  {
   "cell_type": "code",
   "execution_count": 28,
   "id": "0eb743d3",
   "metadata": {},
   "outputs": [],
   "source": [
    "df.to_csv('../Datasets/selectedAlll.csv')\n"
   ]
  },
  {
   "cell_type": "code",
   "execution_count": null,
   "id": "b5daa2ff",
   "metadata": {},
   "outputs": [],
   "source": []
  }
 ],
 "metadata": {
  "kernelspec": {
   "display_name": "Python 3 (ipykernel)",
   "language": "python",
   "name": "python3"
  },
  "language_info": {
   "codemirror_mode": {
    "name": "ipython",
    "version": 3
   },
   "file_extension": ".py",
   "mimetype": "text/x-python",
   "name": "python",
   "nbconvert_exporter": "python",
   "pygments_lexer": "ipython3",
   "version": "3.11.4"
  }
 },
 "nbformat": 4,
 "nbformat_minor": 5
}
